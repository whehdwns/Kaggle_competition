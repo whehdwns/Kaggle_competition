{
 "cells": [
  {
   "cell_type": "code",
   "execution_count": 1,
   "id": "d1cc6508",
   "metadata": {},
   "outputs": [],
   "source": [
    "import numpy as np # linear algebra\n",
    "import pandas as pd # data processing, CSV file I/O (e.g. pd.read_csv)\n",
    "import matplotlib.pyplot as plt\n",
    "import warnings\n",
    "import seaborn as sns\n",
    "import os\n",
    "import glob\n",
    "warnings.filterwarnings('ignore')"
   ]
  },
  {
   "cell_type": "code",
   "execution_count": 2,
   "id": "840d9963",
   "metadata": {},
   "outputs": [],
   "source": [
    "path = os.getcwd()\n",
    "all_files = glob.glob(path + \"/tabular-playground-series-aug-2022/*.csv\")\n",
    "filesnames = os.listdir('tabular-playground-series-aug-2022/')"
   ]
  },
  {
   "cell_type": "code",
   "execution_count": 3,
   "id": "dfe96386",
   "metadata": {},
   "outputs": [
    {
     "data": {
      "text/plain": [
       "['C:\\\\Users\\\\dongj\\\\Desktop\\\\Analysis_Visualization\\\\kaggle_analysis\\\\Tabular_Playground_Aug_22/tabular-playground-series-aug-2022\\\\sample_submission.csv',\n",
       " 'C:\\\\Users\\\\dongj\\\\Desktop\\\\Analysis_Visualization\\\\kaggle_analysis\\\\Tabular_Playground_Aug_22/tabular-playground-series-aug-2022\\\\test.csv',\n",
       " 'C:\\\\Users\\\\dongj\\\\Desktop\\\\Analysis_Visualization\\\\kaggle_analysis\\\\Tabular_Playground_Aug_22/tabular-playground-series-aug-2022\\\\train.csv']"
      ]
     },
     "execution_count": 3,
     "metadata": {},
     "output_type": "execute_result"
    }
   ],
   "source": [
    "all_files"
   ]
  },
  {
   "cell_type": "code",
   "execution_count": 4,
   "id": "0cd285dd",
   "metadata": {},
   "outputs": [],
   "source": [
    "train_df_orig = pd.read_csv(all_files[2])\n",
    "train_df = train_df_orig.copy()\n",
    "\n",
    "test_df_orig = pd.read_csv(all_files[1])\n",
    "test_df = test_df_orig.copy()"
   ]
  },
  {
   "cell_type": "code",
   "execution_count": 5,
   "id": "d6969d2c",
   "metadata": {},
   "outputs": [
    {
     "data": {
      "text/html": [
       "<div>\n",
       "<style scoped>\n",
       "    .dataframe tbody tr th:only-of-type {\n",
       "        vertical-align: middle;\n",
       "    }\n",
       "\n",
       "    .dataframe tbody tr th {\n",
       "        vertical-align: top;\n",
       "    }\n",
       "\n",
       "    .dataframe thead th {\n",
       "        text-align: right;\n",
       "    }\n",
       "</style>\n",
       "<table border=\"1\" class=\"dataframe\">\n",
       "  <thead>\n",
       "    <tr style=\"text-align: right;\">\n",
       "      <th></th>\n",
       "      <th>id</th>\n",
       "      <th>product_code</th>\n",
       "      <th>loading</th>\n",
       "      <th>attribute_0</th>\n",
       "      <th>attribute_1</th>\n",
       "      <th>attribute_2</th>\n",
       "      <th>attribute_3</th>\n",
       "      <th>measurement_0</th>\n",
       "      <th>measurement_1</th>\n",
       "      <th>measurement_2</th>\n",
       "      <th>...</th>\n",
       "      <th>measurement_9</th>\n",
       "      <th>measurement_10</th>\n",
       "      <th>measurement_11</th>\n",
       "      <th>measurement_12</th>\n",
       "      <th>measurement_13</th>\n",
       "      <th>measurement_14</th>\n",
       "      <th>measurement_15</th>\n",
       "      <th>measurement_16</th>\n",
       "      <th>measurement_17</th>\n",
       "      <th>failure</th>\n",
       "    </tr>\n",
       "  </thead>\n",
       "  <tbody>\n",
       "    <tr>\n",
       "      <th>0</th>\n",
       "      <td>0</td>\n",
       "      <td>A</td>\n",
       "      <td>80.10</td>\n",
       "      <td>material_7</td>\n",
       "      <td>material_8</td>\n",
       "      <td>9</td>\n",
       "      <td>5</td>\n",
       "      <td>7</td>\n",
       "      <td>8</td>\n",
       "      <td>4</td>\n",
       "      <td>...</td>\n",
       "      <td>10.672</td>\n",
       "      <td>15.859</td>\n",
       "      <td>17.594</td>\n",
       "      <td>15.193</td>\n",
       "      <td>15.029</td>\n",
       "      <td>NaN</td>\n",
       "      <td>13.034</td>\n",
       "      <td>14.684</td>\n",
       "      <td>764.100</td>\n",
       "      <td>0</td>\n",
       "    </tr>\n",
       "    <tr>\n",
       "      <th>1</th>\n",
       "      <td>1</td>\n",
       "      <td>A</td>\n",
       "      <td>84.89</td>\n",
       "      <td>material_7</td>\n",
       "      <td>material_8</td>\n",
       "      <td>9</td>\n",
       "      <td>5</td>\n",
       "      <td>14</td>\n",
       "      <td>3</td>\n",
       "      <td>3</td>\n",
       "      <td>...</td>\n",
       "      <td>12.448</td>\n",
       "      <td>17.947</td>\n",
       "      <td>17.915</td>\n",
       "      <td>11.755</td>\n",
       "      <td>14.732</td>\n",
       "      <td>15.425</td>\n",
       "      <td>14.395</td>\n",
       "      <td>15.631</td>\n",
       "      <td>682.057</td>\n",
       "      <td>0</td>\n",
       "    </tr>\n",
       "  </tbody>\n",
       "</table>\n",
       "<p>2 rows × 26 columns</p>\n",
       "</div>"
      ],
      "text/plain": [
       "   id product_code  loading attribute_0 attribute_1  attribute_2  attribute_3  \\\n",
       "0   0            A    80.10  material_7  material_8            9            5   \n",
       "1   1            A    84.89  material_7  material_8            9            5   \n",
       "\n",
       "   measurement_0  measurement_1  measurement_2  ...  measurement_9  \\\n",
       "0              7              8              4  ...         10.672   \n",
       "1             14              3              3  ...         12.448   \n",
       "\n",
       "   measurement_10  measurement_11  measurement_12  measurement_13  \\\n",
       "0          15.859          17.594          15.193          15.029   \n",
       "1          17.947          17.915          11.755          14.732   \n",
       "\n",
       "   measurement_14  measurement_15  measurement_16  measurement_17  failure  \n",
       "0             NaN          13.034          14.684         764.100        0  \n",
       "1          15.425          14.395          15.631         682.057        0  \n",
       "\n",
       "[2 rows x 26 columns]"
      ]
     },
     "execution_count": 5,
     "metadata": {},
     "output_type": "execute_result"
    }
   ],
   "source": [
    "train_df.head(2)"
   ]
  },
  {
   "cell_type": "code",
   "execution_count": 6,
   "id": "2e0c63aa",
   "metadata": {},
   "outputs": [
    {
     "data": {
      "text/plain": [
       "id                   0\n",
       "product_code         0\n",
       "loading            250\n",
       "attribute_0          0\n",
       "attribute_1          0\n",
       "attribute_2          0\n",
       "attribute_3          0\n",
       "measurement_0        0\n",
       "measurement_1        0\n",
       "measurement_2        0\n",
       "measurement_3      381\n",
       "measurement_4      538\n",
       "measurement_5      676\n",
       "measurement_6      796\n",
       "measurement_7      937\n",
       "measurement_8     1048\n",
       "measurement_9     1227\n",
       "measurement_10    1300\n",
       "measurement_11    1468\n",
       "measurement_12    1601\n",
       "measurement_13    1774\n",
       "measurement_14    1874\n",
       "measurement_15    2009\n",
       "measurement_16    2110\n",
       "measurement_17    2284\n",
       "failure              0\n",
       "dtype: int64"
      ]
     },
     "execution_count": 6,
     "metadata": {},
     "output_type": "execute_result"
    }
   ],
   "source": [
    "train_df.isnull().sum()"
   ]
  },
  {
   "cell_type": "code",
   "execution_count": 7,
   "id": "6c675b3b",
   "metadata": {},
   "outputs": [
    {
     "data": {
      "text/plain": [
       "id                   0\n",
       "product_code         0\n",
       "loading            223\n",
       "attribute_0          0\n",
       "attribute_1          0\n",
       "attribute_2          0\n",
       "attribute_3          0\n",
       "measurement_0        0\n",
       "measurement_1        0\n",
       "measurement_2        0\n",
       "measurement_3      329\n",
       "measurement_4      409\n",
       "measurement_5      508\n",
       "measurement_6      624\n",
       "measurement_7      720\n",
       "measurement_8      846\n",
       "measurement_9      904\n",
       "measurement_10    1067\n",
       "measurement_11    1136\n",
       "measurement_12    1240\n",
       "measurement_13    1303\n",
       "measurement_14    1440\n",
       "measurement_15    1542\n",
       "measurement_16    1678\n",
       "measurement_17    1740\n",
       "dtype: int64"
      ]
     },
     "execution_count": 7,
     "metadata": {},
     "output_type": "execute_result"
    }
   ],
   "source": [
    "test_df.isnull().sum()"
   ]
  },
  {
   "cell_type": "code",
   "execution_count": 8,
   "id": "7198ae0d",
   "metadata": {},
   "outputs": [
    {
     "data": {
      "text/plain": [
       "array(['A', 'B', 'C', 'D', 'E'], dtype=object)"
      ]
     },
     "execution_count": 8,
     "metadata": {},
     "output_type": "execute_result"
    }
   ],
   "source": [
    "train_df['product_code'].unique()"
   ]
  },
  {
   "cell_type": "code",
   "execution_count": 9,
   "id": "d5d30b30",
   "metadata": {},
   "outputs": [
    {
     "data": {
      "text/plain": [
       "array(['material_7', 'material_5'], dtype=object)"
      ]
     },
     "execution_count": 9,
     "metadata": {},
     "output_type": "execute_result"
    }
   ],
   "source": [
    "train_df['attribute_0'].unique()"
   ]
  },
  {
   "cell_type": "code",
   "execution_count": 10,
   "id": "e1b0a495",
   "metadata": {},
   "outputs": [
    {
     "data": {
      "text/plain": [
       "array(['material_8', 'material_5', 'material_6'], dtype=object)"
      ]
     },
     "execution_count": 10,
     "metadata": {},
     "output_type": "execute_result"
    }
   ],
   "source": [
    "train_df['attribute_1'].unique()"
   ]
  },
  {
   "cell_type": "code",
   "execution_count": 11,
   "id": "af2c451c",
   "metadata": {},
   "outputs": [],
   "source": [
    "from sklearn import preprocessing\n",
    "le = preprocessing.LabelEncoder()"
   ]
  },
  {
   "cell_type": "code",
   "execution_count": 12,
   "id": "d45969eb",
   "metadata": {},
   "outputs": [
    {
     "data": {
      "text/html": [
       "<div>\n",
       "<style scoped>\n",
       "    .dataframe tbody tr th:only-of-type {\n",
       "        vertical-align: middle;\n",
       "    }\n",
       "\n",
       "    .dataframe tbody tr th {\n",
       "        vertical-align: top;\n",
       "    }\n",
       "\n",
       "    .dataframe thead th {\n",
       "        text-align: right;\n",
       "    }\n",
       "</style>\n",
       "<table border=\"1\" class=\"dataframe\">\n",
       "  <thead>\n",
       "    <tr style=\"text-align: right;\">\n",
       "      <th></th>\n",
       "      <th>id</th>\n",
       "      <th>product_code</th>\n",
       "      <th>loading</th>\n",
       "      <th>attribute_0</th>\n",
       "      <th>attribute_1</th>\n",
       "      <th>attribute_2</th>\n",
       "      <th>attribute_3</th>\n",
       "      <th>measurement_0</th>\n",
       "      <th>measurement_1</th>\n",
       "      <th>measurement_2</th>\n",
       "      <th>...</th>\n",
       "      <th>measurement_9</th>\n",
       "      <th>measurement_10</th>\n",
       "      <th>measurement_11</th>\n",
       "      <th>measurement_12</th>\n",
       "      <th>measurement_13</th>\n",
       "      <th>measurement_14</th>\n",
       "      <th>measurement_15</th>\n",
       "      <th>measurement_16</th>\n",
       "      <th>measurement_17</th>\n",
       "      <th>failure</th>\n",
       "    </tr>\n",
       "  </thead>\n",
       "  <tbody>\n",
       "    <tr>\n",
       "      <th>0</th>\n",
       "      <td>0</td>\n",
       "      <td>A</td>\n",
       "      <td>80.10</td>\n",
       "      <td>material_7</td>\n",
       "      <td>material_8</td>\n",
       "      <td>9</td>\n",
       "      <td>5</td>\n",
       "      <td>7</td>\n",
       "      <td>8</td>\n",
       "      <td>4</td>\n",
       "      <td>...</td>\n",
       "      <td>10.672</td>\n",
       "      <td>15.859</td>\n",
       "      <td>17.594</td>\n",
       "      <td>15.193</td>\n",
       "      <td>15.029</td>\n",
       "      <td>NaN</td>\n",
       "      <td>13.034</td>\n",
       "      <td>14.684</td>\n",
       "      <td>764.100</td>\n",
       "      <td>0</td>\n",
       "    </tr>\n",
       "    <tr>\n",
       "      <th>1</th>\n",
       "      <td>1</td>\n",
       "      <td>A</td>\n",
       "      <td>84.89</td>\n",
       "      <td>material_7</td>\n",
       "      <td>material_8</td>\n",
       "      <td>9</td>\n",
       "      <td>5</td>\n",
       "      <td>14</td>\n",
       "      <td>3</td>\n",
       "      <td>3</td>\n",
       "      <td>...</td>\n",
       "      <td>12.448</td>\n",
       "      <td>17.947</td>\n",
       "      <td>17.915</td>\n",
       "      <td>11.755</td>\n",
       "      <td>14.732</td>\n",
       "      <td>15.425</td>\n",
       "      <td>14.395</td>\n",
       "      <td>15.631</td>\n",
       "      <td>682.057</td>\n",
       "      <td>0</td>\n",
       "    </tr>\n",
       "  </tbody>\n",
       "</table>\n",
       "<p>2 rows × 26 columns</p>\n",
       "</div>"
      ],
      "text/plain": [
       "   id product_code  loading attribute_0 attribute_1  attribute_2  attribute_3  \\\n",
       "0   0            A    80.10  material_7  material_8            9            5   \n",
       "1   1            A    84.89  material_7  material_8            9            5   \n",
       "\n",
       "   measurement_0  measurement_1  measurement_2  ...  measurement_9  \\\n",
       "0              7              8              4  ...         10.672   \n",
       "1             14              3              3  ...         12.448   \n",
       "\n",
       "   measurement_10  measurement_11  measurement_12  measurement_13  \\\n",
       "0          15.859          17.594          15.193          15.029   \n",
       "1          17.947          17.915          11.755          14.732   \n",
       "\n",
       "   measurement_14  measurement_15  measurement_16  measurement_17  failure  \n",
       "0             NaN          13.034          14.684         764.100        0  \n",
       "1          15.425          14.395          15.631         682.057        0  \n",
       "\n",
       "[2 rows x 26 columns]"
      ]
     },
     "execution_count": 12,
     "metadata": {},
     "output_type": "execute_result"
    }
   ],
   "source": [
    "train_df.head(2)"
   ]
  },
  {
   "cell_type": "code",
   "execution_count": 13,
   "id": "efb855e0",
   "metadata": {},
   "outputs": [],
   "source": [
    "le.fit(train_df['product_code'])\n",
    "train_df['product_code']= le.transform(train_df['product_code'])\n",
    "le.fit(train_df['attribute_0'])\n",
    "train_df['attribute_0'] = le.transform(train_df['attribute_0'])\n",
    "le.fit(train_df['attribute_1'])\n",
    "train_df['attribute_1'] = le.transform(train_df['attribute_1'])\n",
    "\n",
    "\n",
    "le.fit(test_df['product_code'])\n",
    "test_df['product_code']= le.transform(test_df['product_code'])\n",
    "le.fit(test_df['attribute_0'])\n",
    "test_df['attribute_0'] = le.transform(test_df['attribute_0'])\n",
    "le.fit(test_df['attribute_1'])\n",
    "test_df['attribute_1'] = le.transform(test_df['attribute_1'])"
   ]
  },
  {
   "cell_type": "code",
   "execution_count": 14,
   "id": "3178647b",
   "metadata": {},
   "outputs": [
    {
     "data": {
      "text/html": [
       "<div>\n",
       "<style scoped>\n",
       "    .dataframe tbody tr th:only-of-type {\n",
       "        vertical-align: middle;\n",
       "    }\n",
       "\n",
       "    .dataframe tbody tr th {\n",
       "        vertical-align: top;\n",
       "    }\n",
       "\n",
       "    .dataframe thead th {\n",
       "        text-align: right;\n",
       "    }\n",
       "</style>\n",
       "<table border=\"1\" class=\"dataframe\">\n",
       "  <thead>\n",
       "    <tr style=\"text-align: right;\">\n",
       "      <th></th>\n",
       "      <th>id</th>\n",
       "      <th>product_code</th>\n",
       "      <th>loading</th>\n",
       "      <th>attribute_0</th>\n",
       "      <th>attribute_1</th>\n",
       "      <th>attribute_2</th>\n",
       "      <th>attribute_3</th>\n",
       "      <th>measurement_0</th>\n",
       "      <th>measurement_1</th>\n",
       "      <th>measurement_2</th>\n",
       "      <th>...</th>\n",
       "      <th>measurement_9</th>\n",
       "      <th>measurement_10</th>\n",
       "      <th>measurement_11</th>\n",
       "      <th>measurement_12</th>\n",
       "      <th>measurement_13</th>\n",
       "      <th>measurement_14</th>\n",
       "      <th>measurement_15</th>\n",
       "      <th>measurement_16</th>\n",
       "      <th>measurement_17</th>\n",
       "      <th>failure</th>\n",
       "    </tr>\n",
       "  </thead>\n",
       "  <tbody>\n",
       "    <tr>\n",
       "      <th>0</th>\n",
       "      <td>0</td>\n",
       "      <td>0</td>\n",
       "      <td>80.10</td>\n",
       "      <td>1</td>\n",
       "      <td>2</td>\n",
       "      <td>9</td>\n",
       "      <td>5</td>\n",
       "      <td>7</td>\n",
       "      <td>8</td>\n",
       "      <td>4</td>\n",
       "      <td>...</td>\n",
       "      <td>10.672</td>\n",
       "      <td>15.859</td>\n",
       "      <td>17.594</td>\n",
       "      <td>15.193</td>\n",
       "      <td>15.029</td>\n",
       "      <td>NaN</td>\n",
       "      <td>13.034</td>\n",
       "      <td>14.684</td>\n",
       "      <td>764.100</td>\n",
       "      <td>0</td>\n",
       "    </tr>\n",
       "    <tr>\n",
       "      <th>1</th>\n",
       "      <td>1</td>\n",
       "      <td>0</td>\n",
       "      <td>84.89</td>\n",
       "      <td>1</td>\n",
       "      <td>2</td>\n",
       "      <td>9</td>\n",
       "      <td>5</td>\n",
       "      <td>14</td>\n",
       "      <td>3</td>\n",
       "      <td>3</td>\n",
       "      <td>...</td>\n",
       "      <td>12.448</td>\n",
       "      <td>17.947</td>\n",
       "      <td>17.915</td>\n",
       "      <td>11.755</td>\n",
       "      <td>14.732</td>\n",
       "      <td>15.425</td>\n",
       "      <td>14.395</td>\n",
       "      <td>15.631</td>\n",
       "      <td>682.057</td>\n",
       "      <td>0</td>\n",
       "    </tr>\n",
       "  </tbody>\n",
       "</table>\n",
       "<p>2 rows × 26 columns</p>\n",
       "</div>"
      ],
      "text/plain": [
       "   id  product_code  loading  attribute_0  attribute_1  attribute_2  \\\n",
       "0   0             0    80.10            1            2            9   \n",
       "1   1             0    84.89            1            2            9   \n",
       "\n",
       "   attribute_3  measurement_0  measurement_1  measurement_2  ...  \\\n",
       "0            5              7              8              4  ...   \n",
       "1            5             14              3              3  ...   \n",
       "\n",
       "   measurement_9  measurement_10  measurement_11  measurement_12  \\\n",
       "0         10.672          15.859          17.594          15.193   \n",
       "1         12.448          17.947          17.915          11.755   \n",
       "\n",
       "   measurement_13  measurement_14  measurement_15  measurement_16  \\\n",
       "0          15.029             NaN          13.034          14.684   \n",
       "1          14.732          15.425          14.395          15.631   \n",
       "\n",
       "   measurement_17  failure  \n",
       "0         764.100        0  \n",
       "1         682.057        0  \n",
       "\n",
       "[2 rows x 26 columns]"
      ]
     },
     "execution_count": 14,
     "metadata": {},
     "output_type": "execute_result"
    }
   ],
   "source": [
    "train_df.head(2)"
   ]
  },
  {
   "cell_type": "code",
   "execution_count": 15,
   "id": "f104cd58",
   "metadata": {},
   "outputs": [],
   "source": [
    "for i in train_df.columns:\n",
    "    if train_df[i].isnull().sum() !=0:\n",
    "        train_df[i].fillna(value = train_df[i].mean(), inplace=True)"
   ]
  },
  {
   "cell_type": "code",
   "execution_count": 16,
   "id": "fa093334",
   "metadata": {},
   "outputs": [
    {
     "data": {
      "text/plain": [
       "id                0\n",
       "product_code      0\n",
       "loading           0\n",
       "attribute_0       0\n",
       "attribute_1       0\n",
       "attribute_2       0\n",
       "attribute_3       0\n",
       "measurement_0     0\n",
       "measurement_1     0\n",
       "measurement_2     0\n",
       "measurement_3     0\n",
       "measurement_4     0\n",
       "measurement_5     0\n",
       "measurement_6     0\n",
       "measurement_7     0\n",
       "measurement_8     0\n",
       "measurement_9     0\n",
       "measurement_10    0\n",
       "measurement_11    0\n",
       "measurement_12    0\n",
       "measurement_13    0\n",
       "measurement_14    0\n",
       "measurement_15    0\n",
       "measurement_16    0\n",
       "measurement_17    0\n",
       "failure           0\n",
       "dtype: int64"
      ]
     },
     "execution_count": 16,
     "metadata": {},
     "output_type": "execute_result"
    }
   ],
   "source": [
    "train_df.isnull().sum()"
   ]
  },
  {
   "cell_type": "code",
   "execution_count": 17,
   "id": "7da2a676",
   "metadata": {},
   "outputs": [],
   "source": [
    "for i in test_df.columns:\n",
    "    if test_df[i].isnull().sum() !=0:\n",
    "        test_df[i].fillna(value = test_df[i].mean(), inplace=True)"
   ]
  },
  {
   "cell_type": "code",
   "execution_count": 18,
   "id": "3cdbe8b5",
   "metadata": {},
   "outputs": [
    {
     "data": {
      "text/plain": [
       "id                0\n",
       "product_code      0\n",
       "loading           0\n",
       "attribute_0       0\n",
       "attribute_1       0\n",
       "attribute_2       0\n",
       "attribute_3       0\n",
       "measurement_0     0\n",
       "measurement_1     0\n",
       "measurement_2     0\n",
       "measurement_3     0\n",
       "measurement_4     0\n",
       "measurement_5     0\n",
       "measurement_6     0\n",
       "measurement_7     0\n",
       "measurement_8     0\n",
       "measurement_9     0\n",
       "measurement_10    0\n",
       "measurement_11    0\n",
       "measurement_12    0\n",
       "measurement_13    0\n",
       "measurement_14    0\n",
       "measurement_15    0\n",
       "measurement_16    0\n",
       "measurement_17    0\n",
       "dtype: int64"
      ]
     },
     "execution_count": 18,
     "metadata": {},
     "output_type": "execute_result"
    }
   ],
   "source": [
    "test_df.isnull().sum()"
   ]
  },
  {
   "cell_type": "code",
   "execution_count": 19,
   "id": "97e53cc7",
   "metadata": {},
   "outputs": [
    {
     "data": {
      "image/png": "[encoded data removed]",
      "text/plain": [
       "<Figure size 1440x648 with 25 Axes>"
      ]
     },
     "metadata": {
      "needs_background": "light"
     },
     "output_type": "display_data"
    }
   ],
   "source": [
    "fig, axes = plt.subplots(nrows=5, ncols=5, figsize=(20, 9), sharex = False, sharey = False)\n",
    "axes = axes.ravel()  \n",
    "cols = train_df.columns[:-1]\n",
    "\n",
    "for col, ax in zip(cols, axes):\n",
    "    data = train_df\n",
    "    sns.kdeplot(data=data, x=col, shade=True, ax=ax, hue='failure')\n",
    "    \n",
    "fig.tight_layout()\n",
    "plt.show()"
   ]
  },
  {
   "cell_type": "code",
   "execution_count": 20,
   "id": "8a1cf1c5",
   "metadata": {},
   "outputs": [
    {
     "data": {
      "image/png": "[encoded data removed]",
      "text/plain": [
       "<Figure size 720x576 with 2 Axes>"
      ]
     },
     "metadata": {
      "needs_background": "light"
     },
     "output_type": "display_data"
    }
   ],
   "source": [
    "plt.figure(figsize = (10,8))\n",
    "corr = train_df.corr()\n",
    "sns.heatmap(corr,xticklabels=corr.columns,yticklabels=corr.columns,linewidths=.1,cmap=\"Blues\", square=True, robust=True)\n",
    "plt.show()"
   ]
  },
  {
   "cell_type": "code",
   "execution_count": 21,
   "id": "296d934f",
   "metadata": {},
   "outputs": [
    {
     "data": {
      "text/html": [
       "<div>\n",
       "<style scoped>\n",
       "    .dataframe tbody tr th:only-of-type {\n",
       "        vertical-align: middle;\n",
       "    }\n",
       "\n",
       "    .dataframe tbody tr th {\n",
       "        vertical-align: top;\n",
       "    }\n",
       "\n",
       "    .dataframe thead th {\n",
       "        text-align: right;\n",
       "    }\n",
       "</style>\n",
       "<table border=\"1\" class=\"dataframe\">\n",
       "  <thead>\n",
       "    <tr style=\"text-align: right;\">\n",
       "      <th></th>\n",
       "      <th>id</th>\n",
       "      <th>loading</th>\n",
       "      <th>attribute_0</th>\n",
       "      <th>attribute_1</th>\n",
       "      <th>attribute_2</th>\n",
       "      <th>attribute_3</th>\n",
       "      <th>measurement_0</th>\n",
       "      <th>measurement_1</th>\n",
       "      <th>measurement_2</th>\n",
       "      <th>measurement_3</th>\n",
       "      <th>...</th>\n",
       "      <th>measurement_9</th>\n",
       "      <th>measurement_10</th>\n",
       "      <th>measurement_11</th>\n",
       "      <th>measurement_12</th>\n",
       "      <th>measurement_13</th>\n",
       "      <th>measurement_14</th>\n",
       "      <th>measurement_15</th>\n",
       "      <th>measurement_16</th>\n",
       "      <th>measurement_17</th>\n",
       "      <th>failure</th>\n",
       "    </tr>\n",
       "    <tr>\n",
       "      <th>product_code</th>\n",
       "      <th></th>\n",
       "      <th></th>\n",
       "      <th></th>\n",
       "      <th></th>\n",
       "      <th></th>\n",
       "      <th></th>\n",
       "      <th></th>\n",
       "      <th></th>\n",
       "      <th></th>\n",
       "      <th></th>\n",
       "      <th></th>\n",
       "      <th></th>\n",
       "      <th></th>\n",
       "      <th></th>\n",
       "      <th></th>\n",
       "      <th></th>\n",
       "      <th></th>\n",
       "      <th></th>\n",
       "      <th></th>\n",
       "      <th></th>\n",
       "      <th></th>\n",
       "    </tr>\n",
       "  </thead>\n",
       "  <tbody>\n",
       "    <tr>\n",
       "      <th>0</th>\n",
       "      <td>1472.387517</td>\n",
       "      <td>38.905312</td>\n",
       "      <td>0.0</td>\n",
       "      <td>0.0</td>\n",
       "      <td>0.0</td>\n",
       "      <td>0.0</td>\n",
       "      <td>4.230892</td>\n",
       "      <td>2.723428</td>\n",
       "      <td>2.884531</td>\n",
       "      <td>0.991760</td>\n",
       "      <td>...</td>\n",
       "      <td>0.969058</td>\n",
       "      <td>0.970499</td>\n",
       "      <td>1.591796</td>\n",
       "      <td>1.385481</td>\n",
       "      <td>0.964919</td>\n",
       "      <td>1.497501</td>\n",
       "      <td>1.538540</td>\n",
       "      <td>1.571236</td>\n",
       "      <td>102.072026</td>\n",
       "      <td>0.419100</td>\n",
       "    </tr>\n",
       "    <tr>\n",
       "      <th>1</th>\n",
       "      <td>1515.688787</td>\n",
       "      <td>38.179101</td>\n",
       "      <td>0.0</td>\n",
       "      <td>0.0</td>\n",
       "      <td>0.0</td>\n",
       "      <td>0.0</td>\n",
       "      <td>3.323625</td>\n",
       "      <td>4.206832</td>\n",
       "      <td>3.084414</td>\n",
       "      <td>1.002664</td>\n",
       "      <td>...</td>\n",
       "      <td>0.987402</td>\n",
       "      <td>1.519131</td>\n",
       "      <td>1.686447</td>\n",
       "      <td>0.975982</td>\n",
       "      <td>1.562194</td>\n",
       "      <td>0.959169</td>\n",
       "      <td>1.575097</td>\n",
       "      <td>1.657260</td>\n",
       "      <td>103.822926</td>\n",
       "      <td>0.400324</td>\n",
       "    </tr>\n",
       "    <tr>\n",
       "      <th>2</th>\n",
       "      <td>1664.356482</td>\n",
       "      <td>39.444323</td>\n",
       "      <td>0.0</td>\n",
       "      <td>0.0</td>\n",
       "      <td>0.0</td>\n",
       "      <td>0.0</td>\n",
       "      <td>4.519530</td>\n",
       "      <td>3.296787</td>\n",
       "      <td>3.212603</td>\n",
       "      <td>0.998376</td>\n",
       "      <td>...</td>\n",
       "      <td>0.972892</td>\n",
       "      <td>0.964048</td>\n",
       "      <td>1.473035</td>\n",
       "      <td>1.520792</td>\n",
       "      <td>0.981329</td>\n",
       "      <td>1.686562</td>\n",
       "      <td>1.563092</td>\n",
       "      <td>1.764523</td>\n",
       "      <td>114.221828</td>\n",
       "      <td>0.408494</td>\n",
       "    </tr>\n",
       "    <tr>\n",
       "      <th>3</th>\n",
       "      <td>1475.851619</td>\n",
       "      <td>39.015796</td>\n",
       "      <td>0.0</td>\n",
       "      <td>0.0</td>\n",
       "      <td>0.0</td>\n",
       "      <td>0.0</td>\n",
       "      <td>3.408803</td>\n",
       "      <td>4.034857</td>\n",
       "      <td>3.157005</td>\n",
       "      <td>0.987412</td>\n",
       "      <td>...</td>\n",
       "      <td>0.983230</td>\n",
       "      <td>1.666727</td>\n",
       "      <td>0.952770</td>\n",
       "      <td>1.492178</td>\n",
       "      <td>0.964787</td>\n",
       "      <td>1.339725</td>\n",
       "      <td>1.533173</td>\n",
       "      <td>1.482140</td>\n",
       "      <td>131.721592</td>\n",
       "      <td>0.412605</td>\n",
       "    </tr>\n",
       "    <tr>\n",
       "      <th>4</th>\n",
       "      <td>1542.535575</td>\n",
       "      <td>38.628847</td>\n",
       "      <td>0.0</td>\n",
       "      <td>0.0</td>\n",
       "      <td>0.0</td>\n",
       "      <td>0.0</td>\n",
       "      <td>3.040499</td>\n",
       "      <td>3.950099</td>\n",
       "      <td>3.360730</td>\n",
       "      <td>0.989213</td>\n",
       "      <td>...</td>\n",
       "      <td>0.966981</td>\n",
       "      <td>1.521415</td>\n",
       "      <td>1.462215</td>\n",
       "      <td>1.565918</td>\n",
       "      <td>0.949395</td>\n",
       "      <td>1.548656</td>\n",
       "      <td>0.971663</td>\n",
       "      <td>1.612666</td>\n",
       "      <td>133.793663</td>\n",
       "      <td>0.405193</td>\n",
       "    </tr>\n",
       "  </tbody>\n",
       "</table>\n",
       "<p>5 rows × 25 columns</p>\n",
       "</div>"
      ],
      "text/plain": [
       "                       id    loading  attribute_0  attribute_1  attribute_2  \\\n",
       "product_code                                                                  \n",
       "0             1472.387517  38.905312          0.0          0.0          0.0   \n",
       "1             1515.688787  38.179101          0.0          0.0          0.0   \n",
       "2             1664.356482  39.444323          0.0          0.0          0.0   \n",
       "3             1475.851619  39.015796          0.0          0.0          0.0   \n",
       "4             1542.535575  38.628847          0.0          0.0          0.0   \n",
       "\n",
       "              attribute_3  measurement_0  measurement_1  measurement_2  \\\n",
       "product_code                                                             \n",
       "0                     0.0       4.230892       2.723428       2.884531   \n",
       "1                     0.0       3.323625       4.206832       3.084414   \n",
       "2                     0.0       4.519530       3.296787       3.212603   \n",
       "3                     0.0       3.408803       4.034857       3.157005   \n",
       "4                     0.0       3.040499       3.950099       3.360730   \n",
       "\n",
       "              measurement_3  ...  measurement_9  measurement_10  \\\n",
       "product_code                 ...                                  \n",
       "0                  0.991760  ...       0.969058        0.970499   \n",
       "1                  1.002664  ...       0.987402        1.519131   \n",
       "2                  0.998376  ...       0.972892        0.964048   \n",
       "3                  0.987412  ...       0.983230        1.666727   \n",
       "4                  0.989213  ...       0.966981        1.521415   \n",
       "\n",
       "              measurement_11  measurement_12  measurement_13  measurement_14  \\\n",
       "product_code                                                                   \n",
       "0                   1.591796        1.385481        0.964919        1.497501   \n",
       "1                   1.686447        0.975982        1.562194        0.959169   \n",
       "2                   1.473035        1.520792        0.981329        1.686562   \n",
       "3                   0.952770        1.492178        0.964787        1.339725   \n",
       "4                   1.462215        1.565918        0.949395        1.548656   \n",
       "\n",
       "              measurement_15  measurement_16  measurement_17   failure  \n",
       "product_code                                                            \n",
       "0                   1.538540        1.571236      102.072026  0.419100  \n",
       "1                   1.575097        1.657260      103.822926  0.400324  \n",
       "2                   1.563092        1.764523      114.221828  0.408494  \n",
       "3                   1.533173        1.482140      131.721592  0.412605  \n",
       "4                   0.971663        1.612666      133.793663  0.405193  \n",
       "\n",
       "[5 rows x 25 columns]"
      ]
     },
     "execution_count": 21,
     "metadata": {},
     "output_type": "execute_result"
    }
   ],
   "source": [
    "train_df.groupby('product_code').std()"
   ]
  },
  {
   "cell_type": "code",
   "execution_count": 22,
   "id": "05dacbb1",
   "metadata": {},
   "outputs": [
    {
     "data": {
      "text/html": [
       "<div>\n",
       "<style scoped>\n",
       "    .dataframe tbody tr th:only-of-type {\n",
       "        vertical-align: middle;\n",
       "    }\n",
       "\n",
       "    .dataframe tbody tr th {\n",
       "        vertical-align: top;\n",
       "    }\n",
       "\n",
       "    .dataframe thead th {\n",
       "        text-align: right;\n",
       "    }\n",
       "</style>\n",
       "<table border=\"1\" class=\"dataframe\">\n",
       "  <thead>\n",
       "    <tr style=\"text-align: right;\">\n",
       "      <th></th>\n",
       "      <th>id</th>\n",
       "      <th>loading</th>\n",
       "      <th>attribute_0</th>\n",
       "      <th>attribute_1</th>\n",
       "      <th>attribute_2</th>\n",
       "      <th>attribute_3</th>\n",
       "      <th>measurement_0</th>\n",
       "      <th>measurement_1</th>\n",
       "      <th>measurement_2</th>\n",
       "      <th>measurement_3</th>\n",
       "      <th>...</th>\n",
       "      <th>measurement_8</th>\n",
       "      <th>measurement_9</th>\n",
       "      <th>measurement_10</th>\n",
       "      <th>measurement_11</th>\n",
       "      <th>measurement_12</th>\n",
       "      <th>measurement_13</th>\n",
       "      <th>measurement_14</th>\n",
       "      <th>measurement_15</th>\n",
       "      <th>measurement_16</th>\n",
       "      <th>measurement_17</th>\n",
       "    </tr>\n",
       "    <tr>\n",
       "      <th>product_code</th>\n",
       "      <th></th>\n",
       "      <th></th>\n",
       "      <th></th>\n",
       "      <th></th>\n",
       "      <th></th>\n",
       "      <th></th>\n",
       "      <th></th>\n",
       "      <th></th>\n",
       "      <th></th>\n",
       "      <th></th>\n",
       "      <th></th>\n",
       "      <th></th>\n",
       "      <th></th>\n",
       "      <th></th>\n",
       "      <th></th>\n",
       "      <th></th>\n",
       "      <th></th>\n",
       "      <th></th>\n",
       "      <th></th>\n",
       "      <th></th>\n",
       "      <th></th>\n",
       "    </tr>\n",
       "  </thead>\n",
       "  <tbody>\n",
       "    <tr>\n",
       "      <th>0</th>\n",
       "      <td>1565.340911</td>\n",
       "      <td>38.101887</td>\n",
       "      <td>0.0</td>\n",
       "      <td>0.0</td>\n",
       "      <td>0.0</td>\n",
       "      <td>0.0</td>\n",
       "      <td>4.077055</td>\n",
       "      <td>4.598440</td>\n",
       "      <td>4.634429</td>\n",
       "      <td>0.997059</td>\n",
       "      <td>...</td>\n",
       "      <td>0.977881</td>\n",
       "      <td>0.994636</td>\n",
       "      <td>1.574621</td>\n",
       "      <td>1.097936</td>\n",
       "      <td>0.972722</td>\n",
       "      <td>1.639852</td>\n",
       "      <td>0.971933</td>\n",
       "      <td>1.340192</td>\n",
       "      <td>1.568673</td>\n",
       "      <td>158.202891</td>\n",
       "    </tr>\n",
       "    <tr>\n",
       "      <th>1</th>\n",
       "      <td>1474.408243</td>\n",
       "      <td>39.367998</td>\n",
       "      <td>0.0</td>\n",
       "      <td>0.0</td>\n",
       "      <td>0.0</td>\n",
       "      <td>0.0</td>\n",
       "      <td>3.558911</td>\n",
       "      <td>3.641097</td>\n",
       "      <td>2.782587</td>\n",
       "      <td>0.990904</td>\n",
       "      <td>...</td>\n",
       "      <td>0.989502</td>\n",
       "      <td>0.964523</td>\n",
       "      <td>1.699335</td>\n",
       "      <td>1.717060</td>\n",
       "      <td>0.978765</td>\n",
       "      <td>0.970972</td>\n",
       "      <td>1.571847</td>\n",
       "      <td>1.690143</td>\n",
       "      <td>1.542470</td>\n",
       "      <td>128.874143</td>\n",
       "    </tr>\n",
       "    <tr>\n",
       "      <th>2</th>\n",
       "      <td>1448.716156</td>\n",
       "      <td>39.336999</td>\n",
       "      <td>0.0</td>\n",
       "      <td>0.0</td>\n",
       "      <td>0.0</td>\n",
       "      <td>0.0</td>\n",
       "      <td>3.361828</td>\n",
       "      <td>3.170009</td>\n",
       "      <td>3.279425</td>\n",
       "      <td>1.001334</td>\n",
       "      <td>...</td>\n",
       "      <td>0.985321</td>\n",
       "      <td>0.985719</td>\n",
       "      <td>1.667937</td>\n",
       "      <td>1.532563</td>\n",
       "      <td>1.666695</td>\n",
       "      <td>0.974557</td>\n",
       "      <td>0.958219</td>\n",
       "      <td>1.640663</td>\n",
       "      <td>1.482656</td>\n",
       "      <td>109.563765</td>\n",
       "    </tr>\n",
       "    <tr>\n",
       "      <th>3</th>\n",
       "      <td>1509.337934</td>\n",
       "      <td>39.006323</td>\n",
       "      <td>0.0</td>\n",
       "      <td>0.0</td>\n",
       "      <td>0.0</td>\n",
       "      <td>0.0</td>\n",
       "      <td>3.853702</td>\n",
       "      <td>3.353793</td>\n",
       "      <td>3.117778</td>\n",
       "      <td>0.987468</td>\n",
       "      <td>...</td>\n",
       "      <td>0.986558</td>\n",
       "      <td>0.966163</td>\n",
       "      <td>0.973069</td>\n",
       "      <td>1.550870</td>\n",
       "      <td>1.466657</td>\n",
       "      <td>1.388650</td>\n",
       "      <td>1.704883</td>\n",
       "      <td>0.969699</td>\n",
       "      <td>1.614849</td>\n",
       "      <td>89.621614</td>\n",
       "    </tr>\n",
       "  </tbody>\n",
       "</table>\n",
       "<p>4 rows × 24 columns</p>\n",
       "</div>"
      ],
      "text/plain": [
       "                       id    loading  attribute_0  attribute_1  attribute_2  \\\n",
       "product_code                                                                  \n",
       "0             1565.340911  38.101887          0.0          0.0          0.0   \n",
       "1             1474.408243  39.367998          0.0          0.0          0.0   \n",
       "2             1448.716156  39.336999          0.0          0.0          0.0   \n",
       "3             1509.337934  39.006323          0.0          0.0          0.0   \n",
       "\n",
       "              attribute_3  measurement_0  measurement_1  measurement_2  \\\n",
       "product_code                                                             \n",
       "0                     0.0       4.077055       4.598440       4.634429   \n",
       "1                     0.0       3.558911       3.641097       2.782587   \n",
       "2                     0.0       3.361828       3.170009       3.279425   \n",
       "3                     0.0       3.853702       3.353793       3.117778   \n",
       "\n",
       "              measurement_3  ...  measurement_8  measurement_9  \\\n",
       "product_code                 ...                                 \n",
       "0                  0.997059  ...       0.977881       0.994636   \n",
       "1                  0.990904  ...       0.989502       0.964523   \n",
       "2                  1.001334  ...       0.985321       0.985719   \n",
       "3                  0.987468  ...       0.986558       0.966163   \n",
       "\n",
       "              measurement_10  measurement_11  measurement_12  measurement_13  \\\n",
       "product_code                                                                   \n",
       "0                   1.574621        1.097936        0.972722        1.639852   \n",
       "1                   1.699335        1.717060        0.978765        0.970972   \n",
       "2                   1.667937        1.532563        1.666695        0.974557   \n",
       "3                   0.973069        1.550870        1.466657        1.388650   \n",
       "\n",
       "              measurement_14  measurement_15  measurement_16  measurement_17  \n",
       "product_code                                                                  \n",
       "0                   0.971933        1.340192        1.568673      158.202891  \n",
       "1                   1.571847        1.690143        1.542470      128.874143  \n",
       "2                   0.958219        1.640663        1.482656      109.563765  \n",
       "3                   1.704883        0.969699        1.614849       89.621614  \n",
       "\n",
       "[4 rows x 24 columns]"
      ]
     },
     "execution_count": 22,
     "metadata": {},
     "output_type": "execute_result"
    }
   ],
   "source": [
    "test_df.groupby('product_code').std()"
   ]
  },
  {
   "cell_type": "code",
   "execution_count": 23,
   "id": "0de875ca",
   "metadata": {},
   "outputs": [],
   "source": [
    "from sklearn import preprocessing\n",
    "\n",
    "scaler = preprocessing.StandardScaler()\n",
    "scaled_train_data = scaler.fit_transform(train_df)\n",
    "scaled_test_data = scaler.fit_transform(test_df)"
   ]
  },
  {
   "cell_type": "code",
   "execution_count": 24,
   "id": "c9b2b94d",
   "metadata": {},
   "outputs": [
    {
     "data": {
      "text/plain": [
       "array([[-1.73198562, -1.43720607, -1.22862532, ..., -1.08360615,\n",
       "         0.53299429, -0.51963042],\n",
       "       [-1.73185524, -1.43720607, -1.10531545, ..., -0.5060413 ,\n",
       "        -0.16297571, -0.51963042],\n",
       "       [-1.73172487, -1.43720607, -1.16864369, ...,  0.90585164,\n",
       "        -0.32144646, -0.51963042],\n",
       "       ...,\n",
       "       [ 1.73172487,  1.41850477, -0.31422732, ..., -1.46112741,\n",
       "         0.41647193, -0.51963042],\n",
       "       [ 1.73185524,  1.41850477, -0.55209437, ..., -2.19299416,\n",
       "         0.24504766, -0.51963042],\n",
       "       [ 1.73198562,  1.41850477,  0.08685153, ...,  0.87169786,\n",
       "        -0.83909552, -0.51963042]])"
      ]
     },
     "execution_count": 24,
     "metadata": {},
     "output_type": "execute_result"
    }
   ],
   "source": [
    "scaled_train_data"
   ]
  },
  {
   "cell_type": "markdown",
   "id": "19b37853",
   "metadata": {},
   "source": [
    "## Modeling"
   ]
  },
  {
   "cell_type": "code",
   "execution_count": 25,
   "id": "1714d2ba",
   "metadata": {},
   "outputs": [],
   "source": [
    "from sklearn.model_selection import train_test_split\n",
    "\n",
    "X = train_df[train_df.columns[:-1]]\n",
    "y = train_df['failure']\n",
    "\n",
    "X_train, X_test, y_train, y_test = train_test_split(X,y, test_size=0.3, random_state=100)"
   ]
  },
  {
   "cell_type": "markdown",
   "id": "79922957",
   "metadata": {},
   "source": [
    "### Logistic Regression"
   ]
  },
  {
   "cell_type": "code",
   "execution_count": 26,
   "id": "1d569dfd",
   "metadata": {},
   "outputs": [
    {
     "name": "stdout",
     "output_type": "stream",
     "text": [
      "78.75\n"
     ]
    }
   ],
   "source": [
    "from sklearn.linear_model import LogisticRegression\n",
    "\n",
    "model_log = LogisticRegression()\n",
    "model_log.fit(X_train,y_train)\n",
    "pred_log=model_log.predict(X_test)\n",
    "log_score =model_log.score(X_train,y_train)\n",
    "log_pred_score =round(log_score*100,2)\n",
    "print(log_pred_score)"
   ]
  },
  {
   "cell_type": "markdown",
   "id": "2d5a9334",
   "metadata": {},
   "source": [
    "### DecisionTree"
   ]
  },
  {
   "cell_type": "code",
   "execution_count": 27,
   "id": "f25f1a21",
   "metadata": {},
   "outputs": [
    {
     "name": "stdout",
     "output_type": "stream",
     "text": [
      "100.0\n"
     ]
    }
   ],
   "source": [
    "from sklearn.tree import DecisionTreeClassifier\n",
    "\n",
    "model_decision=DecisionTreeClassifier()\n",
    "model_decision.fit(X_train,y_train)\n",
    "pred_decision=model_decision.predict(X_test)\n",
    "decision_score =model_decision.score(X_train,y_train)\n",
    "decision_pred_score =round(decision_score*100,2)\n",
    "print(decision_pred_score)"
   ]
  },
  {
   "cell_type": "markdown",
   "id": "682c4c12",
   "metadata": {},
   "source": [
    "### XGB"
   ]
  },
  {
   "cell_type": "code",
   "execution_count": 28,
   "id": "ef949f91",
   "metadata": {},
   "outputs": [
    {
     "data": {
      "text/html": [
       "<div>\n",
       "<style scoped>\n",
       "    .dataframe tbody tr th:only-of-type {\n",
       "        vertical-align: middle;\n",
       "    }\n",
       "\n",
       "    .dataframe tbody tr th {\n",
       "        vertical-align: top;\n",
       "    }\n",
       "\n",
       "    .dataframe thead th {\n",
       "        text-align: right;\n",
       "    }\n",
       "</style>\n",
       "<table border=\"1\" class=\"dataframe\">\n",
       "  <thead>\n",
       "    <tr style=\"text-align: right;\">\n",
       "      <th></th>\n",
       "      <th>Default Probability</th>\n",
       "      <th>failure</th>\n",
       "    </tr>\n",
       "  </thead>\n",
       "  <tbody>\n",
       "    <tr>\n",
       "      <th>0</th>\n",
       "      <td>0.049898</td>\n",
       "      <td>0</td>\n",
       "    </tr>\n",
       "    <tr>\n",
       "      <th>1</th>\n",
       "      <td>0.274567</td>\n",
       "      <td>1</td>\n",
       "    </tr>\n",
       "    <tr>\n",
       "      <th>2</th>\n",
       "      <td>0.289055</td>\n",
       "      <td>1</td>\n",
       "    </tr>\n",
       "    <tr>\n",
       "      <th>3</th>\n",
       "      <td>0.088347</td>\n",
       "      <td>0</td>\n",
       "    </tr>\n",
       "    <tr>\n",
       "      <th>4</th>\n",
       "      <td>0.344351</td>\n",
       "      <td>0</td>\n",
       "    </tr>\n",
       "  </tbody>\n",
       "</table>\n",
       "</div>"
      ],
      "text/plain": [
       "   Default Probability  failure\n",
       "0             0.049898        0\n",
       "1             0.274567        1\n",
       "2             0.289055        1\n",
       "3             0.088347        0\n",
       "4             0.344351        0"
      ]
     },
     "execution_count": 28,
     "metadata": {},
     "output_type": "execute_result"
    }
   ],
   "source": [
    "import xgboost as xgb\n",
    "\n",
    "xgb_model = xgb.XGBClassifier()\n",
    "xgb_model.fit(X_train, np.ravel(y_train))\n",
    "\n",
    "predict_xgb = xgb_model.predict_proba(X_test)\n",
    "predict_xgb_prob = pd.DataFrame(predict_xgb[:,1],columns = ['Default Probability'])\n",
    "xgb_probability = pd.concat([predict_xgb_prob, y_test.reset_index(drop=True)],axis=1)\n",
    "xgb_probability.head()"
   ]
  },
  {
   "cell_type": "code",
   "execution_count": 29,
   "id": "dbda21bc",
   "metadata": {},
   "outputs": [
    {
     "data": {
      "text/plain": [
       "{'attribute_2': 6.0,\n",
       " 'attribute_3': 6.0,\n",
       " 'attribute_0': 7.0,\n",
       " 'attribute_1': 14.0,\n",
       " 'measurement_2': 70.0,\n",
       " 'measurement_0': 75.0,\n",
       " 'measurement_1': 88.0,\n",
       " 'measurement_16': 169.0,\n",
       " 'measurement_13': 175.0,\n",
       " 'measurement_6': 178.0,\n",
       " 'measurement_7': 180.0,\n",
       " 'measurement_3': 184.0,\n",
       " 'measurement_12': 184.0,\n",
       " 'measurement_9': 187.0,\n",
       " 'id': 189.0,\n",
       " 'measurement_14': 189.0,\n",
       " 'measurement_17': 191.0,\n",
       " 'loading': 196.0,\n",
       " 'measurement_5': 196.0,\n",
       " 'measurement_15': 196.0,\n",
       " 'measurement_10': 201.0,\n",
       " 'measurement_11': 203.0,\n",
       " 'measurement_4': 218.0,\n",
       " 'measurement_8': 218.0}"
      ]
     },
     "execution_count": 29,
     "metadata": {},
     "output_type": "execute_result"
    }
   ],
   "source": [
    "feat_importance = xgb_model.get_booster().get_score(importance_type='weight')\n",
    "feature_importance_rank = dict(sorted(feat_importance.items(), key=lambda item: item[1]))\n",
    "feature_importance_rank "
   ]
  },
  {
   "cell_type": "code",
   "execution_count": 30,
   "id": "629e1c00",
   "metadata": {},
   "outputs": [
    {
     "data": {
      "text/plain": [
       "<AxesSubplot:title={'center':'Feature importance'}, xlabel='F score', ylabel='Features'>"
      ]
     },
     "execution_count": 30,
     "metadata": {},
     "output_type": "execute_result"
    },
    {
     "data": {
      "image/png": "[encoded data removed]",
      "text/plain": [
       "<Figure size 432x288 with 1 Axes>"
      ]
     },
     "metadata": {
      "needs_background": "light"
     },
     "output_type": "display_data"
    }
   ],
   "source": [
    "xgb.plot_importance(xgb_model,importance_type='weight')"
   ]
  },
  {
   "cell_type": "code",
   "execution_count": 31,
   "id": "51537fed",
   "metadata": {},
   "outputs": [
    {
     "name": "stdout",
     "output_type": "stream",
     "text": [
      "87.69\n"
     ]
    }
   ],
   "source": [
    "pred_xgb=xgb_model.predict(X_test)\n",
    "xgb_score =xgb_model.score(X_train,y_train)\n",
    "xgb_pred_score =round(xgb_score*100,2)\n",
    "print(xgb_pred_score)"
   ]
  },
  {
   "cell_type": "markdown",
   "id": "8ca1633e",
   "metadata": {},
   "source": [
    "### KNN"
   ]
  },
  {
   "cell_type": "code",
   "execution_count": 32,
   "id": "81c230b1",
   "metadata": {},
   "outputs": [
    {
     "name": "stdout",
     "output_type": "stream",
     "text": [
      "80.54\n"
     ]
    }
   ],
   "source": [
    "from sklearn.neighbors import KNeighborsClassifier\n",
    "\n",
    "model_knn=KNeighborsClassifier()\n",
    "model_knn.fit(X_train,y_train)\n",
    "pred_knn=model_knn.predict(X_test)\n",
    "knn_score =model_knn.score(X_train,y_train)\n",
    "knn_pred_score =round(knn_score*100,2)\n",
    "print(knn_pred_score)"
   ]
  },
  {
   "cell_type": "markdown",
   "id": "158d7994",
   "metadata": {},
   "source": [
    "### Catboost"
   ]
  },
  {
   "cell_type": "code",
   "execution_count": 33,
   "id": "9298d55a",
   "metadata": {},
   "outputs": [
    {
     "name": "stdout",
     "output_type": "stream",
     "text": [
      "0:\tlearn: 0.0012652\ttotal: 166ms\tremaining: 27m 35s\n",
      "1000:\tlearn: 0.0000000\ttotal: 14.3s\tremaining: 2m 8s\n",
      "2000:\tlearn: 0.0068320\ttotal: 27.6s\tremaining: 1m 50s\n",
      "3000:\tlearn: 0.0220142\ttotal: 41.3s\tremaining: 1m 36s\n",
      "4000:\tlearn: 0.0379555\ttotal: 55s\tremaining: 1m 22s\n",
      "5000:\tlearn: 0.0602227\ttotal: 1m 10s\tremaining: 1m 10s\n",
      "6000:\tlearn: 0.0923583\ttotal: 1m 25s\tremaining: 56.7s\n",
      "7000:\tlearn: 0.1265182\ttotal: 1m 39s\tremaining: 42.6s\n",
      "8000:\tlearn: 0.1594130\ttotal: 1m 54s\tremaining: 28.5s\n",
      "9000:\tlearn: 0.1920547\ttotal: 2m 10s\tremaining: 14.5s\n",
      "9999:\tlearn: 0.2350709\ttotal: 2m 26s\tremaining: 0us\n"
     ]
    },
    {
     "data": {
      "text/plain": [
       "<catboost.core.CatBoostClassifier at 0x1e456c17c40>"
      ]
     },
     "execution_count": 33,
     "metadata": {},
     "output_type": "execute_result"
    }
   ],
   "source": [
    "import catboost as cat\n",
    "\n",
    "model_catboost = cat.CatBoostClassifier(iterations=10000,learning_rate=0.005,eval_metric='Recall')\n",
    "model_catboost.fit(X_train,y_train, early_stopping_rounds=1000, verbose=1000)"
   ]
  },
  {
   "cell_type": "code",
   "execution_count": 34,
   "id": "53eddf98",
   "metadata": {},
   "outputs": [
    {
     "data": {
      "text/plain": [
       "78.69"
      ]
     },
     "execution_count": 34,
     "metadata": {},
     "output_type": "execute_result"
    }
   ],
   "source": [
    "pred_catboost=model_catboost.predict(X_test)\n",
    "catboost_score =model_catboost.score(X_test,y_test)\n",
    "catboost_pred_score =round(catboost_score*100,2)\n",
    "catboost_pred_score"
   ]
  },
  {
   "cell_type": "markdown",
   "id": "a604dcf8",
   "metadata": {},
   "source": [
    "###  GradientBoosting"
   ]
  },
  {
   "cell_type": "code",
   "execution_count": 35,
   "id": "61ecebe9",
   "metadata": {},
   "outputs": [
    {
     "data": {
      "text/plain": [
       "78.53"
      ]
     },
     "execution_count": 35,
     "metadata": {},
     "output_type": "execute_result"
    }
   ],
   "source": [
    "from sklearn.datasets import make_hastie_10_2\n",
    "from sklearn.ensemble import GradientBoostingClassifier\n",
    "\n",
    "model_gbdt = GradientBoostingClassifier(n_estimators=100, learning_rate=1.0, max_depth=1, random_state=0).fit(X_train, y_train)\n",
    "pred_gbdt = model_gbdt.predict(X_test)\n",
    "gbdt_score = model_gbdt.score(X_test, y_test)\n",
    "gbdt_pred_score  =round(gbdt_score*100,2)\n",
    "gbdt_pred_score"
   ]
  },
  {
   "cell_type": "markdown",
   "id": "02fbcbaf",
   "metadata": {},
   "source": [
    "### LinearDiscriminant"
   ]
  },
  {
   "cell_type": "code",
   "execution_count": 36,
   "id": "2a6561b2",
   "metadata": {},
   "outputs": [
    {
     "name": "stdout",
     "output_type": "stream",
     "text": [
      "78.74\n"
     ]
    }
   ],
   "source": [
    "from sklearn.discriminant_analysis import LinearDiscriminantAnalysis\n",
    "\n",
    "model_lda = LinearDiscriminantAnalysis()\n",
    "model_lda.fit(X_train,y_train)\n",
    "pred_lda=model_lda.predict(X_test)\n",
    "lda_score =model_lda.score(X_train,y_train)\n",
    "lda_pred_score =round(lda_score*100,2)\n",
    "print(lda_pred_score)"
   ]
  },
  {
   "cell_type": "markdown",
   "id": "3a391068",
   "metadata": {},
   "source": [
    "### GaussianNB"
   ]
  },
  {
   "cell_type": "code",
   "execution_count": 37,
   "id": "0ea96418",
   "metadata": {},
   "outputs": [
    {
     "name": "stdout",
     "output_type": "stream",
     "text": [
      "78.24\n"
     ]
    }
   ],
   "source": [
    "from sklearn.naive_bayes import GaussianNB\n",
    "\n",
    "model_gnb =GaussianNB()\n",
    "model_gnb.fit(X_train,y_train)\n",
    "pred_gnb=model_gnb.predict(X_test)\n",
    "gnb_score =model_gnb.score(X_train,y_train)\n",
    "gnb_pred_score =round(gnb_score*100,2)\n",
    "print(gnb_pred_score)"
   ]
  },
  {
   "cell_type": "markdown",
   "id": "050c317f",
   "metadata": {},
   "source": [
    "###  RandomForest"
   ]
  },
  {
   "cell_type": "code",
   "execution_count": 38,
   "id": "6dfe0720",
   "metadata": {},
   "outputs": [
    {
     "name": "stdout",
     "output_type": "stream",
     "text": [
      "78.75\n"
     ]
    }
   ],
   "source": [
    "from sklearn.ensemble import RandomForestClassifier\n",
    "\n",
    "model_rfc =RandomForestClassifier(max_depth=2, random_state=0)\n",
    "model_rfc.fit(X_train,y_train)\n",
    "pred_rfc=model_rfc.predict(X_test)\n",
    "rfc_score =model_rfc.score(X_train,y_train)\n",
    "rfc_pred_score =round(rfc_score*100,2)\n",
    "print(rfc_pred_score)"
   ]
  },
  {
   "cell_type": "markdown",
   "id": "b9ea4c73",
   "metadata": {},
   "source": [
    "###  VotingClassifier"
   ]
  },
  {
   "cell_type": "code",
   "execution_count": 39,
   "id": "8c22b0c0",
   "metadata": {},
   "outputs": [
    {
     "name": "stdout",
     "output_type": "stream",
     "text": [
      "80.04\n"
     ]
    }
   ],
   "source": [
    "from sklearn.ensemble import VotingClassifier\n",
    "\n",
    "lr1 = LogisticRegression(multi_class='multinomial', random_state=1)\n",
    "rfc2 = RandomForestClassifier(n_estimators=50, random_state=1)\n",
    "gnb3 = GaussianNB()\n",
    "model_vtc = VotingClassifier(estimators=[('lr', lr1), ('rf', rfc2), ('gnb', gnb3)], voting='soft')\n",
    "\n",
    "model_vtc.fit(X_train,y_train)\n",
    "pred_vtc=model_vtc.predict(X_test)\n",
    "vtc_score =model_vtc.score(X_train,y_train)\n",
    "vtc_pred_score =round(vtc_score*100,2)\n",
    "print(vtc_pred_score)"
   ]
  },
  {
   "cell_type": "markdown",
   "id": "b7bc25de",
   "metadata": {},
   "source": [
    "## Result"
   ]
  },
  {
   "cell_type": "code",
   "execution_count": 40,
   "id": "0de17af4",
   "metadata": {},
   "outputs": [
    {
     "name": "stdout",
     "output_type": "stream",
     "text": [
      "Logistic Regression\n",
      "              precision    recall  f1-score   support\n",
      "\n",
      "           0       0.79      1.00      0.88      6274\n",
      "           1       0.40      0.00      0.00      1697\n",
      "\n",
      "    accuracy                           0.79      7971\n",
      "   macro avg       0.59      0.50      0.44      7971\n",
      "weighted avg       0.70      0.79      0.69      7971\n",
      "\n",
      "Decision Tree\n",
      "              precision    recall  f1-score   support\n",
      "\n",
      "           0       0.79      0.76      0.77      6274\n",
      "           1       0.21      0.23      0.22      1697\n",
      "\n",
      "    accuracy                           0.65      7971\n",
      "   macro avg       0.50      0.50      0.50      7971\n",
      "weighted avg       0.66      0.65      0.66      7971\n",
      "\n",
      "XGBoost\n",
      "              precision    recall  f1-score   support\n",
      "\n",
      "           0       0.79      0.98      0.87      6274\n",
      "           1       0.25      0.03      0.05      1697\n",
      "\n",
      "    accuracy                           0.77      7971\n",
      "   macro avg       0.52      0.50      0.46      7971\n",
      "weighted avg       0.67      0.77      0.70      7971\n",
      "\n",
      "KNN\n",
      "              precision    recall  f1-score   support\n",
      "\n",
      "           0       0.79      0.93      0.85      6274\n",
      "           1       0.21      0.07      0.10      1697\n",
      "\n",
      "    accuracy                           0.75      7971\n",
      "   macro avg       0.50      0.50      0.48      7971\n",
      "weighted avg       0.66      0.75      0.69      7971\n",
      "\n",
      "CatBoost\n",
      "              precision    recall  f1-score   support\n",
      "\n",
      "           0       0.79      1.00      0.88      6274\n",
      "           1       0.46      0.01      0.01      1697\n",
      "\n",
      "    accuracy                           0.79      7971\n",
      "   macro avg       0.62      0.50      0.45      7971\n",
      "weighted avg       0.72      0.79      0.70      7971\n",
      "\n",
      "GradientBoosting\n",
      "              precision    recall  f1-score   support\n",
      "\n",
      "           0       0.79      1.00      0.88      6274\n",
      "           1       0.28      0.01      0.01      1697\n",
      "\n",
      "    accuracy                           0.79      7971\n",
      "   macro avg       0.53      0.50      0.45      7971\n",
      "weighted avg       0.68      0.79      0.69      7971\n",
      "\n",
      "LinearDiscriminant\n",
      "              precision    recall  f1-score   support\n",
      "\n",
      "           0       0.79      1.00      0.88      6274\n",
      "           1       0.27      0.00      0.00      1697\n",
      "\n",
      "    accuracy                           0.79      7971\n",
      "   macro avg       0.53      0.50      0.44      7971\n",
      "weighted avg       0.68      0.79      0.69      7971\n",
      "\n",
      "GaussianNB\n",
      "              precision    recall  f1-score   support\n",
      "\n",
      "           0       0.79      0.99      0.88      6274\n",
      "           1       0.34      0.03      0.05      1697\n",
      "\n",
      "    accuracy                           0.78      7971\n",
      "   macro avg       0.56      0.51      0.46      7971\n",
      "weighted avg       0.69      0.78      0.70      7971\n",
      "\n",
      "Random Forest\n",
      "              precision    recall  f1-score   support\n",
      "\n",
      "           0       0.79      1.00      0.88      6274\n",
      "           1       0.00      0.00      0.00      1697\n",
      "\n",
      "    accuracy                           0.79      7971\n",
      "   macro avg       0.39      0.50      0.44      7971\n",
      "weighted avg       0.62      0.79      0.69      7971\n",
      "\n",
      "Voting Classifier\n",
      "              precision    recall  f1-score   support\n",
      "\n",
      "           0       0.79      1.00      0.88      6274\n",
      "           1       0.37      0.01      0.02      1697\n",
      "\n",
      "    accuracy                           0.79      7971\n",
      "   macro avg       0.58      0.50      0.45      7971\n",
      "weighted avg       0.70      0.79      0.70      7971\n",
      "\n"
     ]
    }
   ],
   "source": [
    "from sklearn.metrics import classification_report\n",
    "\n",
    "print('Logistic Regression')\n",
    "print(classification_report(y_test,pred_log))\n",
    "\n",
    "print('Decision Tree')\n",
    "print(classification_report(y_test,pred_decision))\n",
    "\n",
    "print('XGBoost')\n",
    "print(classification_report(y_test,pred_xgb))\n",
    "\n",
    "print('KNN')\n",
    "print(classification_report(y_test,pred_knn))\n",
    "\n",
    "print('CatBoost')\n",
    "print(classification_report(y_test,pred_catboost))\n",
    "\n",
    "print('GradientBoosting')\n",
    "print(classification_report(y_test,pred_gbdt))\n",
    "\n",
    "print('LinearDiscriminant')\n",
    "print(classification_report(y_test,pred_lda))\n",
    "\n",
    "print('GaussianNB')\n",
    "print(classification_report(y_test,pred_gnb))\n",
    "      \n",
    "print('Random Forest')\n",
    "print(classification_report(y_test,pred_rfc))\n",
    "      \n",
    "print('Voting Classifier')\n",
    "print(classification_report(y_test,pred_vtc))"
   ]
  },
  {
   "cell_type": "code",
   "execution_count": 41,
   "id": "caf261da",
   "metadata": {},
   "outputs": [
    {
     "data": {
      "text/plain": [
       "<matplotlib.legend.Legend at 0x1e45464a3d0>"
      ]
     },
     "execution_count": 41,
     "metadata": {},
     "output_type": "execute_result"
    },
    {
     "data": {
      "image/png": "[encoded data removed]",
      "text/plain": [
       "<Figure size 1080x504 with 1 Axes>"
      ]
     },
     "metadata": {
      "needs_background": "light"
     },
     "output_type": "display_data"
    }
   ],
   "source": [
    "from sklearn.metrics import roc_curve, roc_auc_score\n",
    "\n",
    "plt.figure(figsize=(15,7))\n",
    "plt.subplot(1,2,2)\n",
    "plt.plot([0, 1], [0, 1], 'k--')\n",
    "\n",
    "model_log_proba=model_log.predict_proba(X_test)[:,1]\n",
    "fpr, tpr, thresholds  = roc_curve(y_test,model_log_proba)\n",
    "plt.plot(fpr, tpr, label='Logistic Regression')\n",
    "\n",
    "model_decision_proba=model_decision.predict_proba(X_test)[:,1]\n",
    "fpr, tpr, thresholds  = roc_curve(y_test,model_decision_proba)\n",
    "plt.plot(fpr, tpr, label='Decision Tree')\n",
    "\n",
    "xgb_model_proba=xgb_model.predict_proba(X_test)[:,1]\n",
    "fpr, tpr, thresholds  = roc_curve(y_test,xgb_model_proba)\n",
    "plt.plot(fpr, tpr, label='XGBoosts')\n",
    "\n",
    "model_knn_proba=model_knn.predict_proba(X_test)[:,1]\n",
    "fpr, tpr, thresholds  = roc_curve(y_test,model_knn_proba)\n",
    "plt.plot(fpr, tpr, label='KNN')\n",
    "\n",
    "model_catboost_proba=model_catboost.predict_proba(X_test)[:,1]\n",
    "fpr, tpr, thresholds  = roc_curve(y_test,model_catboost_proba)\n",
    "plt.plot(fpr, tpr, label='CatBoost')\n",
    "\n",
    "model_gbdt_proba=model_gbdt.predict_proba(X_test)[:,1]\n",
    "fpr, tpr, thresholds  = roc_curve(y_test,model_gbdt_proba)\n",
    "plt.plot(fpr, tpr, label='GradientBoosting')\n",
    "\n",
    "model_lda_proba=model_lda.predict_proba(X_test)[:,1]\n",
    "fpr, tpr, thresholds  = roc_curve(y_test,model_lda_proba)\n",
    "plt.plot(fpr, tpr, label='LinearDiscriminant')\n",
    "\n",
    "model_gnb_proba=model_gnb.predict_proba(X_test)[:,1]\n",
    "fpr, tpr, thresholds  = roc_curve(y_test,model_gnb_proba)\n",
    "plt.plot(fpr, tpr, label='GaussianNB')\n",
    "\n",
    "model_rfc_proba=model_rfc.predict_proba(X_test)[:,1]\n",
    "fpr, tpr, thresholds  = roc_curve(y_test,model_rfc_proba)\n",
    "plt.plot(fpr, tpr, label='RandomForest')\n",
    "\n",
    "model_vtc_proba=model_vtc.predict_proba(X_test)[:,1]\n",
    "fpr, tpr, thresholds  = roc_curve(y_test,model_vtc_proba)\n",
    "plt.plot(fpr, tpr, label='VotingClassifier')\n",
    "\n",
    "\n",
    "plt.xlabel('False Positive Rate',fontsize=14)\n",
    "plt.ylabel('True Positive Rate',fontsize=14)\n",
    "plt.title('ROC Curve',fontsize=15)\n",
    "plt.legend()"
   ]
  },
  {
   "cell_type": "code",
   "execution_count": 42,
   "id": "a4f25549",
   "metadata": {},
   "outputs": [
    {
     "name": "stdout",
     "output_type": "stream",
     "text": [
      "0.7869777945050809\n",
      "[[6271    3]\n",
      " [1695    2]]\n"
     ]
    }
   ],
   "source": [
    "from sklearn.metrics import accuracy_score\n",
    "from sklearn.metrics import cluster\n",
    "\n",
    "print(accuracy_score(y_test, pred_log))\n",
    "log_table = cluster.contingency_matrix(y_test, pred_log)\n",
    "print(log_table)"
   ]
  },
  {
   "cell_type": "code",
   "execution_count": 43,
   "id": "74e40e19",
   "metadata": {},
   "outputs": [
    {
     "data": {
      "text/plain": [
       "<AxesSubplot:>"
      ]
     },
     "execution_count": 43,
     "metadata": {},
     "output_type": "execute_result"
    },
    {
     "data": {
      "image/png": "[encoded data removed]",
      "text/plain": [
       "<Figure size 432x288 with 2 Axes>"
      ]
     },
     "metadata": {
      "needs_background": "light"
     },
     "output_type": "display_data"
    }
   ],
   "source": [
    "sns.heatmap(log_table, annot=True, fmt='.2f',cmap=\"BuPu\", vmin=0.0, vmax=100.0)"
   ]
  },
  {
   "cell_type": "code",
   "execution_count": 44,
   "id": "a3a74019",
   "metadata": {},
   "outputs": [
    {
     "data": {
      "text/html": [
       "<div>\n",
       "<style scoped>\n",
       "    .dataframe tbody tr th:only-of-type {\n",
       "        vertical-align: middle;\n",
       "    }\n",
       "\n",
       "    .dataframe tbody tr th {\n",
       "        vertical-align: top;\n",
       "    }\n",
       "\n",
       "    .dataframe thead th {\n",
       "        text-align: right;\n",
       "    }\n",
       "</style>\n",
       "<table border=\"1\" class=\"dataframe\">\n",
       "  <thead>\n",
       "    <tr style=\"text-align: right;\">\n",
       "      <th></th>\n",
       "      <th>id</th>\n",
       "      <th>failure</th>\n",
       "    </tr>\n",
       "  </thead>\n",
       "  <tbody>\n",
       "    <tr>\n",
       "      <th>0</th>\n",
       "      <td>26570</td>\n",
       "      <td>0.188167</td>\n",
       "    </tr>\n",
       "    <tr>\n",
       "      <th>1</th>\n",
       "      <td>26571</td>\n",
       "      <td>0.173586</td>\n",
       "    </tr>\n",
       "    <tr>\n",
       "      <th>2</th>\n",
       "      <td>26572</td>\n",
       "      <td>0.183911</td>\n",
       "    </tr>\n",
       "    <tr>\n",
       "      <th>3</th>\n",
       "      <td>26573</td>\n",
       "      <td>0.184001</td>\n",
       "    </tr>\n",
       "    <tr>\n",
       "      <th>4</th>\n",
       "      <td>26574</td>\n",
       "      <td>0.321598</td>\n",
       "    </tr>\n",
       "  </tbody>\n",
       "</table>\n",
       "</div>"
      ],
      "text/plain": [
       "      id   failure\n",
       "0  26570  0.188167\n",
       "1  26571  0.173586\n",
       "2  26572  0.183911\n",
       "3  26573  0.184001\n",
       "4  26574  0.321598"
      ]
     },
     "execution_count": 44,
     "metadata": {},
     "output_type": "execute_result"
    }
   ],
   "source": [
    "log_prediction = model_log.predict_proba(test_df)[:,1]\n",
    "\n",
    "labels = test_df['id']\n",
    "log_submission = pd.DataFrame(np.array([labels, log_prediction]).T,\n",
    "                                 columns = ['id', 'failure'])\n",
    "log_submission['id'] = log_submission['id'].astype(int)\n",
    "log_submission.head()"
   ]
  },
  {
   "cell_type": "code",
   "execution_count": 45,
   "id": "e57285a7",
   "metadata": {},
   "outputs": [],
   "source": [
    "log_submission.to_csv('log_submission.csv', index=False)"
   ]
  }
 ],
 "metadata": {
  "kernelspec": {
   "display_name": "Python 3 (ipykernel)",
   "language": "python",
   "name": "python3"
  },
  "language_info": {
   "codemirror_mode": {
    "name": "ipython",
    "version": 3
   },
   "file_extension": ".py",
   "mimetype": "text/x-python",
   "name": "python",
   "nbconvert_exporter": "python",
   "pygments_lexer": "ipython3",
   "version": "3.9.7"
  }
 },
 "nbformat": 4,
 "nbformat_minor": 5
}
