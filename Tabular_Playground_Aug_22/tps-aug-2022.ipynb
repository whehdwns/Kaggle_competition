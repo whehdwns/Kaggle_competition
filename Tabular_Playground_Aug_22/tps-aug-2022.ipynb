{
 "cells": [
  {
   "cell_type": "code",
   "execution_count": 1,
   "id": "3ac44311",
   "metadata": {
    "_cell_guid": "b1076dfc-b9ad-4769-8c92-a6c4dae69d19",
    "_uuid": "8f2839f25d086af736a60e9eeb907d3b93b6e0e5",
    "execution": {
     "iopub.execute_input": "2022-08-09T02:07:50.489098Z",
     "iopub.status.busy": "2022-08-09T02:07:50.488619Z",
     "iopub.status.idle": "2022-08-09T02:07:51.701160Z",
     "shell.execute_reply": "2022-08-09T02:07:51.699842Z"
    },
    "papermill": {
     "duration": 1.225514,
     "end_time": "2022-08-09T02:07:51.703427",
     "exception": false,
     "start_time": "2022-08-09T02:07:50.477913",
     "status": "completed"
    },
    "tags": []
   },
   "outputs": [
    {
     "name": "stdout",
     "output_type": "stream",
     "text": [
      "/kaggle/input/tabular-playground-series-aug-2022/sample_submission.csv\n",
      "/kaggle/input/tabular-playground-series-aug-2022/train.csv\n",
      "/kaggle/input/tabular-playground-series-aug-2022/test.csv\n"
     ]
    }
   ],
   "source": [
    "# This Python 3 environment comes with many helpful analytics libraries installed\n",
    "# It is defined by the kaggle/python Docker image: https://github.com/kaggle/docker-python\n",
    "# For example, here's several helpful packages to load\n",
    "\n",
    "import numpy as np # linear algebra\n",
    "import pandas as pd # data processing, CSV file I/O (e.g. pd.read_csv)\n",
    "import matplotlib.pyplot as plt\n",
    "import warnings\n",
    "import seaborn as sns\n",
    "warnings.filterwarnings('ignore')\n",
    "\n",
    "# Input data files are available in the read-only \"../input/\" directory\n",
    "# For example, running this (by clicking run or pressing Shift+Enter) will list all files under the input directory\n",
    "\n",
    "import os\n",
    "for dirname, _, filenames in os.walk('/kaggle/input'):\n",
    "    for filename in filenames:\n",
    "        print(os.path.join(dirname, filename))\n",
    "\n",
    "# You can write up to 20GB to the current directory (/kaggle/working/) that gets preserved as output when you create a version using \"Save & Run All\" \n",
    "# You can also write temporary files to /kaggle/temp/, but they won't be saved outside of the current session"
   ]
  },
  {
   "cell_type": "code",
   "execution_count": 2,
   "id": "515f665b",
   "metadata": {
    "execution": {
     "iopub.execute_input": "2022-08-09T02:07:51.722224Z",
     "iopub.status.busy": "2022-08-09T02:07:51.721433Z",
     "iopub.status.idle": "2022-08-09T02:07:51.909557Z",
     "shell.execute_reply": "2022-08-09T02:07:51.908747Z"
    },
    "papermill": {
     "duration": 0.199469,
     "end_time": "2022-08-09T02:07:51.911464",
     "exception": false,
     "start_time": "2022-08-09T02:07:51.711995",
     "status": "completed"
    },
    "tags": []
   },
   "outputs": [],
   "source": [
    "train_df_orig = pd.read_csv('../input/tabular-playground-series-aug-2022/train.csv')\n",
    "train_df = train_df_orig.copy()\n",
    "\n",
    "test_df_orig = pd.read_csv('../input/tabular-playground-series-aug-2022/test.csv')\n",
    "test_df = test_df_orig.copy()"
   ]
  },
  {
   "cell_type": "code",
   "execution_count": 3,
   "id": "4fa62006",
   "metadata": {
    "execution": {
     "iopub.execute_input": "2022-08-09T02:07:51.930205Z",
     "iopub.status.busy": "2022-08-09T02:07:51.929433Z",
     "iopub.status.idle": "2022-08-09T02:07:51.958683Z",
     "shell.execute_reply": "2022-08-09T02:07:51.957772Z"
    },
    "papermill": {
     "duration": 0.040276,
     "end_time": "2022-08-09T02:07:51.960269",
     "exception": false,
     "start_time": "2022-08-09T02:07:51.919993",
     "status": "completed"
    },
    "tags": []
   },
   "outputs": [
    {
     "data": {
      "text/html": [
       "<div>\n",
       "<style scoped>\n",
       "    .dataframe tbody tr th:only-of-type {\n",
       "        vertical-align: middle;\n",
       "    }\n",
       "\n",
       "    .dataframe tbody tr th {\n",
       "        vertical-align: top;\n",
       "    }\n",
       "\n",
       "    .dataframe thead th {\n",
       "        text-align: right;\n",
       "    }\n",
       "</style>\n",
       "<table border=\"1\" class=\"dataframe\">\n",
       "  <thead>\n",
       "    <tr style=\"text-align: right;\">\n",
       "      <th></th>\n",
       "      <th>id</th>\n",
       "      <th>product_code</th>\n",
       "      <th>loading</th>\n",
       "      <th>attribute_0</th>\n",
       "      <th>attribute_1</th>\n",
       "      <th>attribute_2</th>\n",
       "      <th>attribute_3</th>\n",
       "      <th>measurement_0</th>\n",
       "      <th>measurement_1</th>\n",
       "      <th>measurement_2</th>\n",
       "      <th>...</th>\n",
       "      <th>measurement_9</th>\n",
       "      <th>measurement_10</th>\n",
       "      <th>measurement_11</th>\n",
       "      <th>measurement_12</th>\n",
       "      <th>measurement_13</th>\n",
       "      <th>measurement_14</th>\n",
       "      <th>measurement_15</th>\n",
       "      <th>measurement_16</th>\n",
       "      <th>measurement_17</th>\n",
       "      <th>failure</th>\n",
       "    </tr>\n",
       "  </thead>\n",
       "  <tbody>\n",
       "    <tr>\n",
       "      <th>0</th>\n",
       "      <td>0</td>\n",
       "      <td>A</td>\n",
       "      <td>80.10</td>\n",
       "      <td>material_7</td>\n",
       "      <td>material_8</td>\n",
       "      <td>9</td>\n",
       "      <td>5</td>\n",
       "      <td>7</td>\n",
       "      <td>8</td>\n",
       "      <td>4</td>\n",
       "      <td>...</td>\n",
       "      <td>10.672</td>\n",
       "      <td>15.859</td>\n",
       "      <td>17.594</td>\n",
       "      <td>15.193</td>\n",
       "      <td>15.029</td>\n",
       "      <td>NaN</td>\n",
       "      <td>13.034</td>\n",
       "      <td>14.684</td>\n",
       "      <td>764.100</td>\n",
       "      <td>0</td>\n",
       "    </tr>\n",
       "    <tr>\n",
       "      <th>1</th>\n",
       "      <td>1</td>\n",
       "      <td>A</td>\n",
       "      <td>84.89</td>\n",
       "      <td>material_7</td>\n",
       "      <td>material_8</td>\n",
       "      <td>9</td>\n",
       "      <td>5</td>\n",
       "      <td>14</td>\n",
       "      <td>3</td>\n",
       "      <td>3</td>\n",
       "      <td>...</td>\n",
       "      <td>12.448</td>\n",
       "      <td>17.947</td>\n",
       "      <td>17.915</td>\n",
       "      <td>11.755</td>\n",
       "      <td>14.732</td>\n",
       "      <td>15.425</td>\n",
       "      <td>14.395</td>\n",
       "      <td>15.631</td>\n",
       "      <td>682.057</td>\n",
       "      <td>0</td>\n",
       "    </tr>\n",
       "  </tbody>\n",
       "</table>\n",
       "<p>2 rows × 26 columns</p>\n",
       "</div>"
      ],
      "text/plain": [
       "   id product_code  loading attribute_0 attribute_1  attribute_2  attribute_3  \\\n",
       "0   0            A    80.10  material_7  material_8            9            5   \n",
       "1   1            A    84.89  material_7  material_8            9            5   \n",
       "\n",
       "   measurement_0  measurement_1  measurement_2  ...  measurement_9  \\\n",
       "0              7              8              4  ...         10.672   \n",
       "1             14              3              3  ...         12.448   \n",
       "\n",
       "   measurement_10  measurement_11  measurement_12  measurement_13  \\\n",
       "0          15.859          17.594          15.193          15.029   \n",
       "1          17.947          17.915          11.755          14.732   \n",
       "\n",
       "   measurement_14  measurement_15  measurement_16  measurement_17  failure  \n",
       "0             NaN          13.034          14.684         764.100        0  \n",
       "1          15.425          14.395          15.631         682.057        0  \n",
       "\n",
       "[2 rows x 26 columns]"
      ]
     },
     "execution_count": 3,
     "metadata": {},
     "output_type": "execute_result"
    }
   ],
   "source": [
    "train_df.head(2)"
   ]
  },
  {
   "cell_type": "markdown",
   "id": "143f3043",
   "metadata": {
    "papermill": {
     "duration": 0.008345,
     "end_time": "2022-08-09T02:07:51.977381",
     "exception": false,
     "start_time": "2022-08-09T02:07:51.969036",
     "status": "completed"
    },
    "tags": []
   },
   "source": [
    "### Transform String value to integer values"
   ]
  },
  {
   "cell_type": "code",
   "execution_count": 4,
   "id": "93f80c71",
   "metadata": {
    "execution": {
     "iopub.execute_input": "2022-08-09T02:07:51.997792Z",
     "iopub.status.busy": "2022-08-09T02:07:51.996989Z",
     "iopub.status.idle": "2022-08-09T02:07:52.014654Z",
     "shell.execute_reply": "2022-08-09T02:07:52.013734Z"
    },
    "papermill": {
     "duration": 0.029816,
     "end_time": "2022-08-09T02:07:52.016382",
     "exception": false,
     "start_time": "2022-08-09T02:07:51.986566",
     "status": "completed"
    },
    "tags": []
   },
   "outputs": [
    {
     "name": "stdout",
     "output_type": "stream",
     "text": [
      "Unique value of product_code is ['A' 'B' 'C' 'D' 'E']\n",
      "Unique value of attribute_0 is ['material_7' 'material_5']\n",
      "Unique value of attribute_1 is ['material_8' 'material_5' 'material_6']\n"
     ]
    }
   ],
   "source": [
    "string_column = ['product_code', 'attribute_0', 'attribute_1']\n",
    "for i in string_column:\n",
    "    print(\"Unique value of \"+str(i) +\" is \" + str(train_df[i].unique()))"
   ]
  },
  {
   "cell_type": "code",
   "execution_count": 5,
   "id": "ecf4d377",
   "metadata": {
    "execution": {
     "iopub.execute_input": "2022-08-09T02:07:52.035908Z",
     "iopub.status.busy": "2022-08-09T02:07:52.035088Z",
     "iopub.status.idle": "2022-08-09T02:07:52.232824Z",
     "shell.execute_reply": "2022-08-09T02:07:52.231225Z"
    },
    "papermill": {
     "duration": 0.209978,
     "end_time": "2022-08-09T02:07:52.235132",
     "exception": false,
     "start_time": "2022-08-09T02:07:52.025154",
     "status": "completed"
    },
    "tags": []
   },
   "outputs": [],
   "source": [
    "from sklearn import preprocessing\n",
    "le = preprocessing.LabelEncoder()\n",
    "\n",
    "for i in string_column:\n",
    "    le.fit(train_df[i])\n",
    "    train_df[i] = le.transform(train_df[i])\n",
    "    le.fit(test_df[i])\n",
    "    test_df[i] = le.transform(test_df[i])"
   ]
  },
  {
   "cell_type": "code",
   "execution_count": 6,
   "id": "6e7fa84a",
   "metadata": {
    "execution": {
     "iopub.execute_input": "2022-08-09T02:07:52.255024Z",
     "iopub.status.busy": "2022-08-09T02:07:52.254078Z",
     "iopub.status.idle": "2022-08-09T02:07:52.274829Z",
     "shell.execute_reply": "2022-08-09T02:07:52.273558Z"
    },
    "papermill": {
     "duration": 0.032931,
     "end_time": "2022-08-09T02:07:52.277118",
     "exception": false,
     "start_time": "2022-08-09T02:07:52.244187",
     "status": "completed"
    },
    "tags": []
   },
   "outputs": [
    {
     "data": {
      "text/html": [
       "<div>\n",
       "<style scoped>\n",
       "    .dataframe tbody tr th:only-of-type {\n",
       "        vertical-align: middle;\n",
       "    }\n",
       "\n",
       "    .dataframe tbody tr th {\n",
       "        vertical-align: top;\n",
       "    }\n",
       "\n",
       "    .dataframe thead th {\n",
       "        text-align: right;\n",
       "    }\n",
       "</style>\n",
       "<table border=\"1\" class=\"dataframe\">\n",
       "  <thead>\n",
       "    <tr style=\"text-align: right;\">\n",
       "      <th></th>\n",
       "      <th>id</th>\n",
       "      <th>product_code</th>\n",
       "      <th>loading</th>\n",
       "      <th>attribute_0</th>\n",
       "      <th>attribute_1</th>\n",
       "      <th>attribute_2</th>\n",
       "      <th>attribute_3</th>\n",
       "      <th>measurement_0</th>\n",
       "      <th>measurement_1</th>\n",
       "      <th>measurement_2</th>\n",
       "      <th>...</th>\n",
       "      <th>measurement_9</th>\n",
       "      <th>measurement_10</th>\n",
       "      <th>measurement_11</th>\n",
       "      <th>measurement_12</th>\n",
       "      <th>measurement_13</th>\n",
       "      <th>measurement_14</th>\n",
       "      <th>measurement_15</th>\n",
       "      <th>measurement_16</th>\n",
       "      <th>measurement_17</th>\n",
       "      <th>failure</th>\n",
       "    </tr>\n",
       "  </thead>\n",
       "  <tbody>\n",
       "    <tr>\n",
       "      <th>0</th>\n",
       "      <td>0</td>\n",
       "      <td>0</td>\n",
       "      <td>80.1</td>\n",
       "      <td>1</td>\n",
       "      <td>2</td>\n",
       "      <td>9</td>\n",
       "      <td>5</td>\n",
       "      <td>7</td>\n",
       "      <td>8</td>\n",
       "      <td>4</td>\n",
       "      <td>...</td>\n",
       "      <td>10.672</td>\n",
       "      <td>15.859</td>\n",
       "      <td>17.594</td>\n",
       "      <td>15.193</td>\n",
       "      <td>15.029</td>\n",
       "      <td>NaN</td>\n",
       "      <td>13.034</td>\n",
       "      <td>14.684</td>\n",
       "      <td>764.1</td>\n",
       "      <td>0</td>\n",
       "    </tr>\n",
       "  </tbody>\n",
       "</table>\n",
       "<p>1 rows × 26 columns</p>\n",
       "</div>"
      ],
      "text/plain": [
       "   id  product_code  loading  attribute_0  attribute_1  attribute_2  \\\n",
       "0   0             0     80.1            1            2            9   \n",
       "\n",
       "   attribute_3  measurement_0  measurement_1  measurement_2  ...  \\\n",
       "0            5              7              8              4  ...   \n",
       "\n",
       "   measurement_9  measurement_10  measurement_11  measurement_12  \\\n",
       "0         10.672          15.859          17.594          15.193   \n",
       "\n",
       "   measurement_13  measurement_14  measurement_15  measurement_16  \\\n",
       "0          15.029             NaN          13.034          14.684   \n",
       "\n",
       "   measurement_17  failure  \n",
       "0           764.1        0  \n",
       "\n",
       "[1 rows x 26 columns]"
      ]
     },
     "execution_count": 6,
     "metadata": {},
     "output_type": "execute_result"
    }
   ],
   "source": [
    "train_df.head(1)"
   ]
  },
  {
   "cell_type": "markdown",
   "id": "f49b2c60",
   "metadata": {
    "papermill": {
     "duration": 0.00877,
     "end_time": "2022-08-09T02:07:52.294816",
     "exception": false,
     "start_time": "2022-08-09T02:07:52.286046",
     "status": "completed"
    },
    "tags": []
   },
   "source": [
    "### Check Null values in the dataframe"
   ]
  },
  {
   "cell_type": "code",
   "execution_count": 7,
   "id": "f5085493",
   "metadata": {
    "execution": {
     "iopub.execute_input": "2022-08-09T02:07:52.315851Z",
     "iopub.status.busy": "2022-08-09T02:07:52.314375Z",
     "iopub.status.idle": "2022-08-09T02:07:52.324774Z",
     "shell.execute_reply": "2022-08-09T02:07:52.323346Z"
    },
    "papermill": {
     "duration": 0.022673,
     "end_time": "2022-08-09T02:07:52.327030",
     "exception": false,
     "start_time": "2022-08-09T02:07:52.304357",
     "status": "completed"
    },
    "tags": []
   },
   "outputs": [
    {
     "name": "stdout",
     "output_type": "stream",
     "text": [
      "Train Dataset\n",
      "['loading', 'measurement_3', 'measurement_4', 'measurement_5', 'measurement_6', 'measurement_7', 'measurement_8', 'measurement_9', 'measurement_10', 'measurement_11', 'measurement_12', 'measurement_13', 'measurement_14', 'measurement_15', 'measurement_16', 'measurement_17']\n",
      "Test Dataset\n",
      "['loading', 'measurement_3', 'measurement_4', 'measurement_5', 'measurement_6', 'measurement_7', 'measurement_8', 'measurement_9', 'measurement_10', 'measurement_11', 'measurement_12', 'measurement_13', 'measurement_14', 'measurement_15', 'measurement_16', 'measurement_17']\n"
     ]
    }
   ],
   "source": [
    "print(\"Train Dataset\")\n",
    "print(train_df.columns[train_df.isna().any()].tolist())\n",
    "print(\"Test Dataset\")\n",
    "print(test_df.columns[test_df.isna().any()].tolist())"
   ]
  },
  {
   "cell_type": "code",
   "execution_count": 8,
   "id": "ee49559f",
   "metadata": {
    "execution": {
     "iopub.execute_input": "2022-08-09T02:07:52.347327Z",
     "iopub.status.busy": "2022-08-09T02:07:52.346323Z",
     "iopub.status.idle": "2022-08-09T02:07:52.374949Z",
     "shell.execute_reply": "2022-08-09T02:07:52.373880Z"
    },
    "papermill": {
     "duration": 0.040955,
     "end_time": "2022-08-09T02:07:52.377244",
     "exception": false,
     "start_time": "2022-08-09T02:07:52.336289",
     "status": "completed"
    },
    "tags": []
   },
   "outputs": [],
   "source": [
    "for i, j in zip(train_df.columns, test_df.columns):\n",
    "    if train_df[i].isnull().sum() !=0:\n",
    "        train_df[i].fillna(value = train_df[i].mean(), inplace=True)\n",
    "    if test_df[j].isnull().sum() !=0:\n",
    "        test_df[i].fillna(value = test_df[i].mean(), inplace=True)"
   ]
  },
  {
   "cell_type": "code",
   "execution_count": 9,
   "id": "9ed3adb6",
   "metadata": {
    "execution": {
     "iopub.execute_input": "2022-08-09T02:07:52.397761Z",
     "iopub.status.busy": "2022-08-09T02:07:52.396729Z",
     "iopub.status.idle": "2022-08-09T02:07:52.407137Z",
     "shell.execute_reply": "2022-08-09T02:07:52.405138Z"
    },
    "papermill": {
     "duration": 0.022874,
     "end_time": "2022-08-09T02:07:52.409221",
     "exception": false,
     "start_time": "2022-08-09T02:07:52.386347",
     "status": "completed"
    },
    "tags": []
   },
   "outputs": [
    {
     "name": "stdout",
     "output_type": "stream",
     "text": [
      "Train Dataset\n",
      "[]\n",
      "Test Dataset\n",
      "[]\n"
     ]
    }
   ],
   "source": [
    "print(\"Train Dataset\")\n",
    "print(train_df.columns[train_df.isna().any()].tolist())\n",
    "print(\"Test Dataset\")\n",
    "print(test_df.columns[test_df.isna().any()].tolist())"
   ]
  },
  {
   "cell_type": "markdown",
   "id": "1ecd360b",
   "metadata": {
    "papermill": {
     "duration": 0.008788,
     "end_time": "2022-08-09T02:07:52.426951",
     "exception": false,
     "start_time": "2022-08-09T02:07:52.418163",
     "status": "completed"
    },
    "tags": []
   },
   "source": [
    "### Distribution of Dataset"
   ]
  },
  {
   "cell_type": "code",
   "execution_count": 10,
   "id": "e5ebfd93",
   "metadata": {
    "execution": {
     "iopub.execute_input": "2022-08-09T02:07:52.446709Z",
     "iopub.status.busy": "2022-08-09T02:07:52.446226Z",
     "iopub.status.idle": "2022-08-09T02:07:58.453058Z",
     "shell.execute_reply": "2022-08-09T02:07:58.452045Z"
    },
    "papermill": {
     "duration": 6.019869,
     "end_time": "2022-08-09T02:07:58.455978",
     "exception": false,
     "start_time": "2022-08-09T02:07:52.436109",
     "status": "completed"
    },
    "tags": []
   },
   "outputs": [
    {
     "data": {
      "image/png": "[encoded data removed]",
      "text/plain": [
       "<Figure size 1440x648 with 25 Axes>"
      ]
     },
     "metadata": {
      "needs_background": "light"
     },
     "output_type": "display_data"
    }
   ],
   "source": [
    "fig, axes = plt.subplots(nrows=5, ncols=5, figsize=(20, 9), sharex = False, sharey = False)\n",
    "axes = axes.ravel()  \n",
    "cols = train_df.columns[:-1]\n",
    "\n",
    "for col, ax in zip(cols, axes):\n",
    "    data = train_df\n",
    "    sns.kdeplot(data=data, x=col, shade=True, ax=ax, hue='failure')\n",
    "    \n",
    "fig.tight_layout()\n",
    "plt.show()"
   ]
  },
  {
   "cell_type": "code",
   "execution_count": 11,
   "id": "e5d9252c",
   "metadata": {
    "execution": {
     "iopub.execute_input": "2022-08-09T02:07:58.479956Z",
     "iopub.status.busy": "2022-08-09T02:07:58.479661Z",
     "iopub.status.idle": "2022-08-09T02:07:59.042846Z",
     "shell.execute_reply": "2022-08-09T02:07:59.041586Z"
    },
    "papermill": {
     "duration": 0.577607,
     "end_time": "2022-08-09T02:07:59.044856",
     "exception": false,
     "start_time": "2022-08-09T02:07:58.467249",
     "status": "completed"
    },
    "tags": []
   },
   "outputs": [
    {
     "data": {
      "image/png": "[encoded data removed]",
      "text/plain": [
       "<Figure size 720x576 with 2 Axes>"
      ]
     },
     "metadata": {
      "needs_background": "light"
     },
     "output_type": "display_data"
    }
   ],
   "source": [
    "plt.figure(figsize = (10,8))\n",
    "corr = train_df.corr()\n",
    "sns.heatmap(corr,xticklabels=corr.columns,yticklabels=corr.columns,linewidths=.1,cmap=\"Blues\", square=True, robust=True)\n",
    "plt.show()"
   ]
  },
  {
   "cell_type": "code",
   "execution_count": 12,
   "id": "9bfad482",
   "metadata": {
    "execution": {
     "iopub.execute_input": "2022-08-09T02:07:59.071266Z",
     "iopub.status.busy": "2022-08-09T02:07:59.070825Z",
     "iopub.status.idle": "2022-08-09T02:07:59.103815Z",
     "shell.execute_reply": "2022-08-09T02:07:59.102888Z"
    },
    "papermill": {
     "duration": 0.048533,
     "end_time": "2022-08-09T02:07:59.105584",
     "exception": false,
     "start_time": "2022-08-09T02:07:59.057051",
     "status": "completed"
    },
    "tags": []
   },
   "outputs": [
    {
     "data": {
      "text/html": [
       "<div>\n",
       "<style scoped>\n",
       "    .dataframe tbody tr th:only-of-type {\n",
       "        vertical-align: middle;\n",
       "    }\n",
       "\n",
       "    .dataframe tbody tr th {\n",
       "        vertical-align: top;\n",
       "    }\n",
       "\n",
       "    .dataframe thead th {\n",
       "        text-align: right;\n",
       "    }\n",
       "</style>\n",
       "<table border=\"1\" class=\"dataframe\">\n",
       "  <thead>\n",
       "    <tr style=\"text-align: right;\">\n",
       "      <th></th>\n",
       "      <th>id</th>\n",
       "      <th>loading</th>\n",
       "      <th>attribute_0</th>\n",
       "      <th>attribute_1</th>\n",
       "      <th>attribute_2</th>\n",
       "      <th>attribute_3</th>\n",
       "      <th>measurement_0</th>\n",
       "      <th>measurement_1</th>\n",
       "      <th>measurement_2</th>\n",
       "      <th>measurement_3</th>\n",
       "      <th>...</th>\n",
       "      <th>measurement_9</th>\n",
       "      <th>measurement_10</th>\n",
       "      <th>measurement_11</th>\n",
       "      <th>measurement_12</th>\n",
       "      <th>measurement_13</th>\n",
       "      <th>measurement_14</th>\n",
       "      <th>measurement_15</th>\n",
       "      <th>measurement_16</th>\n",
       "      <th>measurement_17</th>\n",
       "      <th>failure</th>\n",
       "    </tr>\n",
       "    <tr>\n",
       "      <th>product_code</th>\n",
       "      <th></th>\n",
       "      <th></th>\n",
       "      <th></th>\n",
       "      <th></th>\n",
       "      <th></th>\n",
       "      <th></th>\n",
       "      <th></th>\n",
       "      <th></th>\n",
       "      <th></th>\n",
       "      <th></th>\n",
       "      <th></th>\n",
       "      <th></th>\n",
       "      <th></th>\n",
       "      <th></th>\n",
       "      <th></th>\n",
       "      <th></th>\n",
       "      <th></th>\n",
       "      <th></th>\n",
       "      <th></th>\n",
       "      <th></th>\n",
       "      <th></th>\n",
       "    </tr>\n",
       "  </thead>\n",
       "  <tbody>\n",
       "    <tr>\n",
       "      <th>0</th>\n",
       "      <td>2549.5</td>\n",
       "      <td>127.472789</td>\n",
       "      <td>1.0</td>\n",
       "      <td>2.0</td>\n",
       "      <td>9.0</td>\n",
       "      <td>5.0</td>\n",
       "      <td>10.325882</td>\n",
       "      <td>4.229412</td>\n",
       "      <td>5.226078</td>\n",
       "      <td>17.808297</td>\n",
       "      <td>...</td>\n",
       "      <td>11.436223</td>\n",
       "      <td>16.124049</td>\n",
       "      <td>19.424034</td>\n",
       "      <td>12.214222</td>\n",
       "      <td>15.589697</td>\n",
       "      <td>16.107017</td>\n",
       "      <td>14.496351</td>\n",
       "      <td>16.414226</td>\n",
       "      <td>702.531029</td>\n",
       "      <td>0.227255</td>\n",
       "    </tr>\n",
       "    <tr>\n",
       "      <th>1</th>\n",
       "      <td>7724.5</td>\n",
       "      <td>127.322677</td>\n",
       "      <td>0.0</td>\n",
       "      <td>0.0</td>\n",
       "      <td>8.0</td>\n",
       "      <td>8.0</td>\n",
       "      <td>5.932381</td>\n",
       "      <td>8.450857</td>\n",
       "      <td>7.755810</td>\n",
       "      <td>17.788638</td>\n",
       "      <td>...</td>\n",
       "      <td>11.422425</td>\n",
       "      <td>16.091282</td>\n",
       "      <td>19.106516</td>\n",
       "      <td>11.901085</td>\n",
       "      <td>15.902812</td>\n",
       "      <td>16.100051</td>\n",
       "      <td>15.101297</td>\n",
       "      <td>16.704135</td>\n",
       "      <td>701.105245</td>\n",
       "      <td>0.200381</td>\n",
       "    </tr>\n",
       "    <tr>\n",
       "      <th>2</th>\n",
       "      <td>13232.0</td>\n",
       "      <td>128.124093</td>\n",
       "      <td>1.0</td>\n",
       "      <td>2.0</td>\n",
       "      <td>5.0</td>\n",
       "      <td>8.0</td>\n",
       "      <td>7.539289</td>\n",
       "      <td>8.772940</td>\n",
       "      <td>5.567216</td>\n",
       "      <td>17.791608</td>\n",
       "      <td>...</td>\n",
       "      <td>11.430834</td>\n",
       "      <td>16.131306</td>\n",
       "      <td>18.804865</td>\n",
       "      <td>11.270917</td>\n",
       "      <td>15.576981</td>\n",
       "      <td>16.100790</td>\n",
       "      <td>15.430245</td>\n",
       "      <td>16.398383</td>\n",
       "      <td>700.700378</td>\n",
       "      <td>0.211622</td>\n",
       "    </tr>\n",
       "    <tr>\n",
       "      <th>3</th>\n",
       "      <td>18670.5</td>\n",
       "      <td>128.430574</td>\n",
       "      <td>1.0</td>\n",
       "      <td>0.0</td>\n",
       "      <td>6.0</td>\n",
       "      <td>6.0</td>\n",
       "      <td>7.852308</td>\n",
       "      <td>9.790884</td>\n",
       "      <td>7.262520</td>\n",
       "      <td>17.775820</td>\n",
       "      <td>...</td>\n",
       "      <td>11.431733</td>\n",
       "      <td>16.453463</td>\n",
       "      <td>19.089568</td>\n",
       "      <td>11.581702</td>\n",
       "      <td>15.602480</td>\n",
       "      <td>16.107316</td>\n",
       "      <td>14.782182</td>\n",
       "      <td>16.707126</td>\n",
       "      <td>700.263600</td>\n",
       "      <td>0.217527</td>\n",
       "    </tr>\n",
       "    <tr>\n",
       "      <th>4</th>\n",
       "      <td>23898.0</td>\n",
       "      <td>127.758792</td>\n",
       "      <td>1.0</td>\n",
       "      <td>1.0</td>\n",
       "      <td>6.0</td>\n",
       "      <td>9.0</td>\n",
       "      <td>5.545199</td>\n",
       "      <td>9.764926</td>\n",
       "      <td>5.548381</td>\n",
       "      <td>17.793301</td>\n",
       "      <td>...</td>\n",
       "      <td>11.432548</td>\n",
       "      <td>15.801723</td>\n",
       "      <td>19.471198</td>\n",
       "      <td>11.599992</td>\n",
       "      <td>15.597839</td>\n",
       "      <td>15.829020</td>\n",
       "      <td>15.103275</td>\n",
       "      <td>16.097463</td>\n",
       "      <td>701.801030</td>\n",
       "      <td>0.207000</td>\n",
       "    </tr>\n",
       "  </tbody>\n",
       "</table>\n",
       "<p>5 rows × 25 columns</p>\n",
       "</div>"
      ],
      "text/plain": [
       "                   id     loading  attribute_0  attribute_1  attribute_2  \\\n",
       "product_code                                                               \n",
       "0              2549.5  127.472789          1.0          2.0          9.0   \n",
       "1              7724.5  127.322677          0.0          0.0          8.0   \n",
       "2             13232.0  128.124093          1.0          2.0          5.0   \n",
       "3             18670.5  128.430574          1.0          0.0          6.0   \n",
       "4             23898.0  127.758792          1.0          1.0          6.0   \n",
       "\n",
       "              attribute_3  measurement_0  measurement_1  measurement_2  \\\n",
       "product_code                                                             \n",
       "0                     5.0      10.325882       4.229412       5.226078   \n",
       "1                     8.0       5.932381       8.450857       7.755810   \n",
       "2                     8.0       7.539289       8.772940       5.567216   \n",
       "3                     6.0       7.852308       9.790884       7.262520   \n",
       "4                     9.0       5.545199       9.764926       5.548381   \n",
       "\n",
       "              measurement_3  ...  measurement_9  measurement_10  \\\n",
       "product_code                 ...                                  \n",
       "0                 17.808297  ...      11.436223       16.124049   \n",
       "1                 17.788638  ...      11.422425       16.091282   \n",
       "2                 17.791608  ...      11.430834       16.131306   \n",
       "3                 17.775820  ...      11.431733       16.453463   \n",
       "4                 17.793301  ...      11.432548       15.801723   \n",
       "\n",
       "              measurement_11  measurement_12  measurement_13  measurement_14  \\\n",
       "product_code                                                                   \n",
       "0                  19.424034       12.214222       15.589697       16.107017   \n",
       "1                  19.106516       11.901085       15.902812       16.100051   \n",
       "2                  18.804865       11.270917       15.576981       16.100790   \n",
       "3                  19.089568       11.581702       15.602480       16.107316   \n",
       "4                  19.471198       11.599992       15.597839       15.829020   \n",
       "\n",
       "              measurement_15  measurement_16  measurement_17   failure  \n",
       "product_code                                                            \n",
       "0                  14.496351       16.414226      702.531029  0.227255  \n",
       "1                  15.101297       16.704135      701.105245  0.200381  \n",
       "2                  15.430245       16.398383      700.700378  0.211622  \n",
       "3                  14.782182       16.707126      700.263600  0.217527  \n",
       "4                  15.103275       16.097463      701.801030  0.207000  \n",
       "\n",
       "[5 rows x 25 columns]"
      ]
     },
     "execution_count": 12,
     "metadata": {},
     "output_type": "execute_result"
    }
   ],
   "source": [
    "train_df.groupby('product_code').mean()"
   ]
  },
  {
   "cell_type": "markdown",
   "id": "19a7920d",
   "metadata": {
    "papermill": {
     "duration": 0.011981,
     "end_time": "2022-08-09T02:07:59.129774",
     "exception": false,
     "start_time": "2022-08-09T02:07:59.117793",
     "status": "completed"
    },
    "tags": []
   },
   "source": [
    "## Modeling"
   ]
  },
  {
   "cell_type": "code",
   "execution_count": 13,
   "id": "8bcaeac8",
   "metadata": {
    "execution": {
     "iopub.execute_input": "2022-08-09T02:07:59.155477Z",
     "iopub.status.busy": "2022-08-09T02:07:59.155197Z",
     "iopub.status.idle": "2022-08-09T02:07:59.234064Z",
     "shell.execute_reply": "2022-08-09T02:07:59.233095Z"
    },
    "papermill": {
     "duration": 0.094216,
     "end_time": "2022-08-09T02:07:59.236167",
     "exception": false,
     "start_time": "2022-08-09T02:07:59.141951",
     "status": "completed"
    },
    "tags": []
   },
   "outputs": [],
   "source": [
    "from sklearn.model_selection import train_test_split\n",
    "\n",
    "X = train_df[train_df.columns[:-1]]\n",
    "y = train_df['failure']\n",
    "\n",
    "X_train, X_test, y_train, y_test = train_test_split(X,y, test_size=0.3, random_state=100)"
   ]
  },
  {
   "cell_type": "markdown",
   "id": "0c05fa95",
   "metadata": {
    "papermill": {
     "duration": 0.011801,
     "end_time": "2022-08-09T02:07:59.260432",
     "exception": false,
     "start_time": "2022-08-09T02:07:59.248631",
     "status": "completed"
    },
    "tags": []
   },
   "source": [
    "### Logistic Regression"
   ]
  },
  {
   "cell_type": "code",
   "execution_count": 14,
   "id": "745ccbcc",
   "metadata": {
    "execution": {
     "iopub.execute_input": "2022-08-09T02:07:59.286701Z",
     "iopub.status.busy": "2022-08-09T02:07:59.286356Z",
     "iopub.status.idle": "2022-08-09T02:07:59.447896Z",
     "shell.execute_reply": "2022-08-09T02:07:59.446970Z"
    },
    "papermill": {
     "duration": 0.177157,
     "end_time": "2022-08-09T02:07:59.449717",
     "exception": false,
     "start_time": "2022-08-09T02:07:59.272560",
     "status": "completed"
    },
    "tags": []
   },
   "outputs": [
    {
     "name": "stdout",
     "output_type": "stream",
     "text": [
      "78.75\n"
     ]
    }
   ],
   "source": [
    "from sklearn.linear_model import LogisticRegression\n",
    "\n",
    "model_log = LogisticRegression()\n",
    "model_log.fit(X_train,y_train)\n",
    "pred_log=model_log.predict(X_test)\n",
    "log_score =model_log.score(X_train,y_train)\n",
    "log_pred_score =round(log_score*100,2)\n",
    "print(log_pred_score)"
   ]
  },
  {
   "cell_type": "markdown",
   "id": "43119622",
   "metadata": {
    "papermill": {
     "duration": 0.016509,
     "end_time": "2022-08-09T02:07:59.482831",
     "exception": false,
     "start_time": "2022-08-09T02:07:59.466322",
     "status": "completed"
    },
    "tags": []
   },
   "source": [
    "### XGB"
   ]
  },
  {
   "cell_type": "code",
   "execution_count": 15,
   "id": "4e437981",
   "metadata": {
    "execution": {
     "iopub.execute_input": "2022-08-09T02:07:59.517471Z",
     "iopub.status.busy": "2022-08-09T02:07:59.517149Z",
     "iopub.status.idle": "2022-08-09T02:08:02.894643Z",
     "shell.execute_reply": "2022-08-09T02:08:02.893930Z"
    },
    "papermill": {
     "duration": 3.397328,
     "end_time": "2022-08-09T02:08:02.896708",
     "exception": false,
     "start_time": "2022-08-09T02:07:59.499380",
     "status": "completed"
    },
    "tags": []
   },
   "outputs": [
    {
     "data": {
      "text/html": [
       "<div>\n",
       "<style scoped>\n",
       "    .dataframe tbody tr th:only-of-type {\n",
       "        vertical-align: middle;\n",
       "    }\n",
       "\n",
       "    .dataframe tbody tr th {\n",
       "        vertical-align: top;\n",
       "    }\n",
       "\n",
       "    .dataframe thead th {\n",
       "        text-align: right;\n",
       "    }\n",
       "</style>\n",
       "<table border=\"1\" class=\"dataframe\">\n",
       "  <thead>\n",
       "    <tr style=\"text-align: right;\">\n",
       "      <th></th>\n",
       "      <th>Default Probability</th>\n",
       "      <th>failure</th>\n",
       "    </tr>\n",
       "  </thead>\n",
       "  <tbody>\n",
       "    <tr>\n",
       "      <th>0</th>\n",
       "      <td>0.049898</td>\n",
       "      <td>0</td>\n",
       "    </tr>\n",
       "    <tr>\n",
       "      <th>1</th>\n",
       "      <td>0.274567</td>\n",
       "      <td>1</td>\n",
       "    </tr>\n",
       "    <tr>\n",
       "      <th>2</th>\n",
       "      <td>0.289055</td>\n",
       "      <td>1</td>\n",
       "    </tr>\n",
       "    <tr>\n",
       "      <th>3</th>\n",
       "      <td>0.088347</td>\n",
       "      <td>0</td>\n",
       "    </tr>\n",
       "    <tr>\n",
       "      <th>4</th>\n",
       "      <td>0.344351</td>\n",
       "      <td>0</td>\n",
       "    </tr>\n",
       "  </tbody>\n",
       "</table>\n",
       "</div>"
      ],
      "text/plain": [
       "   Default Probability  failure\n",
       "0             0.049898        0\n",
       "1             0.274567        1\n",
       "2             0.289055        1\n",
       "3             0.088347        0\n",
       "4             0.344351        0"
      ]
     },
     "execution_count": 15,
     "metadata": {},
     "output_type": "execute_result"
    }
   ],
   "source": [
    "import xgboost as xgb\n",
    "\n",
    "xgb_model = xgb.XGBClassifier()\n",
    "xgb_model.fit(X_train, np.ravel(y_train))\n",
    "\n",
    "predict_xgb = xgb_model.predict_proba(X_test)\n",
    "predict_xgb_prob = pd.DataFrame(predict_xgb[:,1],columns = ['Default Probability'])\n",
    "xgb_probability = pd.concat([predict_xgb_prob, y_test.reset_index(drop=True)],axis=1)\n",
    "xgb_probability.head()"
   ]
  },
  {
   "cell_type": "code",
   "execution_count": 16,
   "id": "08d862a9",
   "metadata": {
    "execution": {
     "iopub.execute_input": "2022-08-09T02:08:02.923945Z",
     "iopub.status.busy": "2022-08-09T02:08:02.922065Z",
     "iopub.status.idle": "2022-08-09T02:08:03.222088Z",
     "shell.execute_reply": "2022-08-09T02:08:03.221265Z"
    },
    "papermill": {
     "duration": 0.3148,
     "end_time": "2022-08-09T02:08:03.223837",
     "exception": false,
     "start_time": "2022-08-09T02:08:02.909037",
     "status": "completed"
    },
    "tags": []
   },
   "outputs": [
    {
     "data": {
      "text/plain": [
       "<AxesSubplot:title={'center':'Feature importance'}, xlabel='F score', ylabel='Features'>"
      ]
     },
     "execution_count": 16,
     "metadata": {},
     "output_type": "execute_result"
    },
    {
     "data": {
      "image/png": "[encoded data removed]",
      "text/plain": [
       "<Figure size 432x288 with 1 Axes>"
      ]
     },
     "metadata": {
      "needs_background": "light"
     },
     "output_type": "display_data"
    }
   ],
   "source": [
    "xgb.plot_importance(xgb_model,importance_type='weight')"
   ]
  },
  {
   "cell_type": "code",
   "execution_count": 17,
   "id": "4758129b",
   "metadata": {
    "execution": {
     "iopub.execute_input": "2022-08-09T02:08:03.252013Z",
     "iopub.status.busy": "2022-08-09T02:08:03.250931Z",
     "iopub.status.idle": "2022-08-09T02:08:03.303180Z",
     "shell.execute_reply": "2022-08-09T02:08:03.302335Z"
    },
    "papermill": {
     "duration": 0.068679,
     "end_time": "2022-08-09T02:08:03.305208",
     "exception": false,
     "start_time": "2022-08-09T02:08:03.236529",
     "status": "completed"
    },
    "tags": []
   },
   "outputs": [
    {
     "name": "stdout",
     "output_type": "stream",
     "text": [
      "87.69\n"
     ]
    }
   ],
   "source": [
    "pred_xgb=xgb_model.predict(X_test)\n",
    "xgb_score =xgb_model.score(X_train,y_train)\n",
    "xgb_pred_score =round(xgb_score*100,2)\n",
    "print(xgb_pred_score)"
   ]
  },
  {
   "cell_type": "markdown",
   "id": "4a764abc",
   "metadata": {
    "papermill": {
     "duration": 0.012643,
     "end_time": "2022-08-09T02:08:03.331912",
     "exception": false,
     "start_time": "2022-08-09T02:08:03.319269",
     "status": "completed"
    },
    "tags": []
   },
   "source": [
    "### KNN"
   ]
  },
  {
   "cell_type": "code",
   "execution_count": 18,
   "id": "27b85b60",
   "metadata": {
    "execution": {
     "iopub.execute_input": "2022-08-09T02:08:03.359695Z",
     "iopub.status.busy": "2022-08-09T02:08:03.358835Z",
     "iopub.status.idle": "2022-08-09T02:08:12.647229Z",
     "shell.execute_reply": "2022-08-09T02:08:12.645470Z"
    },
    "papermill": {
     "duration": 9.305353,
     "end_time": "2022-08-09T02:08:12.650056",
     "exception": false,
     "start_time": "2022-08-09T02:08:03.344703",
     "status": "completed"
    },
    "tags": []
   },
   "outputs": [
    {
     "name": "stdout",
     "output_type": "stream",
     "text": [
      "80.54\n"
     ]
    }
   ],
   "source": [
    "from sklearn.neighbors import KNeighborsClassifier\n",
    "\n",
    "model_knn=KNeighborsClassifier()\n",
    "model_knn.fit(X_train,y_train)\n",
    "pred_knn=model_knn.predict(X_test)\n",
    "knn_score =model_knn.score(X_train,y_train)\n",
    "knn_pred_score =round(knn_score*100,2)\n",
    "print(knn_pred_score)"
   ]
  },
  {
   "cell_type": "markdown",
   "id": "cbeb5d61",
   "metadata": {
    "papermill": {
     "duration": 0.013128,
     "end_time": "2022-08-09T02:08:12.676146",
     "exception": false,
     "start_time": "2022-08-09T02:08:12.663018",
     "status": "completed"
    },
    "tags": []
   },
   "source": [
    "### CatBoost"
   ]
  },
  {
   "cell_type": "code",
   "execution_count": 19,
   "id": "564a7701",
   "metadata": {
    "execution": {
     "iopub.execute_input": "2022-08-09T02:08:12.705848Z",
     "iopub.status.busy": "2022-08-09T02:08:12.704832Z",
     "iopub.status.idle": "2022-08-09T02:09:29.032615Z",
     "shell.execute_reply": "2022-08-09T02:09:29.031378Z"
    },
    "papermill": {
     "duration": 76.34495,
     "end_time": "2022-08-09T02:09:29.034816",
     "exception": false,
     "start_time": "2022-08-09T02:08:12.689866",
     "status": "completed"
    },
    "tags": []
   },
   "outputs": [
    {
     "name": "stdout",
     "output_type": "stream",
     "text": [
      "0:\tlearn: 0.0012652\ttotal: 69.9ms\tremaining: 11m 38s\n",
      "1000:\tlearn: 0.0000000\ttotal: 8.06s\tremaining: 1m 12s\n",
      "2000:\tlearn: 0.0068320\ttotal: 15.5s\tremaining: 1m 1s\n",
      "3000:\tlearn: 0.0220142\ttotal: 22.8s\tremaining: 53.3s\n",
      "4000:\tlearn: 0.0379555\ttotal: 30.2s\tremaining: 45.2s\n",
      "5000:\tlearn: 0.0602227\ttotal: 37.8s\tremaining: 37.8s\n",
      "6000:\tlearn: 0.0923583\ttotal: 45.2s\tremaining: 30.1s\n",
      "7000:\tlearn: 0.1265182\ttotal: 52.4s\tremaining: 22.4s\n",
      "8000:\tlearn: 0.1594130\ttotal: 59.9s\tremaining: 15s\n",
      "9000:\tlearn: 0.1920547\ttotal: 1m 7s\tremaining: 7.47s\n",
      "9999:\tlearn: 0.2350709\ttotal: 1m 14s\tremaining: 0us\n"
     ]
    },
    {
     "data": {
      "text/plain": [
       "<catboost.core.CatBoostClassifier at 0x7f06bc1cbf50>"
      ]
     },
     "execution_count": 19,
     "metadata": {},
     "output_type": "execute_result"
    }
   ],
   "source": [
    "import catboost as cat\n",
    "\n",
    "model_catboost = cat.CatBoostClassifier(iterations=10000,learning_rate=0.005,eval_metric='Recall')\n",
    "model_catboost.fit(X_train,y_train, early_stopping_rounds=1000, verbose=1000)"
   ]
  },
  {
   "cell_type": "code",
   "execution_count": 20,
   "id": "b6144036",
   "metadata": {
    "execution": {
     "iopub.execute_input": "2022-08-09T02:09:29.063810Z",
     "iopub.status.busy": "2022-08-09T02:09:29.063464Z",
     "iopub.status.idle": "2022-08-09T02:09:29.156228Z",
     "shell.execute_reply": "2022-08-09T02:09:29.154805Z"
    },
    "papermill": {
     "duration": 0.109266,
     "end_time": "2022-08-09T02:09:29.157981",
     "exception": false,
     "start_time": "2022-08-09T02:09:29.048715",
     "status": "completed"
    },
    "tags": []
   },
   "outputs": [
    {
     "data": {
      "text/plain": [
       "78.69"
      ]
     },
     "execution_count": 20,
     "metadata": {},
     "output_type": "execute_result"
    }
   ],
   "source": [
    "pred_catboost=model_catboost.predict(X_test)\n",
    "catboost_score =model_catboost.score(X_test,y_test)\n",
    "catboost_pred_score =round(catboost_score*100,2)\n",
    "catboost_pred_score"
   ]
  },
  {
   "cell_type": "markdown",
   "id": "eb790ccf",
   "metadata": {
    "papermill": {
     "duration": 0.013759,
     "end_time": "2022-08-09T02:09:29.185166",
     "exception": false,
     "start_time": "2022-08-09T02:09:29.171407",
     "status": "completed"
    },
    "tags": []
   },
   "source": [
    "### Gradient Boosting"
   ]
  },
  {
   "cell_type": "code",
   "execution_count": 21,
   "id": "919ccdb0",
   "metadata": {
    "execution": {
     "iopub.execute_input": "2022-08-09T02:09:29.214175Z",
     "iopub.status.busy": "2022-08-09T02:09:29.213877Z",
     "iopub.status.idle": "2022-08-09T02:09:33.232070Z",
     "shell.execute_reply": "2022-08-09T02:09:33.230896Z"
    },
    "papermill": {
     "duration": 4.035128,
     "end_time": "2022-08-09T02:09:33.233963",
     "exception": false,
     "start_time": "2022-08-09T02:09:29.198835",
     "status": "completed"
    },
    "tags": []
   },
   "outputs": [
    {
     "data": {
      "text/plain": [
       "78.53"
      ]
     },
     "execution_count": 21,
     "metadata": {},
     "output_type": "execute_result"
    }
   ],
   "source": [
    "from sklearn.ensemble import GradientBoostingClassifier\n",
    "\n",
    "model_gbdt = GradientBoostingClassifier(n_estimators=100, learning_rate=1.0, max_depth=1, random_state=0).fit(X_train, y_train)\n",
    "pred_gbdt = model_gbdt.predict(X_test)\n",
    "gbdt_score = model_gbdt.score(X_test, y_test)\n",
    "gbdt_pred_score  =round(gbdt_score*100,2)\n",
    "gbdt_pred_score"
   ]
  },
  {
   "cell_type": "markdown",
   "id": "4689a75c",
   "metadata": {
    "papermill": {
     "duration": 0.013485,
     "end_time": "2022-08-09T02:09:33.260821",
     "exception": false,
     "start_time": "2022-08-09T02:09:33.247336",
     "status": "completed"
    },
    "tags": []
   },
   "source": [
    "### LinearDiscriminant (LDA)"
   ]
  },
  {
   "cell_type": "code",
   "execution_count": 22,
   "id": "b029cf87",
   "metadata": {
    "execution": {
     "iopub.execute_input": "2022-08-09T02:09:33.290032Z",
     "iopub.status.busy": "2022-08-09T02:09:33.289193Z",
     "iopub.status.idle": "2022-08-09T02:09:33.404420Z",
     "shell.execute_reply": "2022-08-09T02:09:33.403056Z"
    },
    "papermill": {
     "duration": 0.132621,
     "end_time": "2022-08-09T02:09:33.406647",
     "exception": false,
     "start_time": "2022-08-09T02:09:33.274026",
     "status": "completed"
    },
    "tags": []
   },
   "outputs": [
    {
     "name": "stdout",
     "output_type": "stream",
     "text": [
      "78.74\n"
     ]
    }
   ],
   "source": [
    "from sklearn.discriminant_analysis import LinearDiscriminantAnalysis\n",
    "\n",
    "model_lda = LinearDiscriminantAnalysis()\n",
    "model_lda.fit(X_train,y_train)\n",
    "pred_lda=model_lda.predict(X_test)\n",
    "lda_score =model_lda.score(X_train,y_train)\n",
    "lda_pred_score =round(lda_score*100,2)\n",
    "print(lda_pred_score)"
   ]
  },
  {
   "cell_type": "markdown",
   "id": "b6c705b3",
   "metadata": {
    "papermill": {
     "duration": 0.060057,
     "end_time": "2022-08-09T02:09:33.500317",
     "exception": false,
     "start_time": "2022-08-09T02:09:33.440260",
     "status": "completed"
    },
    "tags": []
   },
   "source": [
    "### GaussianNB"
   ]
  },
  {
   "cell_type": "code",
   "execution_count": 23,
   "id": "c2670ed6",
   "metadata": {
    "execution": {
     "iopub.execute_input": "2022-08-09T02:09:33.533792Z",
     "iopub.status.busy": "2022-08-09T02:09:33.533436Z",
     "iopub.status.idle": "2022-08-09T02:09:33.561379Z",
     "shell.execute_reply": "2022-08-09T02:09:33.560420Z"
    },
    "papermill": {
     "duration": 0.044992,
     "end_time": "2022-08-09T02:09:33.563104",
     "exception": false,
     "start_time": "2022-08-09T02:09:33.518112",
     "status": "completed"
    },
    "tags": []
   },
   "outputs": [
    {
     "name": "stdout",
     "output_type": "stream",
     "text": [
      "78.24\n"
     ]
    }
   ],
   "source": [
    "from sklearn.naive_bayes import GaussianNB\n",
    "\n",
    "model_gnb =GaussianNB()\n",
    "model_gnb.fit(X_train,y_train)\n",
    "pred_gnb=model_gnb.predict(X_test)\n",
    "gnb_score =model_gnb.score(X_train,y_train)\n",
    "gnb_pred_score =round(gnb_score*100,2)\n",
    "print(gnb_pred_score)"
   ]
  },
  {
   "cell_type": "markdown",
   "id": "8f0d4b1c",
   "metadata": {
    "papermill": {
     "duration": 0.013558,
     "end_time": "2022-08-09T02:09:33.590409",
     "exception": false,
     "start_time": "2022-08-09T02:09:33.576851",
     "status": "completed"
    },
    "tags": []
   },
   "source": [
    "### RandomForest"
   ]
  },
  {
   "cell_type": "code",
   "execution_count": 24,
   "id": "b538fdfb",
   "metadata": {
    "execution": {
     "iopub.execute_input": "2022-08-09T02:09:33.621161Z",
     "iopub.status.busy": "2022-08-09T02:09:33.619798Z",
     "iopub.status.idle": "2022-08-09T02:09:35.205584Z",
     "shell.execute_reply": "2022-08-09T02:09:35.203901Z"
    },
    "papermill": {
     "duration": 1.604051,
     "end_time": "2022-08-09T02:09:35.208644",
     "exception": false,
     "start_time": "2022-08-09T02:09:33.604593",
     "status": "completed"
    },
    "tags": []
   },
   "outputs": [
    {
     "name": "stdout",
     "output_type": "stream",
     "text": [
      "78.75\n"
     ]
    }
   ],
   "source": [
    "from sklearn.ensemble import RandomForestClassifier\n",
    "\n",
    "model_rfc =RandomForestClassifier(max_depth=2, random_state=0)\n",
    "model_rfc.fit(X_train,y_train)\n",
    "pred_rfc=model_rfc.predict(X_test)\n",
    "rfc_score =model_rfc.score(X_train,y_train)\n",
    "rfc_pred_score =round(rfc_score*100,2)\n",
    "print(rfc_pred_score)"
   ]
  },
  {
   "cell_type": "markdown",
   "id": "698e57cf",
   "metadata": {
    "papermill": {
     "duration": 0.014239,
     "end_time": "2022-08-09T02:09:35.237060",
     "exception": false,
     "start_time": "2022-08-09T02:09:35.222821",
     "status": "completed"
    },
    "tags": []
   },
   "source": [
    "### VotingClassifier"
   ]
  },
  {
   "cell_type": "code",
   "execution_count": 25,
   "id": "1faf3ffb",
   "metadata": {
    "execution": {
     "iopub.execute_input": "2022-08-09T02:09:35.267977Z",
     "iopub.status.busy": "2022-08-09T02:09:35.267644Z",
     "iopub.status.idle": "2022-08-09T02:09:41.548269Z",
     "shell.execute_reply": "2022-08-09T02:09:41.546689Z"
    },
    "papermill": {
     "duration": 6.298228,
     "end_time": "2022-08-09T02:09:41.550433",
     "exception": false,
     "start_time": "2022-08-09T02:09:35.252205",
     "status": "completed"
    },
    "tags": []
   },
   "outputs": [
    {
     "name": "stdout",
     "output_type": "stream",
     "text": [
      "80.04\n"
     ]
    }
   ],
   "source": [
    "from sklearn.ensemble import VotingClassifier\n",
    "#https://scikit-learn.org/stable/modules/generated/sklearn.ensemble.VotingClassifier.html\n",
    "\n",
    "lr1 = LogisticRegression(multi_class='multinomial', random_state=1)\n",
    "rfc2 = RandomForestClassifier(n_estimators=50, random_state=1)\n",
    "gnb3 = GaussianNB()\n",
    "model_vtc = VotingClassifier(estimators=[('lr', lr1), ('rf', rfc2), ('gnb', gnb3)], voting='soft')\n",
    "\n",
    "model_vtc.fit(X_train,y_train)\n",
    "pred_vtc=model_vtc.predict(X_test)\n",
    "vtc_score =model_vtc.score(X_train,y_train)\n",
    "vtc_pred_score =round(vtc_score*100,2)\n",
    "print(vtc_pred_score)"
   ]
  },
  {
   "cell_type": "markdown",
   "id": "058cff0b",
   "metadata": {
    "papermill": {
     "duration": 0.013646,
     "end_time": "2022-08-09T02:09:41.578044",
     "exception": false,
     "start_time": "2022-08-09T02:09:41.564398",
     "status": "completed"
    },
    "tags": []
   },
   "source": [
    "## Result"
   ]
  },
  {
   "cell_type": "code",
   "execution_count": 26,
   "id": "350bffeb",
   "metadata": {
    "execution": {
     "iopub.execute_input": "2022-08-09T02:09:41.608077Z",
     "iopub.status.busy": "2022-08-09T02:09:41.607300Z",
     "iopub.status.idle": "2022-08-09T02:09:41.704172Z",
     "shell.execute_reply": "2022-08-09T02:09:41.702124Z"
    },
    "papermill": {
     "duration": 0.114204,
     "end_time": "2022-08-09T02:09:41.706347",
     "exception": false,
     "start_time": "2022-08-09T02:09:41.592143",
     "status": "completed"
    },
    "tags": []
   },
   "outputs": [
    {
     "name": "stdout",
     "output_type": "stream",
     "text": [
      "Logistic Regression\n",
      "              precision    recall  f1-score   support\n",
      "\n",
      "           0       0.79      1.00      0.88      6274\n",
      "           1       0.40      0.00      0.00      1697\n",
      "\n",
      "    accuracy                           0.79      7971\n",
      "   macro avg       0.59      0.50      0.44      7971\n",
      "weighted avg       0.70      0.79      0.69      7971\n",
      "\n",
      "XGBoost\n",
      "              precision    recall  f1-score   support\n",
      "\n",
      "           0       0.79      0.98      0.87      6274\n",
      "           1       0.25      0.03      0.05      1697\n",
      "\n",
      "    accuracy                           0.77      7971\n",
      "   macro avg       0.52      0.50      0.46      7971\n",
      "weighted avg       0.67      0.77      0.70      7971\n",
      "\n",
      "KNN\n",
      "              precision    recall  f1-score   support\n",
      "\n",
      "           0       0.79      0.93      0.85      6274\n",
      "           1       0.21      0.07      0.10      1697\n",
      "\n",
      "    accuracy                           0.75      7971\n",
      "   macro avg       0.50      0.50      0.48      7971\n",
      "weighted avg       0.66      0.75      0.69      7971\n",
      "\n",
      "CatBoost\n",
      "              precision    recall  f1-score   support\n",
      "\n",
      "           0       0.79      1.00      0.88      6274\n",
      "           1       0.46      0.01      0.01      1697\n",
      "\n",
      "    accuracy                           0.79      7971\n",
      "   macro avg       0.62      0.50      0.45      7971\n",
      "weighted avg       0.72      0.79      0.70      7971\n",
      "\n",
      "GradientBoosting\n",
      "              precision    recall  f1-score   support\n",
      "\n",
      "           0       0.79      1.00      0.88      6274\n",
      "           1       0.28      0.01      0.01      1697\n",
      "\n",
      "    accuracy                           0.79      7971\n",
      "   macro avg       0.53      0.50      0.45      7971\n",
      "weighted avg       0.68      0.79      0.69      7971\n",
      "\n",
      "LinearDiscriminant\n",
      "              precision    recall  f1-score   support\n",
      "\n",
      "           0       0.79      1.00      0.88      6274\n",
      "           1       0.27      0.00      0.00      1697\n",
      "\n",
      "    accuracy                           0.79      7971\n",
      "   macro avg       0.53      0.50      0.44      7971\n",
      "weighted avg       0.68      0.79      0.69      7971\n",
      "\n",
      "GaussianNB\n",
      "              precision    recall  f1-score   support\n",
      "\n",
      "           0       0.79      0.99      0.88      6274\n",
      "           1       0.34      0.03      0.05      1697\n",
      "\n",
      "    accuracy                           0.78      7971\n",
      "   macro avg       0.56      0.51      0.46      7971\n",
      "weighted avg       0.69      0.78      0.70      7971\n",
      "\n",
      "Random Forest\n",
      "              precision    recall  f1-score   support\n",
      "\n",
      "           0       0.79      1.00      0.88      6274\n",
      "           1       0.00      0.00      0.00      1697\n",
      "\n",
      "    accuracy                           0.79      7971\n",
      "   macro avg       0.39      0.50      0.44      7971\n",
      "weighted avg       0.62      0.79      0.69      7971\n",
      "\n",
      "Voting Classifier\n",
      "              precision    recall  f1-score   support\n",
      "\n",
      "           0       0.79      1.00      0.88      6274\n",
      "           1       0.37      0.01      0.02      1697\n",
      "\n",
      "    accuracy                           0.79      7971\n",
      "   macro avg       0.58      0.50      0.45      7971\n",
      "weighted avg       0.70      0.79      0.70      7971\n",
      "\n"
     ]
    }
   ],
   "source": [
    "from sklearn.metrics import classification_report\n",
    "\n",
    "print('Logistic Regression')\n",
    "print(classification_report(y_test,pred_log))\n",
    "\n",
    "print('XGBoost')\n",
    "print(classification_report(y_test,pred_xgb))\n",
    "\n",
    "print('KNN')\n",
    "print(classification_report(y_test,pred_knn))\n",
    "\n",
    "print('CatBoost')\n",
    "print(classification_report(y_test,pred_catboost))\n",
    "\n",
    "print('GradientBoosting')\n",
    "print(classification_report(y_test,pred_gbdt))\n",
    "\n",
    "print('LinearDiscriminant')\n",
    "print(classification_report(y_test,pred_lda))\n",
    "\n",
    "print('GaussianNB')\n",
    "print(classification_report(y_test,pred_gnb))\n",
    "      \n",
    "print('Random Forest')\n",
    "print(classification_report(y_test,pred_rfc))\n",
    "      \n",
    "print('Voting Classifier')\n",
    "print(classification_report(y_test,pred_vtc))"
   ]
  },
  {
   "cell_type": "markdown",
   "id": "5ac3c4d5",
   "metadata": {
    "papermill": {
     "duration": 0.014146,
     "end_time": "2022-08-09T02:09:41.735993",
     "exception": false,
     "start_time": "2022-08-09T02:09:41.721847",
     "status": "completed"
    },
    "tags": []
   },
   "source": [
    "## ROC Curve"
   ]
  },
  {
   "cell_type": "code",
   "execution_count": 27,
   "id": "7f8f9d92",
   "metadata": {
    "execution": {
     "iopub.execute_input": "2022-08-09T02:09:41.766609Z",
     "iopub.status.busy": "2022-08-09T02:09:41.765450Z",
     "iopub.status.idle": "2022-08-09T02:09:44.910490Z",
     "shell.execute_reply": "2022-08-09T02:09:44.909395Z"
    },
    "papermill": {
     "duration": 3.162145,
     "end_time": "2022-08-09T02:09:44.912322",
     "exception": false,
     "start_time": "2022-08-09T02:09:41.750177",
     "status": "completed"
    },
    "tags": []
   },
   "outputs": [
    {
     "data": {
      "text/plain": [
       "<matplotlib.legend.Legend at 0x7f06a53f26d0>"
      ]
     },
     "execution_count": 27,
     "metadata": {},
     "output_type": "execute_result"
    },
    {
     "data": {
      "image/png": "[encoded data removed]",
      "text/plain": [
       "<Figure size 1080x504 with 1 Axes>"
      ]
     },
     "metadata": {
      "needs_background": "light"
     },
     "output_type": "display_data"
    }
   ],
   "source": [
    "from sklearn.metrics import roc_curve, roc_auc_score\n",
    "\n",
    "plt.figure(figsize=(15,7))\n",
    "plt.subplot(1,2,2)\n",
    "plt.plot([0, 1], [0, 1], 'k--')\n",
    "\n",
    "model_log_proba=model_log.predict_proba(X_test)[:,1]\n",
    "fpr, tpr, thresholds  = roc_curve(y_test,model_log_proba)\n",
    "plt.plot(fpr, tpr, label='Logistic Regression')\n",
    "\n",
    "xgb_model_proba=xgb_model.predict_proba(X_test)[:,1]\n",
    "fpr, tpr, thresholds  = roc_curve(y_test,xgb_model_proba)\n",
    "plt.plot(fpr, tpr, label='XGBoosts')\n",
    "\n",
    "model_knn_proba=model_knn.predict_proba(X_test)[:,1]\n",
    "fpr, tpr, thresholds  = roc_curve(y_test,model_knn_proba)\n",
    "plt.plot(fpr, tpr, label='KNN')\n",
    "\n",
    "model_catboost_proba=model_catboost.predict_proba(X_test)[:,1]\n",
    "fpr, tpr, thresholds  = roc_curve(y_test,model_catboost_proba)\n",
    "plt.plot(fpr, tpr, label='CatBoost')\n",
    "\n",
    "model_gbdt_proba=model_gbdt.predict_proba(X_test)[:,1]\n",
    "fpr, tpr, thresholds  = roc_curve(y_test,model_gbdt_proba)\n",
    "plt.plot(fpr, tpr, label='GradientBoosting')\n",
    "\n",
    "model_lda_proba=model_lda.predict_proba(X_test)[:,1]\n",
    "fpr, tpr, thresholds  = roc_curve(y_test,model_lda_proba)\n",
    "plt.plot(fpr, tpr, label='LinearDiscriminant')\n",
    "\n",
    "model_gnb_proba=model_gnb.predict_proba(X_test)[:,1]\n",
    "fpr, tpr, thresholds  = roc_curve(y_test,model_gnb_proba)\n",
    "plt.plot(fpr, tpr, label='GaussianNB')\n",
    "\n",
    "model_rfc_proba=model_rfc.predict_proba(X_test)[:,1]\n",
    "fpr, tpr, thresholds  = roc_curve(y_test,model_rfc_proba)\n",
    "plt.plot(fpr, tpr, label='RandomForest')\n",
    "\n",
    "model_vtc_proba=model_vtc.predict_proba(X_test)[:,1]\n",
    "fpr, tpr, thresholds  = roc_curve(y_test,model_vtc_proba)\n",
    "plt.plot(fpr, tpr, label='VotingClassifier')\n",
    "\n",
    "\n",
    "plt.xlabel('False Positive Rate',fontsize=14)\n",
    "plt.ylabel('True Positive Rate',fontsize=14)\n",
    "plt.title('ROC Curve',fontsize=15)\n",
    "plt.legend()"
   ]
  },
  {
   "cell_type": "markdown",
   "id": "87a4f0c3",
   "metadata": {
    "papermill": {
     "duration": 0.014785,
     "end_time": "2022-08-09T02:09:44.941943",
     "exception": false,
     "start_time": "2022-08-09T02:09:44.927158",
     "status": "completed"
    },
    "tags": []
   },
   "source": [
    "Based on the ROC Curve, it shows that the Logistic Regression and LDA performs better than other model. "
   ]
  },
  {
   "cell_type": "code",
   "execution_count": 28,
   "id": "f81c2ef3",
   "metadata": {
    "execution": {
     "iopub.execute_input": "2022-08-09T02:09:44.974056Z",
     "iopub.status.busy": "2022-08-09T02:09:44.973717Z",
     "iopub.status.idle": "2022-08-09T02:09:44.982223Z",
     "shell.execute_reply": "2022-08-09T02:09:44.980885Z"
    },
    "papermill": {
     "duration": 0.027145,
     "end_time": "2022-08-09T02:09:44.984442",
     "exception": false,
     "start_time": "2022-08-09T02:09:44.957297",
     "status": "completed"
    },
    "tags": []
   },
   "outputs": [
    {
     "name": "stdout",
     "output_type": "stream",
     "text": [
      "0.7869777945050809\n",
      "0.7864759754108643\n"
     ]
    }
   ],
   "source": [
    "from sklearn.metrics import accuracy_score\n",
    "\n",
    "print(accuracy_score(y_test, pred_log))\n",
    "print(accuracy_score(y_test, pred_lda))"
   ]
  },
  {
   "cell_type": "markdown",
   "id": "bf6cc1b2",
   "metadata": {
    "papermill": {
     "duration": 0.015253,
     "end_time": "2022-08-09T02:09:45.015015",
     "exception": false,
     "start_time": "2022-08-09T02:09:44.999762",
     "status": "completed"
    },
    "tags": []
   },
   "source": [
    "It seems Logistic Regression performs better. "
   ]
  },
  {
   "cell_type": "code",
   "execution_count": 29,
   "id": "2fc2f31d",
   "metadata": {
    "execution": {
     "iopub.execute_input": "2022-08-09T02:09:45.048101Z",
     "iopub.status.busy": "2022-08-09T02:09:45.047593Z",
     "iopub.status.idle": "2022-08-09T02:09:45.202322Z",
     "shell.execute_reply": "2022-08-09T02:09:45.200843Z"
    },
    "papermill": {
     "duration": 0.174605,
     "end_time": "2022-08-09T02:09:45.204868",
     "exception": false,
     "start_time": "2022-08-09T02:09:45.030263",
     "status": "completed"
    },
    "tags": []
   },
   "outputs": [
    {
     "name": "stdout",
     "output_type": "stream",
     "text": [
      "[[6271    3]\n",
      " [1695    2]]\n"
     ]
    },
    {
     "data": {
      "text/plain": [
       "<AxesSubplot:>"
      ]
     },
     "execution_count": 29,
     "metadata": {},
     "output_type": "execute_result"
    },
    {
     "data": {
      "image/png": "[encoded data removed]",
      "text/plain": [
       "<Figure size 432x288 with 2 Axes>"
      ]
     },
     "metadata": {
      "needs_background": "light"
     },
     "output_type": "display_data"
    }
   ],
   "source": [
    "from sklearn.metrics import cluster\n",
    "\n",
    "log_table = cluster.contingency_matrix(y_test, pred_log)\n",
    "print(log_table)\n",
    "\n",
    "sns.heatmap(log_table, annot=True, fmt='.2f',cmap=\"BuPu\", vmin=0.0, vmax=100.0)"
   ]
  },
  {
   "cell_type": "code",
   "execution_count": 30,
   "id": "eacafd4f",
   "metadata": {
    "execution": {
     "iopub.execute_input": "2022-08-09T02:09:45.237156Z",
     "iopub.status.busy": "2022-08-09T02:09:45.236854Z",
     "iopub.status.idle": "2022-08-09T02:09:45.252756Z",
     "shell.execute_reply": "2022-08-09T02:09:45.252014Z"
    },
    "papermill": {
     "duration": 0.03443,
     "end_time": "2022-08-09T02:09:45.254632",
     "exception": false,
     "start_time": "2022-08-09T02:09:45.220202",
     "status": "completed"
    },
    "tags": []
   },
   "outputs": [
    {
     "data": {
      "text/html": [
       "<div>\n",
       "<style scoped>\n",
       "    .dataframe tbody tr th:only-of-type {\n",
       "        vertical-align: middle;\n",
       "    }\n",
       "\n",
       "    .dataframe tbody tr th {\n",
       "        vertical-align: top;\n",
       "    }\n",
       "\n",
       "    .dataframe thead th {\n",
       "        text-align: right;\n",
       "    }\n",
       "</style>\n",
       "<table border=\"1\" class=\"dataframe\">\n",
       "  <thead>\n",
       "    <tr style=\"text-align: right;\">\n",
       "      <th></th>\n",
       "      <th>id</th>\n",
       "      <th>failure</th>\n",
       "    </tr>\n",
       "  </thead>\n",
       "  <tbody>\n",
       "    <tr>\n",
       "      <th>0</th>\n",
       "      <td>26570</td>\n",
       "      <td>0.188167</td>\n",
       "    </tr>\n",
       "    <tr>\n",
       "      <th>1</th>\n",
       "      <td>26571</td>\n",
       "      <td>0.173586</td>\n",
       "    </tr>\n",
       "    <tr>\n",
       "      <th>2</th>\n",
       "      <td>26572</td>\n",
       "      <td>0.183911</td>\n",
       "    </tr>\n",
       "    <tr>\n",
       "      <th>3</th>\n",
       "      <td>26573</td>\n",
       "      <td>0.184001</td>\n",
       "    </tr>\n",
       "    <tr>\n",
       "      <th>4</th>\n",
       "      <td>26574</td>\n",
       "      <td>0.321598</td>\n",
       "    </tr>\n",
       "  </tbody>\n",
       "</table>\n",
       "</div>"
      ],
      "text/plain": [
       "      id   failure\n",
       "0  26570  0.188167\n",
       "1  26571  0.173586\n",
       "2  26572  0.183911\n",
       "3  26573  0.184001\n",
       "4  26574  0.321598"
      ]
     },
     "execution_count": 30,
     "metadata": {},
     "output_type": "execute_result"
    }
   ],
   "source": [
    "log_prediction = model_log.predict_proba(test_df)[:,1]\n",
    "\n",
    "labels = test_df['id']\n",
    "log_submission = pd.DataFrame(np.array([labels, log_prediction]).T, columns = ['id', 'failure'])\n",
    "log_submission['id'] = log_submission['id'].astype(int)\n",
    "log_submission.head()"
   ]
  },
  {
   "cell_type": "code",
   "execution_count": 31,
   "id": "cd5f5cfe",
   "metadata": {
    "execution": {
     "iopub.execute_input": "2022-08-09T02:09:45.299655Z",
     "iopub.status.busy": "2022-08-09T02:09:45.299273Z",
     "iopub.status.idle": "2022-08-09T02:09:45.363934Z",
     "shell.execute_reply": "2022-08-09T02:09:45.362678Z"
    },
    "papermill": {
     "duration": 0.089514,
     "end_time": "2022-08-09T02:09:45.366204",
     "exception": false,
     "start_time": "2022-08-09T02:09:45.276690",
     "status": "completed"
    },
    "tags": []
   },
   "outputs": [],
   "source": [
    "log_submission.to_csv('log_submission.csv', index=False)"
   ]
  }
 ],
 "metadata": {
  "kernelspec": {
   "display_name": "Python 3",
   "language": "python",
   "name": "python3"
  },
  "language_info": {
   "codemirror_mode": {
    "name": "ipython",
    "version": 3
   },
   "file_extension": ".py",
   "mimetype": "text/x-python",
   "name": "python",
   "nbconvert_exporter": "python",
   "pygments_lexer": "ipython3",
   "version": "3.7.12"
  },
  "papermill": {
   "default_parameters": {},
   "duration": 124.261535,
   "end_time": "2022-08-09T02:09:46.202444",
   "environment_variables": {},
   "exception": null,
   "input_path": "__notebook__.ipynb",
   "output_path": "__notebook__.ipynb",
   "parameters": {},
   "start_time": "2022-08-09T02:07:41.940909",
   "version": "2.3.4"
  }
 },
 "nbformat": 4,
 "nbformat_minor": 5
}
