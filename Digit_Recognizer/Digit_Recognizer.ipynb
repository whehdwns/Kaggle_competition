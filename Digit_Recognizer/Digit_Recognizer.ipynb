{
 "cells": [
  {
   "cell_type": "code",
   "execution_count": 21,
   "metadata": {},
   "outputs": [],
   "source": [
    "import pandas as pd\n",
    "import numpy as np\n",
    "import matplotlib.pyplot as plt\n",
    "import seaborn as sns\n",
    "import matplotlib as mpl\n",
    "from matplotlib import pyplot as plt\n",
    "import tensorflow as tf\n",
    "from tensorflow import keras\n",
    "from tensorflow.keras.utils import to_categorical\n",
    "from tensorflow.keras.models import Sequential\n",
    "from tensorflow.keras.layers import Dense, Dropout, Flatten, Conv2D, MaxPooling2D\n",
    "from tensorflow.keras.optimizers import RMSprop\n",
    "import warnings\n",
    "warnings.filterwarnings('ignore')"
   ]
  },
  {
   "cell_type": "code",
   "execution_count": 2,
   "metadata": {},
   "outputs": [
    {
     "data": {
      "text/plain": [
       "(42000, 785)"
      ]
     },
     "execution_count": 2,
     "metadata": {},
     "output_type": "execute_result"
    }
   ],
   "source": [
    "train_data=pd.read_csv('train.csv')\n",
    "train_data.shape"
   ]
  },
  {
   "cell_type": "code",
   "execution_count": 3,
   "metadata": {},
   "outputs": [
    {
     "data": {
      "text/html": [
       "<div>\n",
       "<style scoped>\n",
       "    .dataframe tbody tr th:only-of-type {\n",
       "        vertical-align: middle;\n",
       "    }\n",
       "\n",
       "    .dataframe tbody tr th {\n",
       "        vertical-align: top;\n",
       "    }\n",
       "\n",
       "    .dataframe thead th {\n",
       "        text-align: right;\n",
       "    }\n",
       "</style>\n",
       "<table border=\"1\" class=\"dataframe\">\n",
       "  <thead>\n",
       "    <tr style=\"text-align: right;\">\n",
       "      <th></th>\n",
       "      <th>label</th>\n",
       "      <th>pixel0</th>\n",
       "      <th>pixel1</th>\n",
       "      <th>pixel2</th>\n",
       "      <th>pixel3</th>\n",
       "      <th>pixel4</th>\n",
       "      <th>pixel5</th>\n",
       "      <th>pixel6</th>\n",
       "      <th>pixel7</th>\n",
       "      <th>pixel8</th>\n",
       "      <th>...</th>\n",
       "      <th>pixel774</th>\n",
       "      <th>pixel775</th>\n",
       "      <th>pixel776</th>\n",
       "      <th>pixel777</th>\n",
       "      <th>pixel778</th>\n",
       "      <th>pixel779</th>\n",
       "      <th>pixel780</th>\n",
       "      <th>pixel781</th>\n",
       "      <th>pixel782</th>\n",
       "      <th>pixel783</th>\n",
       "    </tr>\n",
       "  </thead>\n",
       "  <tbody>\n",
       "    <tr>\n",
       "      <th>0</th>\n",
       "      <td>1</td>\n",
       "      <td>0</td>\n",
       "      <td>0</td>\n",
       "      <td>0</td>\n",
       "      <td>0</td>\n",
       "      <td>0</td>\n",
       "      <td>0</td>\n",
       "      <td>0</td>\n",
       "      <td>0</td>\n",
       "      <td>0</td>\n",
       "      <td>...</td>\n",
       "      <td>0</td>\n",
       "      <td>0</td>\n",
       "      <td>0</td>\n",
       "      <td>0</td>\n",
       "      <td>0</td>\n",
       "      <td>0</td>\n",
       "      <td>0</td>\n",
       "      <td>0</td>\n",
       "      <td>0</td>\n",
       "      <td>0</td>\n",
       "    </tr>\n",
       "    <tr>\n",
       "      <th>1</th>\n",
       "      <td>0</td>\n",
       "      <td>0</td>\n",
       "      <td>0</td>\n",
       "      <td>0</td>\n",
       "      <td>0</td>\n",
       "      <td>0</td>\n",
       "      <td>0</td>\n",
       "      <td>0</td>\n",
       "      <td>0</td>\n",
       "      <td>0</td>\n",
       "      <td>...</td>\n",
       "      <td>0</td>\n",
       "      <td>0</td>\n",
       "      <td>0</td>\n",
       "      <td>0</td>\n",
       "      <td>0</td>\n",
       "      <td>0</td>\n",
       "      <td>0</td>\n",
       "      <td>0</td>\n",
       "      <td>0</td>\n",
       "      <td>0</td>\n",
       "    </tr>\n",
       "    <tr>\n",
       "      <th>2</th>\n",
       "      <td>1</td>\n",
       "      <td>0</td>\n",
       "      <td>0</td>\n",
       "      <td>0</td>\n",
       "      <td>0</td>\n",
       "      <td>0</td>\n",
       "      <td>0</td>\n",
       "      <td>0</td>\n",
       "      <td>0</td>\n",
       "      <td>0</td>\n",
       "      <td>...</td>\n",
       "      <td>0</td>\n",
       "      <td>0</td>\n",
       "      <td>0</td>\n",
       "      <td>0</td>\n",
       "      <td>0</td>\n",
       "      <td>0</td>\n",
       "      <td>0</td>\n",
       "      <td>0</td>\n",
       "      <td>0</td>\n",
       "      <td>0</td>\n",
       "    </tr>\n",
       "    <tr>\n",
       "      <th>3</th>\n",
       "      <td>4</td>\n",
       "      <td>0</td>\n",
       "      <td>0</td>\n",
       "      <td>0</td>\n",
       "      <td>0</td>\n",
       "      <td>0</td>\n",
       "      <td>0</td>\n",
       "      <td>0</td>\n",
       "      <td>0</td>\n",
       "      <td>0</td>\n",
       "      <td>...</td>\n",
       "      <td>0</td>\n",
       "      <td>0</td>\n",
       "      <td>0</td>\n",
       "      <td>0</td>\n",
       "      <td>0</td>\n",
       "      <td>0</td>\n",
       "      <td>0</td>\n",
       "      <td>0</td>\n",
       "      <td>0</td>\n",
       "      <td>0</td>\n",
       "    </tr>\n",
       "    <tr>\n",
       "      <th>4</th>\n",
       "      <td>0</td>\n",
       "      <td>0</td>\n",
       "      <td>0</td>\n",
       "      <td>0</td>\n",
       "      <td>0</td>\n",
       "      <td>0</td>\n",
       "      <td>0</td>\n",
       "      <td>0</td>\n",
       "      <td>0</td>\n",
       "      <td>0</td>\n",
       "      <td>...</td>\n",
       "      <td>0</td>\n",
       "      <td>0</td>\n",
       "      <td>0</td>\n",
       "      <td>0</td>\n",
       "      <td>0</td>\n",
       "      <td>0</td>\n",
       "      <td>0</td>\n",
       "      <td>0</td>\n",
       "      <td>0</td>\n",
       "      <td>0</td>\n",
       "    </tr>\n",
       "  </tbody>\n",
       "</table>\n",
       "<p>5 rows × 785 columns</p>\n",
       "</div>"
      ],
      "text/plain": [
       "   label  pixel0  pixel1  pixel2  pixel3  pixel4  pixel5  pixel6  pixel7  \\\n",
       "0      1       0       0       0       0       0       0       0       0   \n",
       "1      0       0       0       0       0       0       0       0       0   \n",
       "2      1       0       0       0       0       0       0       0       0   \n",
       "3      4       0       0       0       0       0       0       0       0   \n",
       "4      0       0       0       0       0       0       0       0       0   \n",
       "\n",
       "   pixel8  ...  pixel774  pixel775  pixel776  pixel777  pixel778  pixel779  \\\n",
       "0       0  ...         0         0         0         0         0         0   \n",
       "1       0  ...         0         0         0         0         0         0   \n",
       "2       0  ...         0         0         0         0         0         0   \n",
       "3       0  ...         0         0         0         0         0         0   \n",
       "4       0  ...         0         0         0         0         0         0   \n",
       "\n",
       "   pixel780  pixel781  pixel782  pixel783  \n",
       "0         0         0         0         0  \n",
       "1         0         0         0         0  \n",
       "2         0         0         0         0  \n",
       "3         0         0         0         0  \n",
       "4         0         0         0         0  \n",
       "\n",
       "[5 rows x 785 columns]"
      ]
     },
     "execution_count": 3,
     "metadata": {},
     "output_type": "execute_result"
    }
   ],
   "source": [
    "train_data.head()"
   ]
  },
  {
   "cell_type": "code",
   "execution_count": 4,
   "metadata": {},
   "outputs": [
    {
     "data": {
      "text/plain": [
       "Index(['label', 'pixel0', 'pixel1', 'pixel2', 'pixel3', 'pixel4', 'pixel5',\n",
       "       'pixel6', 'pixel7', 'pixel8',\n",
       "       ...\n",
       "       'pixel774', 'pixel775', 'pixel776', 'pixel777', 'pixel778', 'pixel779',\n",
       "       'pixel780', 'pixel781', 'pixel782', 'pixel783'],\n",
       "      dtype='object', length=785)"
      ]
     },
     "execution_count": 4,
     "metadata": {},
     "output_type": "execute_result"
    }
   ],
   "source": [
    "train_data.columns"
   ]
  },
  {
   "cell_type": "markdown",
   "metadata": {},
   "source": [
    "Checking null values in train datasets"
   ]
  },
  {
   "cell_type": "code",
   "execution_count": 5,
   "metadata": {},
   "outputs": [
    {
     "data": {
      "text/plain": [
       "Series([], dtype: int64)"
      ]
     },
     "execution_count": 5,
     "metadata": {},
     "output_type": "execute_result"
    }
   ],
   "source": [
    "train_null_data =train_data.isnull().sum()\n",
    "train_null_data=train_null_data[train_null_data>0].sort_values()\n",
    "train_null_data"
   ]
  },
  {
   "cell_type": "code",
   "execution_count": 6,
   "metadata": {},
   "outputs": [
    {
     "data": {
      "text/plain": [
       "(28000, 784)"
      ]
     },
     "execution_count": 6,
     "metadata": {},
     "output_type": "execute_result"
    }
   ],
   "source": [
    "test_data=pd.read_csv('test.csv')\n",
    "test_data.shape"
   ]
  },
  {
   "cell_type": "code",
   "execution_count": 7,
   "metadata": {},
   "outputs": [
    {
     "data": {
      "text/plain": [
       "Series([], dtype: int64)"
      ]
     },
     "execution_count": 7,
     "metadata": {},
     "output_type": "execute_result"
    }
   ],
   "source": [
    "test_null_data =test_data.isnull().sum()\n",
    "test_null_data=test_null_data[test_null_data>0].sort_values()\n",
    "test_null_data"
   ]
  },
  {
   "cell_type": "markdown",
   "metadata": {},
   "source": [
    "It seems it doesn't have null data for train and test dataset "
   ]
  },
  {
   "cell_type": "code",
   "execution_count": 8,
   "metadata": {},
   "outputs": [],
   "source": [
    "Y_train=train_data['label']\n",
    "X_train=train_data.drop(labels=[\"label\"],axis=1)"
   ]
  },
  {
   "cell_type": "code",
   "execution_count": 9,
   "metadata": {},
   "outputs": [
    {
     "data": {
      "text/plain": [
       "<AxesSubplot:xlabel='label', ylabel='count'>"
      ]
     },
     "execution_count": 9,
     "metadata": {},
     "output_type": "execute_result"
    },
    {
     "data": {
      "image/png": "[encoded data removed]",
      "text/plain": [
       "<Figure size 432x288 with 1 Axes>"
      ]
     },
     "metadata": {
      "needs_background": "light"
     },
     "output_type": "display_data"
    }
   ],
   "source": [
    "sns.countplot(Y_train)"
   ]
  },
  {
   "cell_type": "markdown",
   "metadata": {},
   "source": [
    "Since the array of size is too large, try to divide the image by 255.0"
   ]
  },
  {
   "cell_type": "code",
   "execution_count": 10,
   "metadata": {},
   "outputs": [],
   "source": [
    "X_train=X_train/ 255.0\n",
    "X_test=test_data/ 255.0"
   ]
  },
  {
   "cell_type": "markdown",
   "metadata": {},
   "source": [
    "Reshape the data"
   ]
  },
  {
   "cell_type": "code",
   "execution_count": 11,
   "metadata": {},
   "outputs": [],
   "source": [
    "X_train=X_train.values.reshape(-1, 28, 28, 1)\n",
    "X_test=X_test.values.reshape(-1, 28, 28, 1)"
   ]
  },
  {
   "cell_type": "code",
   "execution_count": 12,
   "metadata": {},
   "outputs": [],
   "source": [
    "Y_train=to_categorical(Y_train, num_classes=10)"
   ]
  },
  {
   "cell_type": "code",
   "execution_count": 13,
   "metadata": {},
   "outputs": [
    {
     "data": {
      "text/plain": [
       "<matplotlib.image.AxesImage at 0x7fd5b0795f60>"
      ]
     },
     "execution_count": 13,
     "metadata": {},
     "output_type": "execute_result"
    },
    {
     "data": {
      "image/png": "[encoded data removed]",
      "text/plain": [
       "<Figure size 432x288 with 1 Axes>"
      ]
     },
     "metadata": {
      "needs_background": "light"
     },
     "output_type": "display_data"
    }
   ],
   "source": [
    "plt.imshow(X_train[0])"
   ]
  },
  {
   "cell_type": "markdown",
   "metadata": {},
   "source": [
    "Draw graph for X_trian"
   ]
  },
  {
   "cell_type": "code",
   "execution_count": 14,
   "metadata": {},
   "outputs": [
    {
     "data": {
      "image/png": "[encoded data removed]",
      "text/plain": [
       "<Figure size 1080x432 with 30 Axes>"
      ]
     },
     "metadata": {
      "needs_background": "light"
     },
     "output_type": "display_data"
    }
   ],
   "source": [
    "plt.figure(figsize=(15,6))\n",
    "for i in range(30):  \n",
    "    plt.subplot(3, 10, i+1)\n",
    "    plt.imshow(X_train[i].reshape((28,28)),cmap='gray')\n",
    "plt.show()"
   ]
  },
  {
   "cell_type": "code",
   "execution_count": 15,
   "metadata": {},
   "outputs": [],
   "source": [
    "model = Sequential()\n",
    "model.add(Conv2D(32, (5,5), input_shape = (28,28,1), activation = 'relu'))\n",
    "model.add(Conv2D(32, (5,5), activation = 'relu'))\n",
    "model.add(MaxPooling2D(pool_size = (2,2)))\n",
    "model.add(Dropout(0.5))\n",
    "model.add(Conv2D(64, (3,3), activation = 'relu'))\n",
    "model.add(Conv2D(64, (3,3), activation = 'relu'))\n",
    "model.add(MaxPooling2D(pool_size = (2,2)))\n",
    "model.add(Dropout(0.5))\n",
    "model.add(Flatten())\n",
    "model.add(Dense(units = 1024, activation = 'relu'))\n",
    "model.add(Dropout(0.5))\n",
    "model.add(Dense(units = 512, activation = 'relu'))\n",
    "model.add(Dropout(0.5))\n",
    "model.add(Dense(units = 10, activation = 'softmax'))\n",
    "model.compile(loss = 'categorical_crossentropy', optimizer = RMSprop(lr=0.0001, rho=0.9,epsilon=1e-08,decay=0.00001), metrics=['accuracy'])"
   ]
  },
  {
   "cell_type": "code",
   "execution_count": 16,
   "metadata": {},
   "outputs": [
    {
     "name": "stdout",
     "output_type": "stream",
     "text": [
      "Epoch 1/50\n",
      "83/83 [==============================] - 95s 1s/step - loss: 1.8857 - accuracy: 0.3423\n",
      "Epoch 2/50\n",
      "83/83 [==============================] - 104s 1s/step - loss: 0.9609 - accuracy: 0.6758\n",
      "Epoch 3/50\n",
      "83/83 [==============================] - 97s 1s/step - loss: 0.6303 - accuracy: 0.7943\n",
      "Epoch 4/50\n",
      "83/83 [==============================] - 108s 1s/step - loss: 0.4688 - accuracy: 0.8507\n",
      "Epoch 5/50\n",
      "83/83 [==============================] - 107s 1s/step - loss: 0.3752 - accuracy: 0.8821\n",
      "Epoch 6/50\n",
      "83/83 [==============================] - 105s 1s/step - loss: 0.3049 - accuracy: 0.9045\n",
      "Epoch 7/50\n",
      "83/83 [==============================] - 74s 891ms/step - loss: 0.2704 - accuracy: 0.9165\n",
      "Epoch 8/50\n",
      "83/83 [==============================] - 72s 863ms/step - loss: 0.2306 - accuracy: 0.9280\n",
      "Epoch 9/50\n",
      "83/83 [==============================] - 74s 886ms/step - loss: 0.2077 - accuracy: 0.9355\n",
      "Epoch 10/50\n",
      "83/83 [==============================] - 81s 975ms/step - loss: 0.1854 - accuracy: 0.9424\n",
      "Epoch 11/50\n",
      "83/83 [==============================] - 75s 909ms/step - loss: 0.1673 - accuracy: 0.9475\n",
      "Epoch 12/50\n",
      "83/83 [==============================] - 76s 917ms/step - loss: 0.1574 - accuracy: 0.9514\n",
      "Epoch 13/50\n",
      "83/83 [==============================] - 75s 905ms/step - loss: 0.1471 - accuracy: 0.9541\n",
      "Epoch 14/50\n",
      "83/83 [==============================] - 73s 880ms/step - loss: 0.1379 - accuracy: 0.9581\n",
      "Epoch 15/50\n",
      "83/83 [==============================] - 72s 862ms/step - loss: 0.1304 - accuracy: 0.9607\n",
      "Epoch 16/50\n",
      "83/83 [==============================] - 72s 873ms/step - loss: 0.1210 - accuracy: 0.9629\n",
      "Epoch 17/50\n",
      "83/83 [==============================] - 77s 932ms/step - loss: 0.1158 - accuracy: 0.9645\n",
      "Epoch 18/50\n",
      "83/83 [==============================] - 72s 867ms/step - loss: 0.1091 - accuracy: 0.9666\n",
      "Epoch 19/50\n",
      "83/83 [==============================] - 72s 868ms/step - loss: 0.1042 - accuracy: 0.9671\n",
      "Epoch 20/50\n",
      "83/83 [==============================] - 74s 891ms/step - loss: 0.1012 - accuracy: 0.9680\n",
      "Epoch 21/50\n",
      "83/83 [==============================] - 73s 881ms/step - loss: 0.0968 - accuracy: 0.9703\n",
      "Epoch 22/50\n",
      "83/83 [==============================] - 115s 1s/step - loss: 0.0928 - accuracy: 0.9708\n",
      "Epoch 23/50\n",
      "83/83 [==============================] - 129s 2s/step - loss: 0.0907 - accuracy: 0.9727\n",
      "Epoch 24/50\n",
      "83/83 [==============================] - 106s 1s/step - loss: 0.0861 - accuracy: 0.9735\n",
      "Epoch 25/50\n",
      "83/83 [==============================] - 108s 1s/step - loss: 0.0812 - accuracy: 0.9748\n",
      "Epoch 26/50\n",
      "83/83 [==============================] - 130s 2s/step - loss: 0.0817 - accuracy: 0.9749\n",
      "Epoch 27/50\n",
      "83/83 [==============================] - 123s 1s/step - loss: 0.0783 - accuracy: 0.9759\n",
      "Epoch 28/50\n",
      "83/83 [==============================] - 116s 1s/step - loss: 0.0776 - accuracy: 0.9754\n",
      "Epoch 29/50\n",
      "83/83 [==============================] - 101s 1s/step - loss: 0.0762 - accuracy: 0.9763\n",
      "Epoch 30/50\n",
      "83/83 [==============================] - 103s 1s/step - loss: 0.0709 - accuracy: 0.9774\n",
      "Epoch 31/50\n",
      "83/83 [==============================] - 72s 867ms/step - loss: 0.0701 - accuracy: 0.9786\n",
      "Epoch 32/50\n",
      "83/83 [==============================] - 86s 1s/step - loss: 0.0696 - accuracy: 0.9790\n",
      "Epoch 33/50\n",
      "83/83 [==============================] - 122s 1s/step - loss: 0.0680 - accuracy: 0.9791\n",
      "Epoch 34/50\n",
      "83/83 [==============================] - 112s 1s/step - loss: 0.0680 - accuracy: 0.9791\n",
      "Epoch 35/50\n",
      "83/83 [==============================] - 86s 1s/step - loss: 0.0664 - accuracy: 0.9791\n",
      "Epoch 36/50\n",
      "83/83 [==============================] - 93s 1s/step - loss: 0.0644 - accuracy: 0.9802\n",
      "Epoch 37/50\n",
      "83/83 [==============================] - 92s 1s/step - loss: 0.0656 - accuracy: 0.9794\n",
      "Epoch 38/50\n",
      "83/83 [==============================] - 116s 1s/step - loss: 0.0614 - accuracy: 0.9807\n",
      "Epoch 39/50\n",
      "83/83 [==============================] - 120s 1s/step - loss: 0.0605 - accuracy: 0.9813\n",
      "Epoch 40/50\n",
      "83/83 [==============================] - 122s 1s/step - loss: 0.0592 - accuracy: 0.9822\n",
      "Epoch 41/50\n",
      "83/83 [==============================] - 108s 1s/step - loss: 0.0573 - accuracy: 0.9825\n",
      "Epoch 42/50\n",
      "83/83 [==============================] - 119s 1s/step - loss: 0.0579 - accuracy: 0.9820\n",
      "Epoch 43/50\n",
      "83/83 [==============================] - 147s 2s/step - loss: 0.0580 - accuracy: 0.9820\n",
      "Epoch 44/50\n",
      "83/83 [==============================] - 115s 1s/step - loss: 0.0561 - accuracy: 0.9828\n",
      "Epoch 45/50\n",
      "83/83 [==============================] - 124s 1s/step - loss: 0.0559 - accuracy: 0.9827\n",
      "Epoch 46/50\n",
      "83/83 [==============================] - 128s 2s/step - loss: 0.0538 - accuracy: 0.9841\n",
      "Epoch 47/50\n",
      "83/83 [==============================] - 123s 1s/step - loss: 0.0550 - accuracy: 0.9839\n",
      "Epoch 48/50\n",
      "83/83 [==============================] - 103s 1s/step - loss: 0.0537 - accuracy: 0.9839\n",
      "Epoch 49/50\n",
      "83/83 [==============================] - 114s 1s/step - loss: 0.0503 - accuracy: 0.9843\n",
      "Epoch 50/50\n",
      "83/83 [==============================] - 160s 2s/step - loss: 0.0514 - accuracy: 0.9841\n"
     ]
    },
    {
     "data": {
      "text/plain": [
       "<tensorflow.python.keras.callbacks.History at 0x7fd5afd50b38>"
      ]
     },
     "execution_count": 16,
     "metadata": {},
     "output_type": "execute_result"
    }
   ],
   "source": [
    "model.fit(X_train, Y_train, batch_size=512, epochs=50, verbose=1)"
   ]
  },
  {
   "cell_type": "code",
   "execution_count": 17,
   "metadata": {},
   "outputs": [
    {
     "name": "stdout",
     "output_type": "stream",
     "text": [
      "WARNING:tensorflow:From <ipython-input-17-71eab3bb1549>:4: Sequential.predict_classes (from tensorflow.python.keras.engine.sequential) is deprecated and will be removed after 2021-01-01.\n",
      "Instructions for updating:\n",
      "Please use instead:* `np.argmax(model.predict(x), axis=-1)`,   if your model does multi-class classification   (e.g. if it uses a `softmax` last-layer activation).* `(model.predict(x) > 0.5).astype(\"int32\")`,   if your model does binary classification   (e.g. if it uses a `sigmoid` last-layer activation).\n",
      "875/875 [==============================] - 22s 25ms/step\n"
     ]
    },
    {
     "data": {
      "text/plain": [
       "(28000,)"
      ]
     },
     "execution_count": 17,
     "metadata": {},
     "output_type": "execute_result"
    }
   ],
   "source": [
    "X_test=test_data/255.0\n",
    "X_test=X_test.values\n",
    "X_test = X_test.reshape(X_test.shape[0], 28, 28, 1).astype('float32')\n",
    "pred = model.predict_classes(X_test,verbose=1)\n",
    "pred.shape"
   ]
  },
  {
   "cell_type": "code",
   "execution_count": 18,
   "metadata": {},
   "outputs": [
    {
     "data": {
      "text/plain": [
       "(28000, 2)"
      ]
     },
     "execution_count": 18,
     "metadata": {},
     "output_type": "execute_result"
    }
   ],
   "source": [
    "sample_data=pd.read_csv('sample_submission.csv')\n",
    "sample_data.shape"
   ]
  },
  {
   "cell_type": "code",
   "execution_count": 19,
   "metadata": {},
   "outputs": [],
   "source": [
    "pd.DataFrame({\"ImageId\":list(range(1,len(pred)+1)),\n",
    "              \"Label\":pred}).to_csv('result.csv',\n",
    "                                           index=False,\n",
    "                                           header=True)"
   ]
  },
  {
   "cell_type": "code",
   "execution_count": 20,
   "metadata": {},
   "outputs": [
    {
     "data": {
      "text/plain": [
       "(28000, 2)"
      ]
     },
     "execution_count": 20,
     "metadata": {},
     "output_type": "execute_result"
    }
   ],
   "source": [
    "result_data=pd.read_csv('result.csv')\n",
    "result_data.shape"
   ]
  }
 ],
 "metadata": {
  "kernelspec": {
   "display_name": "Python 3",
   "language": "python",
   "name": "python3"
  },
  "language_info": {
   "codemirror_mode": {
    "name": "ipython",
    "version": 3
   },
   "file_extension": ".py",
   "mimetype": "text/x-python",
   "name": "python",
   "nbconvert_exporter": "python",
   "pygments_lexer": "ipython3",
   "version": "3.6.8"
  }
 },
 "nbformat": 4,
 "nbformat_minor": 4
}
