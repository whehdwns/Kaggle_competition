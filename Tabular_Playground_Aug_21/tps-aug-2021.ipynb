{
 "cells": [
  {
   "cell_type": "code",
   "execution_count": 1,
   "id": "b9784e34",
   "metadata": {
    "_cell_guid": "b1076dfc-b9ad-4769-8c92-a6c4dae69d19",
    "_uuid": "8f2839f25d086af736a60e9eeb907d3b93b6e0e5",
    "execution": {
     "iopub.execute_input": "2021-08-25T22:11:19.600001Z",
     "iopub.status.busy": "2021-08-25T22:11:19.598854Z",
     "iopub.status.idle": "2021-08-25T22:11:20.701256Z",
     "shell.execute_reply": "2021-08-25T22:11:20.700563Z",
     "shell.execute_reply.started": "2021-08-25T21:06:05.091955Z"
    },
    "papermill": {
     "duration": 1.133825,
     "end_time": "2021-08-25T22:11:20.701450",
     "exception": false,
     "start_time": "2021-08-25T22:11:19.567625",
     "status": "completed"
    },
    "tags": []
   },
   "outputs": [
    {
     "name": "stdout",
     "output_type": "stream",
     "text": [
      "/kaggle/input/tabular-playground-series-aug-2021/sample_submission.csv\n",
      "/kaggle/input/tabular-playground-series-aug-2021/train.csv\n",
      "/kaggle/input/tabular-playground-series-aug-2021/test.csv\n"
     ]
    }
   ],
   "source": [
    "# This Python 3 environment comes with many helpful analytics libraries installed\n",
    "# It is defined by the kaggle/python Docker image: https://github.com/kaggle/docker-python\n",
    "# For example, here's several helpful packages to load\n",
    "\n",
    "import numpy as np # linear algebra\n",
    "import pandas as pd # data processing, CSV file I/O (e.g. pd.read_csv)\n",
    "import matplotlib.pyplot as plt\n",
    "import seaborn as sns\n",
    "import warnings\n",
    "warnings.filterwarnings('ignore')\n",
    "\n",
    "\n",
    "# Input data files are available in the read-only \"../input/\" directory\n",
    "# For example, running this (by clicking run or pressing Shift+Enter) will list all files under the input directory\n",
    "\n",
    "import os\n",
    "for dirname, _, filenames in os.walk('/kaggle/input'):\n",
    "    for filename in filenames:\n",
    "        print(os.path.join(dirname, filename))\n",
    "\n",
    "# You can write up to 20GB to the current directory (/kaggle/working/) that gets preserved as output when you create a version using \"Save & Run All\" \n",
    "# You can also write temporary files to /kaggle/temp/, but they won't be saved outside of the current session"
   ]
  },
  {
   "cell_type": "code",
   "execution_count": 2,
   "id": "cc864d7a",
   "metadata": {
    "execution": {
     "iopub.execute_input": "2021-08-25T22:11:20.763423Z",
     "iopub.status.busy": "2021-08-25T22:11:20.762759Z",
     "iopub.status.idle": "2021-08-25T22:11:27.946015Z",
     "shell.execute_reply": "2021-08-25T22:11:27.945466Z",
     "shell.execute_reply.started": "2021-08-25T21:06:05.577191Z"
    },
    "papermill": {
     "duration": 7.216095,
     "end_time": "2021-08-25T22:11:27.946156",
     "exception": false,
     "start_time": "2021-08-25T22:11:20.730061",
     "status": "completed"
    },
    "tags": []
   },
   "outputs": [
    {
     "data": {
      "text/html": [
       "<div>\n",
       "<style scoped>\n",
       "    .dataframe tbody tr th:only-of-type {\n",
       "        vertical-align: middle;\n",
       "    }\n",
       "\n",
       "    .dataframe tbody tr th {\n",
       "        vertical-align: top;\n",
       "    }\n",
       "\n",
       "    .dataframe thead th {\n",
       "        text-align: right;\n",
       "    }\n",
       "</style>\n",
       "<table border=\"1\" class=\"dataframe\">\n",
       "  <thead>\n",
       "    <tr style=\"text-align: right;\">\n",
       "      <th></th>\n",
       "      <th>id</th>\n",
       "      <th>f0</th>\n",
       "      <th>f1</th>\n",
       "      <th>f2</th>\n",
       "      <th>f3</th>\n",
       "      <th>f4</th>\n",
       "      <th>f5</th>\n",
       "      <th>f6</th>\n",
       "      <th>f7</th>\n",
       "      <th>f8</th>\n",
       "      <th>...</th>\n",
       "      <th>f91</th>\n",
       "      <th>f92</th>\n",
       "      <th>f93</th>\n",
       "      <th>f94</th>\n",
       "      <th>f95</th>\n",
       "      <th>f96</th>\n",
       "      <th>f97</th>\n",
       "      <th>f98</th>\n",
       "      <th>f99</th>\n",
       "      <th>loss</th>\n",
       "    </tr>\n",
       "  </thead>\n",
       "  <tbody>\n",
       "    <tr>\n",
       "      <th>0</th>\n",
       "      <td>0</td>\n",
       "      <td>-0.002350</td>\n",
       "      <td>59</td>\n",
       "      <td>0.766739</td>\n",
       "      <td>-1.350460</td>\n",
       "      <td>42.2727</td>\n",
       "      <td>16.68570</td>\n",
       "      <td>30.3599</td>\n",
       "      <td>1.267300</td>\n",
       "      <td>0.392007</td>\n",
       "      <td>...</td>\n",
       "      <td>-42.43990</td>\n",
       "      <td>26.854000</td>\n",
       "      <td>1.45751</td>\n",
       "      <td>0.696161</td>\n",
       "      <td>0.941764</td>\n",
       "      <td>1.828470</td>\n",
       "      <td>0.924090</td>\n",
       "      <td>2.29658</td>\n",
       "      <td>10.48980</td>\n",
       "      <td>15</td>\n",
       "    </tr>\n",
       "    <tr>\n",
       "      <th>1</th>\n",
       "      <td>1</td>\n",
       "      <td>0.784462</td>\n",
       "      <td>145</td>\n",
       "      <td>-0.463845</td>\n",
       "      <td>-0.530421</td>\n",
       "      <td>27324.9000</td>\n",
       "      <td>3.47545</td>\n",
       "      <td>160.4980</td>\n",
       "      <td>0.828007</td>\n",
       "      <td>3.735860</td>\n",
       "      <td>...</td>\n",
       "      <td>-184.13200</td>\n",
       "      <td>7.901370</td>\n",
       "      <td>1.70644</td>\n",
       "      <td>-0.494699</td>\n",
       "      <td>-2.058300</td>\n",
       "      <td>0.819184</td>\n",
       "      <td>0.439152</td>\n",
       "      <td>2.36470</td>\n",
       "      <td>1.14383</td>\n",
       "      <td>3</td>\n",
       "    </tr>\n",
       "    <tr>\n",
       "      <th>2</th>\n",
       "      <td>2</td>\n",
       "      <td>0.317816</td>\n",
       "      <td>19</td>\n",
       "      <td>-0.432571</td>\n",
       "      <td>-0.382644</td>\n",
       "      <td>1383.2600</td>\n",
       "      <td>19.71290</td>\n",
       "      <td>31.1026</td>\n",
       "      <td>-0.515354</td>\n",
       "      <td>34.430800</td>\n",
       "      <td>...</td>\n",
       "      <td>7.43721</td>\n",
       "      <td>37.218100</td>\n",
       "      <td>3.25339</td>\n",
       "      <td>0.337934</td>\n",
       "      <td>0.615037</td>\n",
       "      <td>2.216760</td>\n",
       "      <td>0.745268</td>\n",
       "      <td>1.69679</td>\n",
       "      <td>12.30550</td>\n",
       "      <td>6</td>\n",
       "    </tr>\n",
       "    <tr>\n",
       "      <th>3</th>\n",
       "      <td>3</td>\n",
       "      <td>0.210753</td>\n",
       "      <td>17</td>\n",
       "      <td>-0.616454</td>\n",
       "      <td>0.946362</td>\n",
       "      <td>-119.2530</td>\n",
       "      <td>4.08235</td>\n",
       "      <td>185.2570</td>\n",
       "      <td>1.383310</td>\n",
       "      <td>-47.521400</td>\n",
       "      <td>...</td>\n",
       "      <td>9.66778</td>\n",
       "      <td>0.626942</td>\n",
       "      <td>1.49425</td>\n",
       "      <td>0.517513</td>\n",
       "      <td>-10.222100</td>\n",
       "      <td>2.627310</td>\n",
       "      <td>0.617270</td>\n",
       "      <td>1.45645</td>\n",
       "      <td>10.02880</td>\n",
       "      <td>2</td>\n",
       "    </tr>\n",
       "    <tr>\n",
       "      <th>4</th>\n",
       "      <td>4</td>\n",
       "      <td>0.439671</td>\n",
       "      <td>20</td>\n",
       "      <td>0.968126</td>\n",
       "      <td>-0.092546</td>\n",
       "      <td>74.3020</td>\n",
       "      <td>12.30650</td>\n",
       "      <td>72.1860</td>\n",
       "      <td>-0.233964</td>\n",
       "      <td>24.399100</td>\n",
       "      <td>...</td>\n",
       "      <td>290.65700</td>\n",
       "      <td>15.604300</td>\n",
       "      <td>1.73557</td>\n",
       "      <td>-0.476668</td>\n",
       "      <td>1.390190</td>\n",
       "      <td>2.195740</td>\n",
       "      <td>0.826987</td>\n",
       "      <td>1.78485</td>\n",
       "      <td>7.07197</td>\n",
       "      <td>1</td>\n",
       "    </tr>\n",
       "  </tbody>\n",
       "</table>\n",
       "<p>5 rows × 102 columns</p>\n",
       "</div>"
      ],
      "text/plain": [
       "   id        f0   f1        f2        f3          f4        f5        f6  \\\n",
       "0   0 -0.002350   59  0.766739 -1.350460     42.2727  16.68570   30.3599   \n",
       "1   1  0.784462  145 -0.463845 -0.530421  27324.9000   3.47545  160.4980   \n",
       "2   2  0.317816   19 -0.432571 -0.382644   1383.2600  19.71290   31.1026   \n",
       "3   3  0.210753   17 -0.616454  0.946362   -119.2530   4.08235  185.2570   \n",
       "4   4  0.439671   20  0.968126 -0.092546     74.3020  12.30650   72.1860   \n",
       "\n",
       "         f7         f8  ...        f91        f92      f93       f94  \\\n",
       "0  1.267300   0.392007  ...  -42.43990  26.854000  1.45751  0.696161   \n",
       "1  0.828007   3.735860  ... -184.13200   7.901370  1.70644 -0.494699   \n",
       "2 -0.515354  34.430800  ...    7.43721  37.218100  3.25339  0.337934   \n",
       "3  1.383310 -47.521400  ...    9.66778   0.626942  1.49425  0.517513   \n",
       "4 -0.233964  24.399100  ...  290.65700  15.604300  1.73557 -0.476668   \n",
       "\n",
       "         f95       f96       f97      f98       f99  loss  \n",
       "0   0.941764  1.828470  0.924090  2.29658  10.48980    15  \n",
       "1  -2.058300  0.819184  0.439152  2.36470   1.14383     3  \n",
       "2   0.615037  2.216760  0.745268  1.69679  12.30550     6  \n",
       "3 -10.222100  2.627310  0.617270  1.45645  10.02880     2  \n",
       "4   1.390190  2.195740  0.826987  1.78485   7.07197     1  \n",
       "\n",
       "[5 rows x 102 columns]"
      ]
     },
     "execution_count": 2,
     "metadata": {},
     "output_type": "execute_result"
    }
   ],
   "source": [
    "train_data = pd.read_csv('../input/tabular-playground-series-aug-2021/train.csv')\n",
    "train_data.head()"
   ]
  },
  {
   "cell_type": "code",
   "execution_count": 3,
   "id": "c485f7d3",
   "metadata": {
    "execution": {
     "iopub.execute_input": "2021-08-25T22:11:28.007093Z",
     "iopub.status.busy": "2021-08-25T22:11:28.006410Z",
     "iopub.status.idle": "2021-08-25T22:11:31.992989Z",
     "shell.execute_reply": "2021-08-25T22:11:31.993566Z",
     "shell.execute_reply.started": "2021-08-25T21:06:10.968290Z"
    },
    "papermill": {
     "duration": 4.019624,
     "end_time": "2021-08-25T22:11:31.993756",
     "exception": false,
     "start_time": "2021-08-25T22:11:27.974132",
     "status": "completed"
    },
    "tags": []
   },
   "outputs": [
    {
     "data": {
      "text/html": [
       "<div>\n",
       "<style scoped>\n",
       "    .dataframe tbody tr th:only-of-type {\n",
       "        vertical-align: middle;\n",
       "    }\n",
       "\n",
       "    .dataframe tbody tr th {\n",
       "        vertical-align: top;\n",
       "    }\n",
       "\n",
       "    .dataframe thead th {\n",
       "        text-align: right;\n",
       "    }\n",
       "</style>\n",
       "<table border=\"1\" class=\"dataframe\">\n",
       "  <thead>\n",
       "    <tr style=\"text-align: right;\">\n",
       "      <th></th>\n",
       "      <th>id</th>\n",
       "      <th>f0</th>\n",
       "      <th>f1</th>\n",
       "      <th>f2</th>\n",
       "      <th>f3</th>\n",
       "      <th>f4</th>\n",
       "      <th>f5</th>\n",
       "      <th>f6</th>\n",
       "      <th>f7</th>\n",
       "      <th>f8</th>\n",
       "      <th>...</th>\n",
       "      <th>f90</th>\n",
       "      <th>f91</th>\n",
       "      <th>f92</th>\n",
       "      <th>f93</th>\n",
       "      <th>f94</th>\n",
       "      <th>f95</th>\n",
       "      <th>f96</th>\n",
       "      <th>f97</th>\n",
       "      <th>f98</th>\n",
       "      <th>f99</th>\n",
       "    </tr>\n",
       "  </thead>\n",
       "  <tbody>\n",
       "    <tr>\n",
       "      <th>0</th>\n",
       "      <td>250000</td>\n",
       "      <td>0.812665</td>\n",
       "      <td>15</td>\n",
       "      <td>-1.239120</td>\n",
       "      <td>-0.893251</td>\n",
       "      <td>295.5770</td>\n",
       "      <td>15.87120</td>\n",
       "      <td>23.04360</td>\n",
       "      <td>0.942256</td>\n",
       "      <td>29.898000</td>\n",
       "      <td>...</td>\n",
       "      <td>0.446389</td>\n",
       "      <td>-422.332</td>\n",
       "      <td>-1.44630</td>\n",
       "      <td>1.69075</td>\n",
       "      <td>1.059300</td>\n",
       "      <td>-3.010570</td>\n",
       "      <td>1.94664</td>\n",
       "      <td>0.529470</td>\n",
       "      <td>1.386950</td>\n",
       "      <td>8.78767</td>\n",
       "    </tr>\n",
       "    <tr>\n",
       "      <th>1</th>\n",
       "      <td>250001</td>\n",
       "      <td>0.190344</td>\n",
       "      <td>131</td>\n",
       "      <td>-0.501361</td>\n",
       "      <td>0.801921</td>\n",
       "      <td>64.8866</td>\n",
       "      <td>3.09703</td>\n",
       "      <td>344.80500</td>\n",
       "      <td>0.807194</td>\n",
       "      <td>38.421900</td>\n",
       "      <td>...</td>\n",
       "      <td>0.377179</td>\n",
       "      <td>10352.200</td>\n",
       "      <td>21.06270</td>\n",
       "      <td>1.84351</td>\n",
       "      <td>0.251895</td>\n",
       "      <td>4.440570</td>\n",
       "      <td>1.90309</td>\n",
       "      <td>0.248534</td>\n",
       "      <td>0.863881</td>\n",
       "      <td>11.79390</td>\n",
       "    </tr>\n",
       "    <tr>\n",
       "      <th>2</th>\n",
       "      <td>250002</td>\n",
       "      <td>0.919671</td>\n",
       "      <td>19</td>\n",
       "      <td>-0.057382</td>\n",
       "      <td>0.901419</td>\n",
       "      <td>11961.2000</td>\n",
       "      <td>16.39650</td>\n",
       "      <td>273.24000</td>\n",
       "      <td>-0.003300</td>\n",
       "      <td>37.940000</td>\n",
       "      <td>...</td>\n",
       "      <td>0.990140</td>\n",
       "      <td>3224.020</td>\n",
       "      <td>-2.25287</td>\n",
       "      <td>1.55100</td>\n",
       "      <td>-0.559157</td>\n",
       "      <td>17.838600</td>\n",
       "      <td>1.83385</td>\n",
       "      <td>0.931796</td>\n",
       "      <td>2.336870</td>\n",
       "      <td>9.05400</td>\n",
       "    </tr>\n",
       "    <tr>\n",
       "      <th>3</th>\n",
       "      <td>250003</td>\n",
       "      <td>0.860985</td>\n",
       "      <td>19</td>\n",
       "      <td>-0.549509</td>\n",
       "      <td>0.471799</td>\n",
       "      <td>7501.6000</td>\n",
       "      <td>2.80698</td>\n",
       "      <td>71.08170</td>\n",
       "      <td>0.792136</td>\n",
       "      <td>0.395235</td>\n",
       "      <td>...</td>\n",
       "      <td>1.396880</td>\n",
       "      <td>9689.760</td>\n",
       "      <td>14.77150</td>\n",
       "      <td>1.41390</td>\n",
       "      <td>0.329272</td>\n",
       "      <td>0.802437</td>\n",
       "      <td>2.23251</td>\n",
       "      <td>0.893348</td>\n",
       "      <td>1.359470</td>\n",
       "      <td>4.84833</td>\n",
       "    </tr>\n",
       "    <tr>\n",
       "      <th>4</th>\n",
       "      <td>250004</td>\n",
       "      <td>0.313229</td>\n",
       "      <td>89</td>\n",
       "      <td>0.588509</td>\n",
       "      <td>0.167705</td>\n",
       "      <td>2931.2600</td>\n",
       "      <td>4.34986</td>\n",
       "      <td>1.57187</td>\n",
       "      <td>1.118300</td>\n",
       "      <td>7.754630</td>\n",
       "      <td>...</td>\n",
       "      <td>0.862502</td>\n",
       "      <td>2693.350</td>\n",
       "      <td>44.18050</td>\n",
       "      <td>1.58020</td>\n",
       "      <td>-0.191021</td>\n",
       "      <td>26.253000</td>\n",
       "      <td>2.68238</td>\n",
       "      <td>0.361923</td>\n",
       "      <td>1.532800</td>\n",
       "      <td>3.70660</td>\n",
       "    </tr>\n",
       "  </tbody>\n",
       "</table>\n",
       "<p>5 rows × 101 columns</p>\n",
       "</div>"
      ],
      "text/plain": [
       "       id        f0   f1        f2        f3          f4        f5         f6  \\\n",
       "0  250000  0.812665   15 -1.239120 -0.893251    295.5770  15.87120   23.04360   \n",
       "1  250001  0.190344  131 -0.501361  0.801921     64.8866   3.09703  344.80500   \n",
       "2  250002  0.919671   19 -0.057382  0.901419  11961.2000  16.39650  273.24000   \n",
       "3  250003  0.860985   19 -0.549509  0.471799   7501.6000   2.80698   71.08170   \n",
       "4  250004  0.313229   89  0.588509  0.167705   2931.2600   4.34986    1.57187   \n",
       "\n",
       "         f7         f8  ...       f90        f91       f92      f93       f94  \\\n",
       "0  0.942256  29.898000  ...  0.446389   -422.332  -1.44630  1.69075  1.059300   \n",
       "1  0.807194  38.421900  ...  0.377179  10352.200  21.06270  1.84351  0.251895   \n",
       "2 -0.003300  37.940000  ...  0.990140   3224.020  -2.25287  1.55100 -0.559157   \n",
       "3  0.792136   0.395235  ...  1.396880   9689.760  14.77150  1.41390  0.329272   \n",
       "4  1.118300   7.754630  ...  0.862502   2693.350  44.18050  1.58020 -0.191021   \n",
       "\n",
       "         f95      f96       f97       f98       f99  \n",
       "0  -3.010570  1.94664  0.529470  1.386950   8.78767  \n",
       "1   4.440570  1.90309  0.248534  0.863881  11.79390  \n",
       "2  17.838600  1.83385  0.931796  2.336870   9.05400  \n",
       "3   0.802437  2.23251  0.893348  1.359470   4.84833  \n",
       "4  26.253000  2.68238  0.361923  1.532800   3.70660  \n",
       "\n",
       "[5 rows x 101 columns]"
      ]
     },
     "execution_count": 3,
     "metadata": {},
     "output_type": "execute_result"
    }
   ],
   "source": [
    "test_data = pd.read_csv('../input/tabular-playground-series-aug-2021/test.csv')\n",
    "test_data.head()"
   ]
  },
  {
   "cell_type": "markdown",
   "id": "65972bb4",
   "metadata": {
    "papermill": {
     "duration": 0.029033,
     "end_time": "2021-08-25T22:11:32.054144",
     "exception": false,
     "start_time": "2021-08-25T22:11:32.025111",
     "status": "completed"
    },
    "tags": []
   },
   "source": [
    "### Check for column length for two datasets"
   ]
  },
  {
   "cell_type": "code",
   "execution_count": 4,
   "id": "7350d415",
   "metadata": {
    "execution": {
     "iopub.execute_input": "2021-08-25T22:11:32.115196Z",
     "iopub.status.busy": "2021-08-25T22:11:32.114216Z",
     "iopub.status.idle": "2021-08-25T22:11:32.122287Z",
     "shell.execute_reply": "2021-08-25T22:11:32.122958Z",
     "shell.execute_reply.started": "2021-08-25T21:06:13.987361Z"
    },
    "papermill": {
     "duration": 0.040499,
     "end_time": "2021-08-25T22:11:32.123161",
     "exception": false,
     "start_time": "2021-08-25T22:11:32.082662",
     "status": "completed"
    },
    "tags": []
   },
   "outputs": [
    {
     "name": "stdout",
     "output_type": "stream",
     "text": [
      "Length of train column is 102\n",
      "Length of test column is 101\n"
     ]
    }
   ],
   "source": [
    "print(\"Length of train column is \" + str(len(train_data.columns)))\n",
    "print(\"Length of test column is \" + str(len(test_data.columns)))"
   ]
  },
  {
   "cell_type": "markdown",
   "id": "0aa6c844",
   "metadata": {
    "papermill": {
     "duration": 0.028479,
     "end_time": "2021-08-25T22:11:32.181585",
     "exception": false,
     "start_time": "2021-08-25T22:11:32.153106",
     "status": "completed"
    },
    "tags": []
   },
   "source": [
    "### Check for null data for two datasets"
   ]
  },
  {
   "cell_type": "code",
   "execution_count": 5,
   "id": "11872351",
   "metadata": {
    "execution": {
     "iopub.execute_input": "2021-08-25T22:11:32.244111Z",
     "iopub.status.busy": "2021-08-25T22:11:32.243424Z",
     "iopub.status.idle": "2021-08-25T22:11:32.297920Z",
     "shell.execute_reply": "2021-08-25T22:11:32.297381Z",
     "shell.execute_reply.started": "2021-08-25T21:06:13.994779Z"
    },
    "papermill": {
     "duration": 0.087578,
     "end_time": "2021-08-25T22:11:32.298070",
     "exception": false,
     "start_time": "2021-08-25T22:11:32.210492",
     "status": "completed"
    },
    "tags": []
   },
   "outputs": [
    {
     "data": {
      "text/plain": [
       "id      0\n",
       "f0      0\n",
       "f1      0\n",
       "f2      0\n",
       "f3      0\n",
       "       ..\n",
       "f96     0\n",
       "f97     0\n",
       "f98     0\n",
       "f99     0\n",
       "loss    0\n",
       "Length: 102, dtype: int64"
      ]
     },
     "execution_count": 5,
     "metadata": {},
     "output_type": "execute_result"
    }
   ],
   "source": [
    "train_data.isnull().sum()"
   ]
  },
  {
   "cell_type": "code",
   "execution_count": 6,
   "id": "d03f1247",
   "metadata": {
    "execution": {
     "iopub.execute_input": "2021-08-25T22:11:32.362431Z",
     "iopub.status.busy": "2021-08-25T22:11:32.361761Z",
     "iopub.status.idle": "2021-08-25T22:11:32.395284Z",
     "shell.execute_reply": "2021-08-25T22:11:32.394773Z",
     "shell.execute_reply.started": "2021-08-25T21:06:14.064625Z"
    },
    "papermill": {
     "duration": 0.067477,
     "end_time": "2021-08-25T22:11:32.395431",
     "exception": false,
     "start_time": "2021-08-25T22:11:32.327954",
     "status": "completed"
    },
    "tags": []
   },
   "outputs": [
    {
     "data": {
      "text/plain": [
       "<bound method NDFrame._add_numeric_operations.<locals>.sum of            id     f0     f1     f2     f3     f4     f5     f6     f7     f8  \\\n",
       "0       False  False  False  False  False  False  False  False  False  False   \n",
       "1       False  False  False  False  False  False  False  False  False  False   \n",
       "2       False  False  False  False  False  False  False  False  False  False   \n",
       "3       False  False  False  False  False  False  False  False  False  False   \n",
       "4       False  False  False  False  False  False  False  False  False  False   \n",
       "...       ...    ...    ...    ...    ...    ...    ...    ...    ...    ...   \n",
       "149995  False  False  False  False  False  False  False  False  False  False   \n",
       "149996  False  False  False  False  False  False  False  False  False  False   \n",
       "149997  False  False  False  False  False  False  False  False  False  False   \n",
       "149998  False  False  False  False  False  False  False  False  False  False   \n",
       "149999  False  False  False  False  False  False  False  False  False  False   \n",
       "\n",
       "        ...    f90    f91    f92    f93    f94    f95    f96    f97    f98  \\\n",
       "0       ...  False  False  False  False  False  False  False  False  False   \n",
       "1       ...  False  False  False  False  False  False  False  False  False   \n",
       "2       ...  False  False  False  False  False  False  False  False  False   \n",
       "3       ...  False  False  False  False  False  False  False  False  False   \n",
       "4       ...  False  False  False  False  False  False  False  False  False   \n",
       "...     ...    ...    ...    ...    ...    ...    ...    ...    ...    ...   \n",
       "149995  ...  False  False  False  False  False  False  False  False  False   \n",
       "149996  ...  False  False  False  False  False  False  False  False  False   \n",
       "149997  ...  False  False  False  False  False  False  False  False  False   \n",
       "149998  ...  False  False  False  False  False  False  False  False  False   \n",
       "149999  ...  False  False  False  False  False  False  False  False  False   \n",
       "\n",
       "          f99  \n",
       "0       False  \n",
       "1       False  \n",
       "2       False  \n",
       "3       False  \n",
       "4       False  \n",
       "...       ...  \n",
       "149995  False  \n",
       "149996  False  \n",
       "149997  False  \n",
       "149998  False  \n",
       "149999  False  \n",
       "\n",
       "[150000 rows x 101 columns]>"
      ]
     },
     "execution_count": 6,
     "metadata": {},
     "output_type": "execute_result"
    }
   ],
   "source": [
    "test_data.isnull().sum"
   ]
  },
  {
   "cell_type": "markdown",
   "id": "e6bc3547",
   "metadata": {
    "papermill": {
     "duration": 0.029951,
     "end_time": "2021-08-25T22:11:32.454972",
     "exception": false,
     "start_time": "2021-08-25T22:11:32.425021",
     "status": "completed"
    },
    "tags": []
   },
   "source": [
    "#### Train data have 250000 rows × 102 columns\n",
    "#### Test data have 150000 rows × 101 columns"
   ]
  },
  {
   "cell_type": "code",
   "execution_count": 7,
   "id": "1d865ddb",
   "metadata": {
    "execution": {
     "iopub.execute_input": "2021-08-25T22:11:32.602205Z",
     "iopub.status.busy": "2021-08-25T22:11:32.601211Z",
     "iopub.status.idle": "2021-08-25T22:11:32.604654Z",
     "shell.execute_reply": "2021-08-25T22:11:32.604101Z",
     "shell.execute_reply.started": "2021-08-25T21:06:14.104725Z"
    },
    "papermill": {
     "duration": 0.119708,
     "end_time": "2021-08-25T22:11:32.604798",
     "exception": false,
     "start_time": "2021-08-25T22:11:32.485090",
     "status": "completed"
    },
    "tags": []
   },
   "outputs": [],
   "source": [
    "train_data.drop(['id'], axis=1, inplace=True)"
   ]
  },
  {
   "cell_type": "code",
   "execution_count": 8,
   "id": "17449b2f",
   "metadata": {
    "execution": {
     "iopub.execute_input": "2021-08-25T22:11:32.667210Z",
     "iopub.status.busy": "2021-08-25T22:11:32.666585Z",
     "iopub.status.idle": "2021-08-25T22:11:33.399374Z",
     "shell.execute_reply": "2021-08-25T22:11:33.398775Z",
     "shell.execute_reply.started": "2021-08-25T21:06:14.239293Z"
    },
    "papermill": {
     "duration": 0.765046,
     "end_time": "2021-08-25T22:11:33.399561",
     "exception": false,
     "start_time": "2021-08-25T22:11:32.634515",
     "status": "completed"
    },
    "tags": []
   },
   "outputs": [
    {
     "data": {
      "image/png": "[encoded data removed]",
      "text/plain": [
       "<Figure size 1224x576 with 1 Axes>"
      ]
     },
     "metadata": {
      "needs_background": "light"
     },
     "output_type": "display_data"
    }
   ],
   "source": [
    "train_data_loss = train_data['loss'].value_counts().sort_index()\n",
    "fig, ax = plt.subplots(1, 1, figsize=(17, 8))\n",
    "sns.barplot(x= train_data_loss.index, y = train_data_loss.values)\n",
    "ax.set_title('Target Distribution', weight='bold', fontsize=15)\n",
    "ax.grid(axis='y', linestyle='-', alpha=0.4)"
   ]
  },
  {
   "cell_type": "code",
   "execution_count": 9,
   "id": "a08c5295",
   "metadata": {
    "execution": {
     "iopub.execute_input": "2021-08-25T22:11:33.466908Z",
     "iopub.status.busy": "2021-08-25T22:11:33.466116Z",
     "iopub.status.idle": "2021-08-25T22:11:33.470204Z",
     "shell.execute_reply": "2021-08-25T22:11:33.469614Z",
     "shell.execute_reply.started": "2021-08-25T21:06:14.881509Z"
    },
    "papermill": {
     "duration": 0.040151,
     "end_time": "2021-08-25T22:11:33.470339",
     "exception": false,
     "start_time": "2021-08-25T22:11:33.430188",
     "status": "completed"
    },
    "tags": []
   },
   "outputs": [
    {
     "name": "stdout",
     "output_type": "stream",
     "text": [
      "There are total of 43\n",
      "Top 10 distrubtion have 72.5836% of the total\n"
     ]
    }
   ],
   "source": [
    "loss_percentage = (sum(train_data_loss[:10]) / sum(train_data_loss))*100\n",
    "print(\"There are total of \"+ str(len(train_data_loss)))\n",
    "print(\"Top 10 distrubtion have \" + str(loss_percentage)+\"%\" +\" of the total\")"
   ]
  },
  {
   "cell_type": "code",
   "execution_count": 10,
   "id": "95fbdd7e",
   "metadata": {
    "execution": {
     "iopub.execute_input": "2021-08-25T22:11:33.560628Z",
     "iopub.status.busy": "2021-08-25T22:11:33.557032Z",
     "iopub.status.idle": "2021-08-25T22:13:50.863381Z",
     "shell.execute_reply": "2021-08-25T22:13:50.863919Z",
     "shell.execute_reply.started": "2021-08-25T21:06:14.889767Z"
    },
    "papermill": {
     "duration": 137.362775,
     "end_time": "2021-08-25T22:13:50.864115",
     "exception": false,
     "start_time": "2021-08-25T22:11:33.501340",
     "status": "completed"
    },
    "tags": []
   },
   "outputs": [
    {
     "data": {
      "image/png": "[encoded data removed]",
      "text/plain": [
       "<Figure size 1224x864 with 100 Axes>"
      ]
     },
     "metadata": {
      "needs_background": "light"
     },
     "output_type": "display_data"
    }
   ],
   "source": [
    "fig, axes = plt.subplots(10,10,figsize=(17, 12))\n",
    "axes = axes.flatten()\n",
    "\n",
    "for idx, ax in enumerate(axes):\n",
    "    sns.kdeplot(data=train_data, x=f'f{idx}', fill=True, ax=ax)\n",
    "plt.show()"
   ]
  },
  {
   "cell_type": "code",
   "execution_count": 11,
   "id": "fe2e1503",
   "metadata": {
    "execution": {
     "iopub.execute_input": "2021-08-25T22:13:51.027262Z",
     "iopub.status.busy": "2021-08-25T22:13:51.026212Z",
     "iopub.status.idle": "2021-08-25T22:13:51.030045Z",
     "shell.execute_reply": "2021-08-25T22:13:51.029546Z",
     "shell.execute_reply.started": "2021-08-25T22:01:19.524178Z"
    },
    "papermill": {
     "duration": 0.127494,
     "end_time": "2021-08-25T22:13:51.030193",
     "exception": false,
     "start_time": "2021-08-25T22:13:50.902699",
     "status": "completed"
    },
    "tags": []
   },
   "outputs": [],
   "source": [
    "X = train_data.drop(['loss'], axis = 1)\n",
    "y = train_data['loss']"
   ]
  },
  {
   "cell_type": "code",
   "execution_count": 12,
   "id": "6b396f83",
   "metadata": {
    "execution": {
     "iopub.execute_input": "2021-08-25T22:13:51.112558Z",
     "iopub.status.busy": "2021-08-25T22:13:51.111908Z",
     "iopub.status.idle": "2021-08-25T22:13:51.247952Z",
     "shell.execute_reply": "2021-08-25T22:13:51.248465Z",
     "shell.execute_reply.started": "2021-08-25T22:01:20.470791Z"
    },
    "papermill": {
     "duration": 0.180041,
     "end_time": "2021-08-25T22:13:51.248650",
     "exception": false,
     "start_time": "2021-08-25T22:13:51.068609",
     "status": "completed"
    },
    "tags": []
   },
   "outputs": [],
   "source": [
    "from sklearn.preprocessing import StandardScaler"
   ]
  },
  {
   "cell_type": "code",
   "execution_count": 13,
   "id": "26f8e2e8",
   "metadata": {
    "execution": {
     "iopub.execute_input": "2021-08-25T22:13:51.328576Z",
     "iopub.status.busy": "2021-08-25T22:13:51.327974Z",
     "iopub.status.idle": "2021-08-25T22:13:52.478071Z",
     "shell.execute_reply": "2021-08-25T22:13:52.478649Z",
     "shell.execute_reply.started": "2021-08-25T22:01:22.454391Z"
    },
    "papermill": {
     "duration": 1.191777,
     "end_time": "2021-08-25T22:13:52.478833",
     "exception": false,
     "start_time": "2021-08-25T22:13:51.287056",
     "status": "completed"
    },
    "tags": []
   },
   "outputs": [],
   "source": [
    "X_scaled = StandardScaler().fit_transform(X)\n",
    "Test_scaled = StandardScaler().fit_transform(test_data.drop(['id'], axis = 1))"
   ]
  },
  {
   "cell_type": "code",
   "execution_count": 14,
   "id": "e509170c",
   "metadata": {
    "execution": {
     "iopub.execute_input": "2021-08-25T22:13:52.560795Z",
     "iopub.status.busy": "2021-08-25T22:13:52.560067Z",
     "iopub.status.idle": "2021-08-25T22:13:52.859394Z",
     "shell.execute_reply": "2021-08-25T22:13:52.859976Z",
     "shell.execute_reply.started": "2021-08-25T22:01:25.507593Z"
    },
    "papermill": {
     "duration": 0.341919,
     "end_time": "2021-08-25T22:13:52.860165",
     "exception": false,
     "start_time": "2021-08-25T22:13:52.518246",
     "status": "completed"
    },
    "tags": []
   },
   "outputs": [],
   "source": [
    "from sklearn.model_selection import train_test_split\n",
    "\n",
    "X_train, X_test, y_train, y_test = train_test_split(X, y, test_size=0.3, random_state=42)"
   ]
  },
  {
   "cell_type": "code",
   "execution_count": 15,
   "id": "59677521",
   "metadata": {
    "execution": {
     "iopub.execute_input": "2021-08-25T22:13:52.940396Z",
     "iopub.status.busy": "2021-08-25T22:13:52.939747Z",
     "iopub.status.idle": "2021-08-25T22:13:53.128141Z",
     "shell.execute_reply": "2021-08-25T22:13:53.128712Z",
     "shell.execute_reply.started": "2021-08-25T22:01:26.813455Z"
    },
    "papermill": {
     "duration": 0.230152,
     "end_time": "2021-08-25T22:13:53.128925",
     "exception": false,
     "start_time": "2021-08-25T22:13:52.898773",
     "status": "completed"
    },
    "tags": []
   },
   "outputs": [],
   "source": [
    "from catboost import CatBoostRegressor"
   ]
  },
  {
   "cell_type": "code",
   "execution_count": 16,
   "id": "4dc75215",
   "metadata": {
    "execution": {
     "iopub.execute_input": "2021-08-25T22:13:53.214783Z",
     "iopub.status.busy": "2021-08-25T22:13:53.214119Z",
     "iopub.status.idle": "2021-08-25T22:13:53.216218Z",
     "shell.execute_reply": "2021-08-25T22:13:53.216730Z",
     "shell.execute_reply.started": "2021-08-25T22:01:48.595561Z"
    },
    "papermill": {
     "duration": 0.04927,
     "end_time": "2021-08-25T22:13:53.216924",
     "exception": false,
     "start_time": "2021-08-25T22:13:53.167654",
     "status": "completed"
    },
    "tags": []
   },
   "outputs": [],
   "source": [
    "CatBoost = CatBoostRegressor(loss_function='RMSE',\n",
    "                        learning_rate = 0.01,\n",
    "                        depth = 4,\n",
    "                        n_estimators = 300)"
   ]
  },
  {
   "cell_type": "code",
   "execution_count": 17,
   "id": "48df7940",
   "metadata": {
    "execution": {
     "iopub.execute_input": "2021-08-25T22:13:53.298077Z",
     "iopub.status.busy": "2021-08-25T22:13:53.297239Z",
     "iopub.status.idle": "2021-08-25T22:13:53.372079Z",
     "shell.execute_reply": "2021-08-25T22:13:53.371361Z",
     "shell.execute_reply.started": "2021-08-25T22:01:49.304151Z"
    },
    "papermill": {
     "duration": 0.117086,
     "end_time": "2021-08-25T22:13:53.372219",
     "exception": false,
     "start_time": "2021-08-25T22:13:53.255133",
     "status": "completed"
    },
    "tags": []
   },
   "outputs": [],
   "source": [
    "from xgboost import XGBRegressor"
   ]
  },
  {
   "cell_type": "code",
   "execution_count": 18,
   "id": "823c1cd1",
   "metadata": {
    "execution": {
     "iopub.execute_input": "2021-08-25T22:13:53.455922Z",
     "iopub.status.busy": "2021-08-25T22:13:53.455193Z",
     "iopub.status.idle": "2021-08-25T22:13:53.457539Z",
     "shell.execute_reply": "2021-08-25T22:13:53.458001Z",
     "shell.execute_reply.started": "2021-08-25T22:01:50.017261Z"
    },
    "papermill": {
     "duration": 0.04675,
     "end_time": "2021-08-25T22:13:53.458173",
     "exception": false,
     "start_time": "2021-08-25T22:13:53.411423",
     "status": "completed"
    },
    "tags": []
   },
   "outputs": [],
   "source": [
    "XGBRegress = XGBRegressor(max_depth=4, \n",
    "                          learning_rate=0.01, \n",
    "                          n_estimators=500)"
   ]
  },
  {
   "cell_type": "code",
   "execution_count": 19,
   "id": "4be937b5",
   "metadata": {
    "execution": {
     "iopub.execute_input": "2021-08-25T22:13:53.539928Z",
     "iopub.status.busy": "2021-08-25T22:13:53.539242Z",
     "iopub.status.idle": "2021-08-25T22:13:53.743882Z",
     "shell.execute_reply": "2021-08-25T22:13:53.743334Z",
     "shell.execute_reply.started": "2021-08-25T22:01:50.684260Z"
    },
    "papermill": {
     "duration": 0.247179,
     "end_time": "2021-08-25T22:13:53.744029",
     "exception": false,
     "start_time": "2021-08-25T22:13:53.496850",
     "status": "completed"
    },
    "tags": []
   },
   "outputs": [],
   "source": [
    "from sklearn.ensemble import StackingRegressor\n",
    "from sklearn.linear_model import LinearRegression"
   ]
  },
  {
   "cell_type": "code",
   "execution_count": 20,
   "id": "282fc2dc",
   "metadata": {
    "execution": {
     "iopub.execute_input": "2021-08-25T22:13:53.825869Z",
     "iopub.status.busy": "2021-08-25T22:13:53.825198Z",
     "iopub.status.idle": "2021-08-25T22:13:53.827067Z",
     "shell.execute_reply": "2021-08-25T22:13:53.827626Z",
     "shell.execute_reply.started": "2021-08-25T22:01:51.496628Z"
    },
    "papermill": {
     "duration": 0.045538,
     "end_time": "2021-08-25T22:13:53.827787",
     "exception": false,
     "start_time": "2021-08-25T22:13:53.782249",
     "status": "completed"
    },
    "tags": []
   },
   "outputs": [],
   "source": [
    "estimators = [('XGB', CatBoost), \n",
    "              ('LGBM', XGBRegress)] \n",
    "reg = StackingRegressor(estimators = estimators, \n",
    "                            final_estimator = LinearRegression())"
   ]
  },
  {
   "cell_type": "code",
   "execution_count": 21,
   "id": "2dddd0eb",
   "metadata": {
    "execution": {
     "iopub.execute_input": "2021-08-25T22:13:53.906878Z",
     "iopub.status.busy": "2021-08-25T22:13:53.906196Z",
     "iopub.status.idle": "2021-08-25T22:13:53.910148Z",
     "shell.execute_reply": "2021-08-25T22:13:53.909650Z",
     "shell.execute_reply.started": "2021-08-25T22:06:08.712733Z"
    },
    "papermill": {
     "duration": 0.044423,
     "end_time": "2021-08-25T22:13:53.910287",
     "exception": false,
     "start_time": "2021-08-25T22:13:53.865864",
     "status": "completed"
    },
    "tags": []
   },
   "outputs": [],
   "source": [
    "#reg.fit(X_train, y_train) "
   ]
  },
  {
   "cell_type": "markdown",
   "id": "af031522",
   "metadata": {
    "papermill": {
     "duration": 0.038678,
     "end_time": "2021-08-25T22:13:53.987394",
     "exception": false,
     "start_time": "2021-08-25T22:13:53.948716",
     "status": "completed"
    },
    "tags": []
   },
   "source": [
    "I used stackingregressor to use both Catboost and XGBRegressor. Since StackingRegressor takes so long to execute, I decided to execute with Catboost only. "
   ]
  },
  {
   "cell_type": "code",
   "execution_count": 22,
   "id": "39300b23",
   "metadata": {
    "execution": {
     "iopub.execute_input": "2021-08-25T22:13:54.098096Z",
     "iopub.status.busy": "2021-08-25T22:13:54.088712Z",
     "iopub.status.idle": "2021-08-25T22:14:06.771721Z",
     "shell.execute_reply": "2021-08-25T22:14:06.772277Z",
     "shell.execute_reply.started": "2021-08-25T22:06:11.579369Z"
    },
    "papermill": {
     "duration": 12.743077,
     "end_time": "2021-08-25T22:14:06.772477",
     "exception": false,
     "start_time": "2021-08-25T22:13:54.029400",
     "status": "completed"
    },
    "tags": []
   },
   "outputs": [
    {
     "name": "stdout",
     "output_type": "stream",
     "text": [
      "0:\tlearn: 7.9386490\ttest: 7.9428879\tbest: 7.9428879 (0)\ttotal: 97.4ms\tremaining: 29.1s\n",
      "1:\tlearn: 7.9384288\ttest: 7.9426833\tbest: 7.9426833 (1)\ttotal: 137ms\tremaining: 20.5s\n",
      "2:\tlearn: 7.9381584\ttest: 7.9424111\tbest: 7.9424111 (2)\ttotal: 172ms\tremaining: 17s\n",
      "3:\tlearn: 7.9378846\ttest: 7.9421544\tbest: 7.9421544 (3)\ttotal: 213ms\tremaining: 15.8s\n",
      "4:\tlearn: 7.9376022\ttest: 7.9418911\tbest: 7.9418911 (4)\ttotal: 250ms\tremaining: 14.8s\n",
      "5:\tlearn: 7.9373450\ttest: 7.9416509\tbest: 7.9416509 (5)\ttotal: 284ms\tremaining: 13.9s\n",
      "6:\tlearn: 7.9370687\ttest: 7.9413838\tbest: 7.9413838 (6)\ttotal: 316ms\tremaining: 13.2s\n",
      "7:\tlearn: 7.9367705\ttest: 7.9410957\tbest: 7.9410957 (7)\ttotal: 351ms\tremaining: 12.8s\n",
      "8:\tlearn: 7.9365111\ttest: 7.9408524\tbest: 7.9408524 (8)\ttotal: 385ms\tremaining: 12.4s\n",
      "9:\tlearn: 7.9362871\ttest: 7.9406604\tbest: 7.9406604 (9)\ttotal: 423ms\tremaining: 12.3s\n",
      "10:\tlearn: 7.9360296\ttest: 7.9404164\tbest: 7.9404164 (10)\ttotal: 462ms\tremaining: 12.1s\n",
      "11:\tlearn: 7.9357539\ttest: 7.9401551\tbest: 7.9401551 (11)\ttotal: 498ms\tremaining: 12s\n",
      "12:\tlearn: 7.9355400\ttest: 7.9399455\tbest: 7.9399455 (12)\ttotal: 540ms\tremaining: 11.9s\n",
      "13:\tlearn: 7.9352610\ttest: 7.9396789\tbest: 7.9396789 (13)\ttotal: 574ms\tremaining: 11.7s\n",
      "14:\tlearn: 7.9350401\ttest: 7.9394648\tbest: 7.9394648 (14)\ttotal: 605ms\tremaining: 11.5s\n",
      "15:\tlearn: 7.9347959\ttest: 7.9392409\tbest: 7.9392409 (15)\ttotal: 644ms\tremaining: 11.4s\n",
      "16:\tlearn: 7.9345661\ttest: 7.9390245\tbest: 7.9390245 (16)\ttotal: 683ms\tremaining: 11.4s\n",
      "17:\tlearn: 7.9343265\ttest: 7.9387996\tbest: 7.9387996 (17)\ttotal: 717ms\tremaining: 11.2s\n",
      "18:\tlearn: 7.9340941\ttest: 7.9385898\tbest: 7.9385898 (18)\ttotal: 753ms\tremaining: 11.1s\n",
      "19:\tlearn: 7.9338942\ttest: 7.9384118\tbest: 7.9384118 (19)\ttotal: 793ms\tremaining: 11.1s\n",
      "20:\tlearn: 7.9336403\ttest: 7.9381789\tbest: 7.9381789 (20)\ttotal: 829ms\tremaining: 11s\n",
      "21:\tlearn: 7.9334371\ttest: 7.9379774\tbest: 7.9379774 (21)\ttotal: 863ms\tremaining: 10.9s\n",
      "22:\tlearn: 7.9332022\ttest: 7.9377367\tbest: 7.9377367 (22)\ttotal: 898ms\tremaining: 10.8s\n",
      "23:\tlearn: 7.9329647\ttest: 7.9375109\tbest: 7.9375109 (23)\ttotal: 930ms\tremaining: 10.7s\n",
      "24:\tlearn: 7.9327525\ttest: 7.9373251\tbest: 7.9373251 (24)\ttotal: 967ms\tremaining: 10.6s\n",
      "25:\tlearn: 7.9325573\ttest: 7.9371652\tbest: 7.9371652 (25)\ttotal: 1.01s\tremaining: 10.7s\n",
      "26:\tlearn: 7.9323459\ttest: 7.9369575\tbest: 7.9369575 (26)\ttotal: 1.04s\tremaining: 10.5s\n",
      "27:\tlearn: 7.9321892\ttest: 7.9368136\tbest: 7.9368136 (27)\ttotal: 1.08s\tremaining: 10.5s\n",
      "28:\tlearn: 7.9320324\ttest: 7.9366680\tbest: 7.9366680 (28)\ttotal: 1.11s\tremaining: 10.4s\n",
      "29:\tlearn: 7.9318444\ttest: 7.9364996\tbest: 7.9364996 (29)\ttotal: 1.15s\tremaining: 10.3s\n",
      "30:\tlearn: 7.9316347\ttest: 7.9363047\tbest: 7.9363047 (30)\ttotal: 1.18s\tremaining: 10.3s\n",
      "31:\tlearn: 7.9314442\ttest: 7.9361280\tbest: 7.9361280 (31)\ttotal: 1.22s\tremaining: 10.2s\n",
      "32:\tlearn: 7.9312412\ttest: 7.9359462\tbest: 7.9359462 (32)\ttotal: 1.25s\tremaining: 10.2s\n",
      "33:\tlearn: 7.9310429\ttest: 7.9357536\tbest: 7.9357536 (33)\ttotal: 1.29s\tremaining: 10.1s\n",
      "34:\tlearn: 7.9308365\ttest: 7.9355640\tbest: 7.9355640 (34)\ttotal: 1.33s\tremaining: 10s\n",
      "35:\tlearn: 7.9306648\ttest: 7.9354037\tbest: 7.9354037 (35)\ttotal: 1.36s\tremaining: 9.97s\n",
      "36:\tlearn: 7.9305031\ttest: 7.9352671\tbest: 7.9352671 (36)\ttotal: 1.4s\tremaining: 9.93s\n",
      "37:\tlearn: 7.9303576\ttest: 7.9351353\tbest: 7.9351353 (37)\ttotal: 1.43s\tremaining: 9.88s\n",
      "38:\tlearn: 7.9301596\ttest: 7.9349669\tbest: 7.9349669 (38)\ttotal: 1.47s\tremaining: 9.81s\n",
      "39:\tlearn: 7.9299739\ttest: 7.9348058\tbest: 7.9348058 (39)\ttotal: 1.5s\tremaining: 9.78s\n",
      "40:\tlearn: 7.9297842\ttest: 7.9346394\tbest: 7.9346394 (40)\ttotal: 1.54s\tremaining: 9.72s\n",
      "41:\tlearn: 7.9295985\ttest: 7.9344697\tbest: 7.9344697 (41)\ttotal: 1.57s\tremaining: 9.68s\n",
      "42:\tlearn: 7.9294255\ttest: 7.9343200\tbest: 7.9343200 (42)\ttotal: 1.62s\tremaining: 9.67s\n",
      "43:\tlearn: 7.9292733\ttest: 7.9341892\tbest: 7.9341892 (43)\ttotal: 1.65s\tremaining: 9.63s\n",
      "44:\tlearn: 7.9290903\ttest: 7.9340309\tbest: 7.9340309 (44)\ttotal: 1.69s\tremaining: 9.55s\n",
      "45:\tlearn: 7.9289494\ttest: 7.9338889\tbest: 7.9338889 (45)\ttotal: 1.73s\tremaining: 9.53s\n",
      "46:\tlearn: 7.9288014\ttest: 7.9337637\tbest: 7.9337637 (46)\ttotal: 1.76s\tremaining: 9.48s\n",
      "47:\tlearn: 7.9286331\ttest: 7.9335881\tbest: 7.9335881 (47)\ttotal: 1.8s\tremaining: 9.45s\n",
      "48:\tlearn: 7.9284718\ttest: 7.9334491\tbest: 7.9334491 (48)\ttotal: 1.84s\tremaining: 9.41s\n",
      "49:\tlearn: 7.9283256\ttest: 7.9333390\tbest: 7.9333390 (49)\ttotal: 1.88s\tremaining: 9.39s\n",
      "50:\tlearn: 7.9281652\ttest: 7.9332013\tbest: 7.9332013 (50)\ttotal: 1.91s\tremaining: 9.32s\n",
      "51:\tlearn: 7.9279982\ttest: 7.9330485\tbest: 7.9330485 (51)\ttotal: 1.95s\tremaining: 9.28s\n",
      "52:\tlearn: 7.9278545\ttest: 7.9329196\tbest: 7.9329196 (52)\ttotal: 1.98s\tremaining: 9.23s\n",
      "53:\tlearn: 7.9276793\ttest: 7.9327679\tbest: 7.9327679 (53)\ttotal: 2.02s\tremaining: 9.21s\n",
      "54:\tlearn: 7.9275011\ttest: 7.9325932\tbest: 7.9325932 (54)\ttotal: 2.06s\tremaining: 9.17s\n",
      "55:\tlearn: 7.9273401\ttest: 7.9324499\tbest: 7.9324499 (55)\ttotal: 2.1s\tremaining: 9.14s\n",
      "56:\tlearn: 7.9272007\ttest: 7.9323277\tbest: 7.9323277 (56)\ttotal: 2.13s\tremaining: 9.09s\n",
      "57:\tlearn: 7.9270683\ttest: 7.9322048\tbest: 7.9322048 (57)\ttotal: 2.17s\tremaining: 9.04s\n",
      "58:\tlearn: 7.9269191\ttest: 7.9320663\tbest: 7.9320663 (58)\ttotal: 2.2s\tremaining: 9s\n",
      "59:\tlearn: 7.9267792\ttest: 7.9319379\tbest: 7.9319379 (59)\ttotal: 2.24s\tremaining: 8.95s\n",
      "60:\tlearn: 7.9266055\ttest: 7.9317714\tbest: 7.9317714 (60)\ttotal: 2.27s\tremaining: 8.89s\n",
      "61:\tlearn: 7.9264319\ttest: 7.9316209\tbest: 7.9316209 (61)\ttotal: 2.31s\tremaining: 8.87s\n",
      "62:\tlearn: 7.9263080\ttest: 7.9315193\tbest: 7.9315193 (62)\ttotal: 2.35s\tremaining: 8.83s\n",
      "63:\tlearn: 7.9261547\ttest: 7.9314089\tbest: 7.9314089 (63)\ttotal: 2.38s\tremaining: 8.78s\n",
      "64:\tlearn: 7.9260417\ttest: 7.9313078\tbest: 7.9313078 (64)\ttotal: 2.41s\tremaining: 8.72s\n",
      "65:\tlearn: 7.9259082\ttest: 7.9311908\tbest: 7.9311908 (65)\ttotal: 2.45s\tremaining: 8.68s\n",
      "66:\tlearn: 7.9257756\ttest: 7.9310670\tbest: 7.9310670 (66)\ttotal: 2.5s\tremaining: 8.68s\n",
      "67:\tlearn: 7.9256244\ttest: 7.9309215\tbest: 7.9309215 (67)\ttotal: 2.54s\tremaining: 8.66s\n",
      "68:\tlearn: 7.9255195\ttest: 7.9308234\tbest: 7.9308234 (68)\ttotal: 2.58s\tremaining: 8.63s\n",
      "69:\tlearn: 7.9253731\ttest: 7.9306960\tbest: 7.9306960 (69)\ttotal: 2.62s\tremaining: 8.6s\n",
      "70:\tlearn: 7.9252534\ttest: 7.9305840\tbest: 7.9305840 (70)\ttotal: 2.65s\tremaining: 8.56s\n",
      "71:\tlearn: 7.9251225\ttest: 7.9304687\tbest: 7.9304687 (71)\ttotal: 2.69s\tremaining: 8.53s\n",
      "72:\tlearn: 7.9249680\ttest: 7.9303248\tbest: 7.9303248 (72)\ttotal: 2.74s\tremaining: 8.51s\n",
      "73:\tlearn: 7.9248524\ttest: 7.9302290\tbest: 7.9302290 (73)\ttotal: 2.77s\tremaining: 8.47s\n",
      "74:\tlearn: 7.9247121\ttest: 7.9301128\tbest: 7.9301128 (74)\ttotal: 2.81s\tremaining: 8.43s\n",
      "75:\tlearn: 7.9245890\ttest: 7.9300187\tbest: 7.9300187 (75)\ttotal: 2.85s\tremaining: 8.39s\n",
      "76:\tlearn: 7.9244589\ttest: 7.9298944\tbest: 7.9298944 (76)\ttotal: 2.88s\tremaining: 8.35s\n",
      "77:\tlearn: 7.9243142\ttest: 7.9297757\tbest: 7.9297757 (77)\ttotal: 2.92s\tremaining: 8.3s\n",
      "78:\tlearn: 7.9242088\ttest: 7.9296877\tbest: 7.9296877 (78)\ttotal: 2.95s\tremaining: 8.26s\n",
      "79:\tlearn: 7.9240793\ttest: 7.9295969\tbest: 7.9295969 (79)\ttotal: 2.99s\tremaining: 8.22s\n",
      "80:\tlearn: 7.9239686\ttest: 7.9294923\tbest: 7.9294923 (80)\ttotal: 3.03s\tremaining: 8.19s\n",
      "81:\tlearn: 7.9238412\ttest: 7.9293814\tbest: 7.9293814 (81)\ttotal: 3.07s\tremaining: 8.15s\n",
      "82:\tlearn: 7.9237086\ttest: 7.9292668\tbest: 7.9292668 (82)\ttotal: 3.11s\tremaining: 8.12s\n",
      "83:\tlearn: 7.9235962\ttest: 7.9291624\tbest: 7.9291624 (83)\ttotal: 3.14s\tremaining: 8.09s\n",
      "84:\tlearn: 7.9234903\ttest: 7.9290733\tbest: 7.9290733 (84)\ttotal: 3.18s\tremaining: 8.05s\n",
      "85:\tlearn: 7.9233555\ttest: 7.9289420\tbest: 7.9289420 (85)\ttotal: 3.21s\tremaining: 8s\n",
      "86:\tlearn: 7.9232416\ttest: 7.9288267\tbest: 7.9288267 (86)\ttotal: 3.25s\tremaining: 7.96s\n",
      "87:\tlearn: 7.9231322\ttest: 7.9287300\tbest: 7.9287300 (87)\ttotal: 3.29s\tremaining: 7.92s\n",
      "88:\tlearn: 7.9230196\ttest: 7.9286434\tbest: 7.9286434 (88)\ttotal: 3.33s\tremaining: 7.88s\n",
      "89:\tlearn: 7.9229023\ttest: 7.9285342\tbest: 7.9285342 (89)\ttotal: 3.35s\tremaining: 7.83s\n",
      "90:\tlearn: 7.9227880\ttest: 7.9284308\tbest: 7.9284308 (90)\ttotal: 3.39s\tremaining: 7.79s\n",
      "91:\tlearn: 7.9226749\ttest: 7.9283528\tbest: 7.9283528 (91)\ttotal: 3.43s\tremaining: 7.76s\n",
      "92:\tlearn: 7.9225460\ttest: 7.9282380\tbest: 7.9282380 (92)\ttotal: 3.48s\tremaining: 7.74s\n",
      "93:\tlearn: 7.9224234\ttest: 7.9281291\tbest: 7.9281291 (93)\ttotal: 3.51s\tremaining: 7.7s\n",
      "94:\tlearn: 7.9223171\ttest: 7.9280375\tbest: 7.9280375 (94)\ttotal: 3.55s\tremaining: 7.66s\n",
      "95:\tlearn: 7.9222095\ttest: 7.9279312\tbest: 7.9279312 (95)\ttotal: 3.58s\tremaining: 7.61s\n",
      "96:\tlearn: 7.9220806\ttest: 7.9278207\tbest: 7.9278207 (96)\ttotal: 3.62s\tremaining: 7.58s\n",
      "97:\tlearn: 7.9219584\ttest: 7.9277087\tbest: 7.9277087 (97)\ttotal: 3.66s\tremaining: 7.55s\n",
      "98:\tlearn: 7.9218510\ttest: 7.9276238\tbest: 7.9276238 (98)\ttotal: 3.7s\tremaining: 7.5s\n",
      "99:\tlearn: 7.9217345\ttest: 7.9275146\tbest: 7.9275146 (99)\ttotal: 3.73s\tremaining: 7.46s\n",
      "100:\tlearn: 7.9216135\ttest: 7.9274256\tbest: 7.9274256 (100)\ttotal: 3.77s\tremaining: 7.43s\n",
      "101:\tlearn: 7.9215185\ttest: 7.9273519\tbest: 7.9273519 (101)\ttotal: 3.81s\tremaining: 7.4s\n",
      "102:\tlearn: 7.9214023\ttest: 7.9272420\tbest: 7.9272420 (102)\ttotal: 3.85s\tremaining: 7.37s\n",
      "103:\tlearn: 7.9213042\ttest: 7.9271424\tbest: 7.9271424 (103)\ttotal: 3.89s\tremaining: 7.32s\n",
      "104:\tlearn: 7.9211788\ttest: 7.9270332\tbest: 7.9270332 (104)\ttotal: 3.93s\tremaining: 7.29s\n",
      "105:\tlearn: 7.9210761\ttest: 7.9269275\tbest: 7.9269275 (105)\ttotal: 3.97s\tremaining: 7.26s\n",
      "106:\tlearn: 7.9209594\ttest: 7.9268184\tbest: 7.9268184 (106)\ttotal: 4s\tremaining: 7.22s\n",
      "107:\tlearn: 7.9208477\ttest: 7.9267393\tbest: 7.9267393 (107)\ttotal: 4.04s\tremaining: 7.19s\n",
      "108:\tlearn: 7.9207427\ttest: 7.9266531\tbest: 7.9266531 (108)\ttotal: 4.08s\tremaining: 7.15s\n",
      "109:\tlearn: 7.9206380\ttest: 7.9265646\tbest: 7.9265646 (109)\ttotal: 4.12s\tremaining: 7.12s\n",
      "110:\tlearn: 7.9205293\ttest: 7.9264660\tbest: 7.9264660 (110)\ttotal: 4.16s\tremaining: 7.08s\n",
      "111:\tlearn: 7.9204405\ttest: 7.9263889\tbest: 7.9263889 (111)\ttotal: 4.19s\tremaining: 7.04s\n",
      "112:\tlearn: 7.9203468\ttest: 7.9263153\tbest: 7.9263153 (112)\ttotal: 4.23s\tremaining: 7s\n",
      "113:\tlearn: 7.9202431\ttest: 7.9262236\tbest: 7.9262236 (113)\ttotal: 4.27s\tremaining: 6.97s\n",
      "114:\tlearn: 7.9201185\ttest: 7.9261250\tbest: 7.9261250 (114)\ttotal: 4.31s\tremaining: 6.94s\n",
      "115:\tlearn: 7.9199961\ttest: 7.9260376\tbest: 7.9260376 (115)\ttotal: 4.35s\tremaining: 6.9s\n",
      "116:\tlearn: 7.9199129\ttest: 7.9259610\tbest: 7.9259610 (116)\ttotal: 4.38s\tremaining: 6.86s\n",
      "117:\tlearn: 7.9198269\ttest: 7.9258984\tbest: 7.9258984 (117)\ttotal: 4.42s\tremaining: 6.82s\n",
      "118:\tlearn: 7.9197086\ttest: 7.9257970\tbest: 7.9257970 (118)\ttotal: 4.46s\tremaining: 6.79s\n",
      "119:\tlearn: 7.9196142\ttest: 7.9257093\tbest: 7.9257093 (119)\ttotal: 4.5s\tremaining: 6.75s\n",
      "120:\tlearn: 7.9195162\ttest: 7.9256395\tbest: 7.9256395 (120)\ttotal: 4.54s\tremaining: 6.72s\n",
      "121:\tlearn: 7.9194085\ttest: 7.9255540\tbest: 7.9255540 (121)\ttotal: 4.58s\tremaining: 6.68s\n",
      "122:\tlearn: 7.9192931\ttest: 7.9254618\tbest: 7.9254618 (122)\ttotal: 4.61s\tremaining: 6.64s\n",
      "123:\tlearn: 7.9191950\ttest: 7.9253866\tbest: 7.9253866 (123)\ttotal: 4.65s\tremaining: 6.6s\n",
      "124:\tlearn: 7.9191044\ttest: 7.9253062\tbest: 7.9253062 (124)\ttotal: 4.68s\tremaining: 6.56s\n",
      "125:\tlearn: 7.9190133\ttest: 7.9252246\tbest: 7.9252246 (125)\ttotal: 4.72s\tremaining: 6.52s\n",
      "126:\tlearn: 7.9188832\ttest: 7.9251311\tbest: 7.9251311 (126)\ttotal: 4.76s\tremaining: 6.48s\n",
      "127:\tlearn: 7.9187727\ttest: 7.9250422\tbest: 7.9250422 (127)\ttotal: 4.79s\tremaining: 6.44s\n",
      "128:\tlearn: 7.9186840\ttest: 7.9249789\tbest: 7.9249789 (128)\ttotal: 4.83s\tremaining: 6.4s\n",
      "129:\tlearn: 7.9185949\ttest: 7.9249120\tbest: 7.9249120 (129)\ttotal: 4.87s\tremaining: 6.36s\n",
      "130:\tlearn: 7.9184869\ttest: 7.9248326\tbest: 7.9248326 (130)\ttotal: 4.9s\tremaining: 6.33s\n",
      "131:\tlearn: 7.9183984\ttest: 7.9247457\tbest: 7.9247457 (131)\ttotal: 4.95s\tremaining: 6.29s\n",
      "132:\tlearn: 7.9182848\ttest: 7.9246493\tbest: 7.9246493 (132)\ttotal: 4.99s\tremaining: 6.26s\n",
      "133:\tlearn: 7.9181751\ttest: 7.9245600\tbest: 7.9245600 (133)\ttotal: 5.01s\tremaining: 6.21s\n",
      "134:\tlearn: 7.9180789\ttest: 7.9244745\tbest: 7.9244745 (134)\ttotal: 5.06s\tremaining: 6.18s\n",
      "135:\tlearn: 7.9179624\ttest: 7.9243584\tbest: 7.9243584 (135)\ttotal: 5.1s\tremaining: 6.15s\n",
      "136:\tlearn: 7.9178575\ttest: 7.9242610\tbest: 7.9242610 (136)\ttotal: 5.13s\tremaining: 6.11s\n",
      "137:\tlearn: 7.9177700\ttest: 7.9241966\tbest: 7.9241966 (137)\ttotal: 5.17s\tremaining: 6.07s\n",
      "138:\tlearn: 7.9176760\ttest: 7.9241064\tbest: 7.9241064 (138)\ttotal: 5.21s\tremaining: 6.03s\n",
      "139:\tlearn: 7.9175829\ttest: 7.9240261\tbest: 7.9240261 (139)\ttotal: 5.25s\tremaining: 6s\n",
      "140:\tlearn: 7.9174775\ttest: 7.9239514\tbest: 7.9239514 (140)\ttotal: 5.28s\tremaining: 5.95s\n",
      "141:\tlearn: 7.9173691\ttest: 7.9238361\tbest: 7.9238361 (141)\ttotal: 5.32s\tremaining: 5.91s\n",
      "142:\tlearn: 7.9172630\ttest: 7.9237547\tbest: 7.9237547 (142)\ttotal: 5.36s\tremaining: 5.88s\n",
      "143:\tlearn: 7.9171717\ttest: 7.9236919\tbest: 7.9236919 (143)\ttotal: 5.39s\tremaining: 5.84s\n",
      "144:\tlearn: 7.9170616\ttest: 7.9235897\tbest: 7.9235897 (144)\ttotal: 5.43s\tremaining: 5.8s\n",
      "145:\tlearn: 7.9169666\ttest: 7.9235088\tbest: 7.9235088 (145)\ttotal: 5.46s\tremaining: 5.76s\n",
      "146:\tlearn: 7.9168791\ttest: 7.9234313\tbest: 7.9234313 (146)\ttotal: 5.5s\tremaining: 5.73s\n",
      "147:\tlearn: 7.9167714\ttest: 7.9233282\tbest: 7.9233282 (147)\ttotal: 5.54s\tremaining: 5.69s\n",
      "148:\tlearn: 7.9166935\ttest: 7.9232637\tbest: 7.9232637 (148)\ttotal: 5.58s\tremaining: 5.65s\n",
      "149:\tlearn: 7.9165761\ttest: 7.9231557\tbest: 7.9231557 (149)\ttotal: 5.62s\tremaining: 5.62s\n",
      "150:\tlearn: 7.9164856\ttest: 7.9230610\tbest: 7.9230610 (150)\ttotal: 5.65s\tremaining: 5.58s\n",
      "151:\tlearn: 7.9163874\ttest: 7.9229778\tbest: 7.9229778 (151)\ttotal: 5.69s\tremaining: 5.54s\n",
      "152:\tlearn: 7.9162895\ttest: 7.9228964\tbest: 7.9228964 (152)\ttotal: 5.72s\tremaining: 5.5s\n",
      "153:\tlearn: 7.9161966\ttest: 7.9228310\tbest: 7.9228310 (153)\ttotal: 5.76s\tremaining: 5.46s\n",
      "154:\tlearn: 7.9161001\ttest: 7.9227508\tbest: 7.9227508 (154)\ttotal: 5.79s\tremaining: 5.42s\n",
      "155:\tlearn: 7.9160023\ttest: 7.9226618\tbest: 7.9226618 (155)\ttotal: 5.83s\tremaining: 5.38s\n",
      "156:\tlearn: 7.9159077\ttest: 7.9226089\tbest: 7.9226089 (156)\ttotal: 5.88s\tremaining: 5.35s\n",
      "157:\tlearn: 7.9158065\ttest: 7.9225133\tbest: 7.9225133 (157)\ttotal: 5.91s\tremaining: 5.31s\n",
      "158:\tlearn: 7.9157149\ttest: 7.9224509\tbest: 7.9224509 (158)\ttotal: 5.95s\tremaining: 5.28s\n",
      "159:\tlearn: 7.9156169\ttest: 7.9223658\tbest: 7.9223658 (159)\ttotal: 5.99s\tremaining: 5.24s\n",
      "160:\tlearn: 7.9155117\ttest: 7.9222859\tbest: 7.9222859 (160)\ttotal: 6.04s\tremaining: 5.21s\n",
      "161:\tlearn: 7.9154256\ttest: 7.9222159\tbest: 7.9222159 (161)\ttotal: 6.08s\tremaining: 5.17s\n",
      "162:\tlearn: 7.9153285\ttest: 7.9221415\tbest: 7.9221415 (162)\ttotal: 6.11s\tremaining: 5.14s\n",
      "163:\tlearn: 7.9152307\ttest: 7.9220544\tbest: 7.9220544 (163)\ttotal: 6.15s\tremaining: 5.1s\n",
      "164:\tlearn: 7.9151311\ttest: 7.9219790\tbest: 7.9219790 (164)\ttotal: 6.18s\tremaining: 5.06s\n",
      "165:\tlearn: 7.9150569\ttest: 7.9219166\tbest: 7.9219166 (165)\ttotal: 6.21s\tremaining: 5.01s\n",
      "166:\tlearn: 7.9149682\ttest: 7.9218524\tbest: 7.9218524 (166)\ttotal: 6.25s\tremaining: 4.97s\n",
      "167:\tlearn: 7.9148698\ttest: 7.9217607\tbest: 7.9217607 (167)\ttotal: 6.28s\tremaining: 4.94s\n",
      "168:\tlearn: 7.9147813\ttest: 7.9216900\tbest: 7.9216900 (168)\ttotal: 6.32s\tremaining: 4.9s\n",
      "169:\tlearn: 7.9146851\ttest: 7.9215860\tbest: 7.9215860 (169)\ttotal: 6.35s\tremaining: 4.86s\n",
      "170:\tlearn: 7.9145977\ttest: 7.9215063\tbest: 7.9215063 (170)\ttotal: 6.38s\tremaining: 4.82s\n",
      "171:\tlearn: 7.9145155\ttest: 7.9214394\tbest: 7.9214394 (171)\ttotal: 6.42s\tremaining: 4.78s\n",
      "172:\tlearn: 7.9144198\ttest: 7.9213504\tbest: 7.9213504 (172)\ttotal: 6.46s\tremaining: 4.74s\n",
      "173:\tlearn: 7.9143350\ttest: 7.9212781\tbest: 7.9212781 (173)\ttotal: 6.49s\tremaining: 4.7s\n",
      "174:\tlearn: 7.9142344\ttest: 7.9211990\tbest: 7.9211990 (174)\ttotal: 6.52s\tremaining: 4.66s\n",
      "175:\tlearn: 7.9141281\ttest: 7.9210999\tbest: 7.9210999 (175)\ttotal: 6.55s\tremaining: 4.62s\n",
      "176:\tlearn: 7.9140489\ttest: 7.9210446\tbest: 7.9210446 (176)\ttotal: 6.6s\tremaining: 4.58s\n",
      "177:\tlearn: 7.9139522\ttest: 7.9209751\tbest: 7.9209751 (177)\ttotal: 6.63s\tremaining: 4.54s\n",
      "178:\tlearn: 7.9138643\ttest: 7.9208888\tbest: 7.9208888 (178)\ttotal: 6.67s\tremaining: 4.51s\n",
      "179:\tlearn: 7.9137847\ttest: 7.9208342\tbest: 7.9208342 (179)\ttotal: 6.72s\tremaining: 4.48s\n",
      "180:\tlearn: 7.9136883\ttest: 7.9207404\tbest: 7.9207404 (180)\ttotal: 6.75s\tremaining: 4.44s\n",
      "181:\tlearn: 7.9135858\ttest: 7.9206629\tbest: 7.9206629 (181)\ttotal: 6.78s\tremaining: 4.4s\n",
      "182:\tlearn: 7.9134979\ttest: 7.9205929\tbest: 7.9205929 (182)\ttotal: 6.81s\tremaining: 4.36s\n",
      "183:\tlearn: 7.9134014\ttest: 7.9205007\tbest: 7.9205007 (183)\ttotal: 6.85s\tremaining: 4.32s\n",
      "184:\tlearn: 7.9133063\ttest: 7.9204267\tbest: 7.9204267 (184)\ttotal: 6.89s\tremaining: 4.29s\n",
      "185:\tlearn: 7.9132167\ttest: 7.9203637\tbest: 7.9203637 (185)\ttotal: 6.93s\tremaining: 4.25s\n",
      "186:\tlearn: 7.9131249\ttest: 7.9202772\tbest: 7.9202772 (186)\ttotal: 6.97s\tremaining: 4.21s\n",
      "187:\tlearn: 7.9130323\ttest: 7.9201854\tbest: 7.9201854 (187)\ttotal: 7.01s\tremaining: 4.18s\n",
      "188:\tlearn: 7.9129622\ttest: 7.9201440\tbest: 7.9201440 (188)\ttotal: 7.05s\tremaining: 4.14s\n",
      "189:\tlearn: 7.9128828\ttest: 7.9200841\tbest: 7.9200841 (189)\ttotal: 7.09s\tremaining: 4.11s\n",
      "190:\tlearn: 7.9127984\ttest: 7.9200136\tbest: 7.9200136 (190)\ttotal: 7.12s\tremaining: 4.07s\n",
      "191:\tlearn: 7.9127119\ttest: 7.9199507\tbest: 7.9199507 (191)\ttotal: 7.17s\tremaining: 4.03s\n",
      "192:\tlearn: 7.9126388\ttest: 7.9198710\tbest: 7.9198710 (192)\ttotal: 7.21s\tremaining: 4s\n",
      "193:\tlearn: 7.9125560\ttest: 7.9197905\tbest: 7.9197905 (193)\ttotal: 7.25s\tremaining: 3.96s\n",
      "194:\tlearn: 7.9124733\ttest: 7.9196986\tbest: 7.9196986 (194)\ttotal: 7.29s\tremaining: 3.92s\n",
      "195:\tlearn: 7.9123834\ttest: 7.9196232\tbest: 7.9196232 (195)\ttotal: 7.33s\tremaining: 3.89s\n",
      "196:\tlearn: 7.9122962\ttest: 7.9195647\tbest: 7.9195647 (196)\ttotal: 7.36s\tremaining: 3.85s\n",
      "197:\tlearn: 7.9122116\ttest: 7.9194971\tbest: 7.9194971 (197)\ttotal: 7.4s\tremaining: 3.81s\n",
      "198:\tlearn: 7.9121464\ttest: 7.9194517\tbest: 7.9194517 (198)\ttotal: 7.44s\tremaining: 3.77s\n",
      "199:\tlearn: 7.9120581\ttest: 7.9193799\tbest: 7.9193799 (199)\ttotal: 7.47s\tremaining: 3.74s\n",
      "200:\tlearn: 7.9119672\ttest: 7.9193128\tbest: 7.9193128 (200)\ttotal: 7.51s\tremaining: 3.7s\n",
      "201:\tlearn: 7.9118716\ttest: 7.9192302\tbest: 7.9192302 (201)\ttotal: 7.55s\tremaining: 3.66s\n",
      "202:\tlearn: 7.9118156\ttest: 7.9191831\tbest: 7.9191831 (202)\ttotal: 7.59s\tremaining: 3.63s\n",
      "203:\tlearn: 7.9117387\ttest: 7.9191254\tbest: 7.9191254 (203)\ttotal: 7.63s\tremaining: 3.59s\n",
      "204:\tlearn: 7.9116554\ttest: 7.9190646\tbest: 7.9190646 (204)\ttotal: 7.66s\tremaining: 3.55s\n",
      "205:\tlearn: 7.9115504\ttest: 7.9189997\tbest: 7.9189997 (205)\ttotal: 7.69s\tremaining: 3.51s\n",
      "206:\tlearn: 7.9114598\ttest: 7.9189227\tbest: 7.9189227 (206)\ttotal: 7.72s\tremaining: 3.47s\n",
      "207:\tlearn: 7.9113758\ttest: 7.9188611\tbest: 7.9188611 (207)\ttotal: 7.76s\tremaining: 3.43s\n",
      "208:\tlearn: 7.9112945\ttest: 7.9187956\tbest: 7.9187956 (208)\ttotal: 7.8s\tremaining: 3.4s\n",
      "209:\tlearn: 7.9112240\ttest: 7.9187372\tbest: 7.9187372 (209)\ttotal: 7.84s\tremaining: 3.36s\n",
      "210:\tlearn: 7.9111269\ttest: 7.9186445\tbest: 7.9186445 (210)\ttotal: 7.87s\tremaining: 3.32s\n",
      "211:\tlearn: 7.9110384\ttest: 7.9185720\tbest: 7.9185720 (211)\ttotal: 7.9s\tremaining: 3.28s\n",
      "212:\tlearn: 7.9109666\ttest: 7.9185310\tbest: 7.9185310 (212)\ttotal: 7.93s\tremaining: 3.24s\n",
      "213:\tlearn: 7.9108894\ttest: 7.9184733\tbest: 7.9184733 (213)\ttotal: 7.97s\tremaining: 3.2s\n",
      "214:\tlearn: 7.9108206\ttest: 7.9184136\tbest: 7.9184136 (214)\ttotal: 8.02s\tremaining: 3.17s\n",
      "215:\tlearn: 7.9107450\ttest: 7.9183596\tbest: 7.9183596 (215)\ttotal: 8.06s\tremaining: 3.14s\n",
      "216:\tlearn: 7.9106663\ttest: 7.9182929\tbest: 7.9182929 (216)\ttotal: 8.11s\tremaining: 3.1s\n",
      "217:\tlearn: 7.9105943\ttest: 7.9182468\tbest: 7.9182468 (217)\ttotal: 8.14s\tremaining: 3.06s\n",
      "218:\tlearn: 7.9105215\ttest: 7.9181911\tbest: 7.9181911 (218)\ttotal: 8.17s\tremaining: 3.02s\n",
      "219:\tlearn: 7.9104372\ttest: 7.9181289\tbest: 7.9181289 (219)\ttotal: 8.21s\tremaining: 2.98s\n",
      "220:\tlearn: 7.9103528\ttest: 7.9180667\tbest: 7.9180667 (220)\ttotal: 8.25s\tremaining: 2.95s\n",
      "221:\tlearn: 7.9102881\ttest: 7.9180069\tbest: 7.9180069 (221)\ttotal: 8.29s\tremaining: 2.91s\n",
      "222:\tlearn: 7.9101987\ttest: 7.9179271\tbest: 7.9179271 (222)\ttotal: 8.32s\tremaining: 2.87s\n",
      "223:\tlearn: 7.9101166\ttest: 7.9178580\tbest: 7.9178580 (223)\ttotal: 8.37s\tremaining: 2.84s\n",
      "224:\tlearn: 7.9100321\ttest: 7.9177852\tbest: 7.9177852 (224)\ttotal: 8.4s\tremaining: 2.8s\n",
      "225:\tlearn: 7.9099459\ttest: 7.9177103\tbest: 7.9177103 (225)\ttotal: 8.43s\tremaining: 2.76s\n",
      "226:\tlearn: 7.9098647\ttest: 7.9176393\tbest: 7.9176393 (226)\ttotal: 8.47s\tremaining: 2.72s\n",
      "227:\tlearn: 7.9097921\ttest: 7.9175749\tbest: 7.9175749 (227)\ttotal: 8.51s\tremaining: 2.69s\n",
      "228:\tlearn: 7.9097154\ttest: 7.9174968\tbest: 7.9174968 (228)\ttotal: 8.54s\tremaining: 2.65s\n",
      "229:\tlearn: 7.9096355\ttest: 7.9174439\tbest: 7.9174439 (229)\ttotal: 8.58s\tremaining: 2.61s\n",
      "230:\tlearn: 7.9095649\ttest: 7.9173902\tbest: 7.9173902 (230)\ttotal: 8.62s\tremaining: 2.57s\n",
      "231:\tlearn: 7.9094933\ttest: 7.9173307\tbest: 7.9173307 (231)\ttotal: 8.66s\tremaining: 2.54s\n",
      "232:\tlearn: 7.9094142\ttest: 7.9172539\tbest: 7.9172539 (232)\ttotal: 8.7s\tremaining: 2.5s\n",
      "233:\tlearn: 7.9093470\ttest: 7.9171980\tbest: 7.9171980 (233)\ttotal: 8.75s\tremaining: 2.47s\n",
      "234:\tlearn: 7.9092656\ttest: 7.9171239\tbest: 7.9171239 (234)\ttotal: 8.78s\tremaining: 2.43s\n",
      "235:\tlearn: 7.9091770\ttest: 7.9170632\tbest: 7.9170632 (235)\ttotal: 8.81s\tremaining: 2.39s\n",
      "236:\tlearn: 7.9090925\ttest: 7.9169970\tbest: 7.9169970 (236)\ttotal: 8.85s\tremaining: 2.35s\n",
      "237:\tlearn: 7.9090297\ttest: 7.9169544\tbest: 7.9169544 (237)\ttotal: 8.88s\tremaining: 2.31s\n",
      "238:\tlearn: 7.9089496\ttest: 7.9168902\tbest: 7.9168902 (238)\ttotal: 8.92s\tremaining: 2.28s\n",
      "239:\tlearn: 7.9088717\ttest: 7.9168291\tbest: 7.9168291 (239)\ttotal: 8.96s\tremaining: 2.24s\n",
      "240:\tlearn: 7.9087937\ttest: 7.9167735\tbest: 7.9167735 (240)\ttotal: 9.01s\tremaining: 2.2s\n",
      "241:\tlearn: 7.9087341\ttest: 7.9167300\tbest: 7.9167300 (241)\ttotal: 9.05s\tremaining: 2.17s\n",
      "242:\tlearn: 7.9086505\ttest: 7.9166407\tbest: 7.9166407 (242)\ttotal: 9.08s\tremaining: 2.13s\n",
      "243:\tlearn: 7.9085664\ttest: 7.9165766\tbest: 7.9165766 (243)\ttotal: 9.12s\tremaining: 2.09s\n",
      "244:\tlearn: 7.9084837\ttest: 7.9165035\tbest: 7.9165035 (244)\ttotal: 9.15s\tremaining: 2.05s\n",
      "245:\tlearn: 7.9084260\ttest: 7.9164679\tbest: 7.9164679 (245)\ttotal: 9.19s\tremaining: 2.02s\n",
      "246:\tlearn: 7.9083400\ttest: 7.9164027\tbest: 7.9164027 (246)\ttotal: 9.24s\tremaining: 1.98s\n",
      "247:\tlearn: 7.9082647\ttest: 7.9163269\tbest: 7.9163269 (247)\ttotal: 9.28s\tremaining: 1.95s\n",
      "248:\tlearn: 7.9082004\ttest: 7.9162576\tbest: 7.9162576 (248)\ttotal: 9.32s\tremaining: 1.91s\n",
      "249:\tlearn: 7.9081202\ttest: 7.9161980\tbest: 7.9161980 (249)\ttotal: 9.36s\tremaining: 1.87s\n",
      "250:\tlearn: 7.9080425\ttest: 7.9161500\tbest: 7.9161500 (250)\ttotal: 9.4s\tremaining: 1.83s\n",
      "251:\tlearn: 7.9079545\ttest: 7.9160740\tbest: 7.9160740 (251)\ttotal: 9.44s\tremaining: 1.8s\n",
      "252:\tlearn: 7.9078766\ttest: 7.9160073\tbest: 7.9160073 (252)\ttotal: 9.48s\tremaining: 1.76s\n",
      "253:\tlearn: 7.9078033\ttest: 7.9159536\tbest: 7.9159536 (253)\ttotal: 9.52s\tremaining: 1.72s\n",
      "254:\tlearn: 7.9077272\ttest: 7.9159000\tbest: 7.9159000 (254)\ttotal: 9.56s\tremaining: 1.69s\n",
      "255:\tlearn: 7.9076616\ttest: 7.9158407\tbest: 7.9158407 (255)\ttotal: 9.59s\tremaining: 1.65s\n",
      "256:\tlearn: 7.9075821\ttest: 7.9157826\tbest: 7.9157826 (256)\ttotal: 9.63s\tremaining: 1.61s\n",
      "257:\tlearn: 7.9075163\ttest: 7.9157249\tbest: 7.9157249 (257)\ttotal: 9.66s\tremaining: 1.57s\n",
      "258:\tlearn: 7.9074383\ttest: 7.9156604\tbest: 7.9156604 (258)\ttotal: 9.7s\tremaining: 1.53s\n",
      "259:\tlearn: 7.9073540\ttest: 7.9155861\tbest: 7.9155861 (259)\ttotal: 9.73s\tremaining: 1.5s\n",
      "260:\tlearn: 7.9072767\ttest: 7.9155123\tbest: 7.9155123 (260)\ttotal: 9.76s\tremaining: 1.46s\n",
      "261:\tlearn: 7.9072051\ttest: 7.9154409\tbest: 7.9154409 (261)\ttotal: 9.8s\tremaining: 1.42s\n",
      "262:\tlearn: 7.9071320\ttest: 7.9153904\tbest: 7.9153904 (262)\ttotal: 9.84s\tremaining: 1.39s\n",
      "263:\tlearn: 7.9070682\ttest: 7.9153239\tbest: 7.9153239 (263)\ttotal: 9.88s\tremaining: 1.35s\n",
      "264:\tlearn: 7.9069896\ttest: 7.9152518\tbest: 7.9152518 (264)\ttotal: 9.91s\tremaining: 1.31s\n",
      "265:\tlearn: 7.9069213\ttest: 7.9151975\tbest: 7.9151975 (265)\ttotal: 9.95s\tremaining: 1.27s\n",
      "266:\tlearn: 7.9068601\ttest: 7.9151527\tbest: 7.9151527 (266)\ttotal: 9.98s\tremaining: 1.23s\n",
      "267:\tlearn: 7.9067719\ttest: 7.9150865\tbest: 7.9150865 (267)\ttotal: 10.1s\tremaining: 1.2s\n",
      "268:\tlearn: 7.9067084\ttest: 7.9150428\tbest: 7.9150428 (268)\ttotal: 10.1s\tremaining: 1.17s\n",
      "269:\tlearn: 7.9066446\ttest: 7.9150022\tbest: 7.9150022 (269)\ttotal: 10.2s\tremaining: 1.13s\n",
      "270:\tlearn: 7.9065654\ttest: 7.9149372\tbest: 7.9149372 (270)\ttotal: 10.2s\tremaining: 1.09s\n",
      "271:\tlearn: 7.9064886\ttest: 7.9148685\tbest: 7.9148685 (271)\ttotal: 10.2s\tremaining: 1.05s\n",
      "272:\tlearn: 7.9064207\ttest: 7.9148131\tbest: 7.9148131 (272)\ttotal: 10.3s\tremaining: 1.01s\n",
      "273:\tlearn: 7.9063443\ttest: 7.9147467\tbest: 7.9147467 (273)\ttotal: 10.3s\tremaining: 978ms\n",
      "274:\tlearn: 7.9062704\ttest: 7.9146965\tbest: 7.9146965 (274)\ttotal: 10.3s\tremaining: 940ms\n",
      "275:\tlearn: 7.9062014\ttest: 7.9146402\tbest: 7.9146402 (275)\ttotal: 10.4s\tremaining: 902ms\n",
      "276:\tlearn: 7.9061331\ttest: 7.9145879\tbest: 7.9145879 (276)\ttotal: 10.4s\tremaining: 865ms\n",
      "277:\tlearn: 7.9060652\ttest: 7.9145254\tbest: 7.9145254 (277)\ttotal: 10.4s\tremaining: 827ms\n",
      "278:\tlearn: 7.9059925\ttest: 7.9144736\tbest: 7.9144736 (278)\ttotal: 10.5s\tremaining: 790ms\n",
      "279:\tlearn: 7.9059363\ttest: 7.9144169\tbest: 7.9144169 (279)\ttotal: 10.5s\tremaining: 752ms\n",
      "280:\tlearn: 7.9058597\ttest: 7.9143558\tbest: 7.9143558 (280)\ttotal: 10.6s\tremaining: 714ms\n",
      "281:\tlearn: 7.9057824\ttest: 7.9142901\tbest: 7.9142901 (281)\ttotal: 10.6s\tremaining: 677ms\n",
      "282:\tlearn: 7.9057100\ttest: 7.9142496\tbest: 7.9142496 (282)\ttotal: 10.6s\tremaining: 639ms\n",
      "283:\tlearn: 7.9056327\ttest: 7.9141942\tbest: 7.9141942 (283)\ttotal: 10.7s\tremaining: 601ms\n",
      "284:\tlearn: 7.9055584\ttest: 7.9141310\tbest: 7.9141310 (284)\ttotal: 10.7s\tremaining: 564ms\n",
      "285:\tlearn: 7.9054773\ttest: 7.9140629\tbest: 7.9140629 (285)\ttotal: 10.7s\tremaining: 526ms\n",
      "286:\tlearn: 7.9054108\ttest: 7.9140136\tbest: 7.9140136 (286)\ttotal: 10.8s\tremaining: 488ms\n",
      "287:\tlearn: 7.9053360\ttest: 7.9139696\tbest: 7.9139696 (287)\ttotal: 10.8s\tremaining: 450ms\n",
      "288:\tlearn: 7.9052772\ttest: 7.9139130\tbest: 7.9139130 (288)\ttotal: 10.8s\tremaining: 413ms\n",
      "289:\tlearn: 7.9052096\ttest: 7.9138606\tbest: 7.9138606 (289)\ttotal: 10.9s\tremaining: 375ms\n",
      "290:\tlearn: 7.9051414\ttest: 7.9138196\tbest: 7.9138196 (290)\ttotal: 10.9s\tremaining: 338ms\n",
      "291:\tlearn: 7.9050802\ttest: 7.9137542\tbest: 7.9137542 (291)\ttotal: 11s\tremaining: 300ms\n",
      "292:\tlearn: 7.9050127\ttest: 7.9136984\tbest: 7.9136984 (292)\ttotal: 11s\tremaining: 263ms\n",
      "293:\tlearn: 7.9049389\ttest: 7.9136481\tbest: 7.9136481 (293)\ttotal: 11s\tremaining: 225ms\n",
      "294:\tlearn: 7.9048739\ttest: 7.9135933\tbest: 7.9135933 (294)\ttotal: 11.1s\tremaining: 188ms\n",
      "295:\tlearn: 7.9048054\ttest: 7.9135454\tbest: 7.9135454 (295)\ttotal: 11.1s\tremaining: 150ms\n",
      "296:\tlearn: 7.9047350\ttest: 7.9134885\tbest: 7.9134885 (296)\ttotal: 11.2s\tremaining: 113ms\n",
      "297:\tlearn: 7.9046630\ttest: 7.9134323\tbest: 7.9134323 (297)\ttotal: 11.2s\tremaining: 75.1ms\n",
      "298:\tlearn: 7.9045975\ttest: 7.9133806\tbest: 7.9133806 (298)\ttotal: 11.2s\tremaining: 37.6ms\n",
      "299:\tlearn: 7.9045138\ttest: 7.9133107\tbest: 7.9133107 (299)\ttotal: 11.3s\tremaining: 0us\n",
      "\n",
      "bestTest = 7.913310723\n",
      "bestIteration = 299\n",
      "\n"
     ]
    },
    {
     "data": {
      "text/plain": [
       "<catboost.core.CatBoostRegressor at 0x7f24400d2fd0>"
      ]
     },
     "execution_count": 22,
     "metadata": {},
     "output_type": "execute_result"
    }
   ],
   "source": [
    "CatBoost.fit(X_train, y_train,\n",
    "       early_stopping_rounds=5,\n",
    "       eval_set=[(X_test, y_test)],\n",
    "       verbose=True)"
   ]
  },
  {
   "cell_type": "code",
   "execution_count": 23,
   "id": "24f56a5f",
   "metadata": {
    "execution": {
     "iopub.execute_input": "2021-08-25T22:14:06.890891Z",
     "iopub.status.busy": "2021-08-25T22:14:06.889664Z",
     "iopub.status.idle": "2021-08-25T22:14:06.929667Z",
     "shell.execute_reply": "2021-08-25T22:14:06.929077Z",
     "shell.execute_reply.started": "2021-08-25T22:06:30.498361Z"
    },
    "papermill": {
     "duration": 0.102493,
     "end_time": "2021-08-25T22:14:06.929827",
     "exception": false,
     "start_time": "2021-08-25T22:14:06.827334",
     "status": "completed"
    },
    "tags": []
   },
   "outputs": [
    {
     "data": {
      "text/plain": [
       "array([6.6430466 , 6.83478401, 6.95813002, ..., 6.53335121, 6.95231888,\n",
       "       6.99946417])"
      ]
     },
     "execution_count": 23,
     "metadata": {},
     "output_type": "execute_result"
    }
   ],
   "source": [
    "y_pred = CatBoost.predict(X_test)\n",
    "y_pred"
   ]
  },
  {
   "cell_type": "code",
   "execution_count": 24,
   "id": "60c5037a",
   "metadata": {
    "execution": {
     "iopub.execute_input": "2021-08-25T22:14:07.048610Z",
     "iopub.status.busy": "2021-08-25T22:14:07.047633Z",
     "iopub.status.idle": "2021-08-25T22:14:07.050700Z",
     "shell.execute_reply": "2021-08-25T22:14:07.050182Z",
     "shell.execute_reply.started": "2021-08-25T22:06:31.628605Z"
    },
    "papermill": {
     "duration": 0.063635,
     "end_time": "2021-08-25T22:14:07.050849",
     "exception": false,
     "start_time": "2021-08-25T22:14:06.987214",
     "status": "completed"
    },
    "tags": []
   },
   "outputs": [],
   "source": [
    "from sklearn.metrics import r2_score\n",
    "from sklearn.metrics import median_absolute_error\n",
    "from sklearn.metrics import mean_absolute_error"
   ]
  },
  {
   "cell_type": "code",
   "execution_count": 25,
   "id": "46589007",
   "metadata": {
    "execution": {
     "iopub.execute_input": "2021-08-25T22:14:07.169530Z",
     "iopub.status.busy": "2021-08-25T22:14:07.168416Z",
     "iopub.status.idle": "2021-08-25T22:14:07.181397Z",
     "shell.execute_reply": "2021-08-25T22:14:07.180745Z",
     "shell.execute_reply.started": "2021-08-25T22:06:33.829940Z"
    },
    "papermill": {
     "duration": 0.074334,
     "end_time": "2021-08-25T22:14:07.181555",
     "exception": false,
     "start_time": "2021-08-25T22:14:07.107221",
     "status": "completed"
    },
    "tags": []
   },
   "outputs": [
    {
     "name": "stdout",
     "output_type": "stream",
     "text": [
      "r2 score:  0.0074619826275392764\n",
      "mean_absolute_error:  6.189129746880087\n",
      "median_absolute_error:  5.680899673172588\n"
     ]
    }
   ],
   "source": [
    "print('r2 score: ',r2_score(y_test, y_pred))\n",
    "print('mean_absolute_error: ',mean_absolute_error(y_test, y_pred))\n",
    "print('median_absolute_error: ',median_absolute_error(y_test, y_pred))"
   ]
  },
  {
   "cell_type": "code",
   "execution_count": 26,
   "id": "34dccd58",
   "metadata": {
    "execution": {
     "iopub.execute_input": "2021-08-25T22:14:07.397030Z",
     "iopub.status.busy": "2021-08-25T22:14:07.396348Z",
     "iopub.status.idle": "2021-08-25T22:14:07.402955Z",
     "shell.execute_reply": "2021-08-25T22:14:07.403493Z",
     "shell.execute_reply.started": "2021-08-25T22:07:13.159361Z"
    },
    "papermill": {
     "duration": 0.165512,
     "end_time": "2021-08-25T22:14:07.403670",
     "exception": false,
     "start_time": "2021-08-25T22:14:07.238158",
     "status": "completed"
    },
    "tags": []
   },
   "outputs": [
    {
     "data": {
      "text/html": [
       "<div>\n",
       "<style scoped>\n",
       "    .dataframe tbody tr th:only-of-type {\n",
       "        vertical-align: middle;\n",
       "    }\n",
       "\n",
       "    .dataframe tbody tr th {\n",
       "        vertical-align: top;\n",
       "    }\n",
       "\n",
       "    .dataframe thead th {\n",
       "        text-align: right;\n",
       "    }\n",
       "</style>\n",
       "<table border=\"1\" class=\"dataframe\">\n",
       "  <thead>\n",
       "    <tr style=\"text-align: right;\">\n",
       "      <th></th>\n",
       "      <th>f0</th>\n",
       "      <th>f1</th>\n",
       "      <th>f2</th>\n",
       "      <th>f3</th>\n",
       "      <th>f4</th>\n",
       "      <th>f5</th>\n",
       "      <th>f6</th>\n",
       "      <th>f7</th>\n",
       "      <th>f8</th>\n",
       "      <th>f9</th>\n",
       "      <th>...</th>\n",
       "      <th>f90</th>\n",
       "      <th>f91</th>\n",
       "      <th>f92</th>\n",
       "      <th>f93</th>\n",
       "      <th>f94</th>\n",
       "      <th>f95</th>\n",
       "      <th>f96</th>\n",
       "      <th>f97</th>\n",
       "      <th>f98</th>\n",
       "      <th>f99</th>\n",
       "    </tr>\n",
       "  </thead>\n",
       "  <tbody>\n",
       "    <tr>\n",
       "      <th>0</th>\n",
       "      <td>0.812665</td>\n",
       "      <td>15</td>\n",
       "      <td>-1.239120</td>\n",
       "      <td>-0.893251</td>\n",
       "      <td>295.5770</td>\n",
       "      <td>15.87120</td>\n",
       "      <td>23.04360</td>\n",
       "      <td>0.942256</td>\n",
       "      <td>29.898000</td>\n",
       "      <td>1.11394</td>\n",
       "      <td>...</td>\n",
       "      <td>0.446389</td>\n",
       "      <td>-422.332</td>\n",
       "      <td>-1.44630</td>\n",
       "      <td>1.69075</td>\n",
       "      <td>1.059300</td>\n",
       "      <td>-3.010570</td>\n",
       "      <td>1.94664</td>\n",
       "      <td>0.529470</td>\n",
       "      <td>1.386950</td>\n",
       "      <td>8.78767</td>\n",
       "    </tr>\n",
       "    <tr>\n",
       "      <th>1</th>\n",
       "      <td>0.190344</td>\n",
       "      <td>131</td>\n",
       "      <td>-0.501361</td>\n",
       "      <td>0.801921</td>\n",
       "      <td>64.8866</td>\n",
       "      <td>3.09703</td>\n",
       "      <td>344.80500</td>\n",
       "      <td>0.807194</td>\n",
       "      <td>38.421900</td>\n",
       "      <td>1.09695</td>\n",
       "      <td>...</td>\n",
       "      <td>0.377179</td>\n",
       "      <td>10352.200</td>\n",
       "      <td>21.06270</td>\n",
       "      <td>1.84351</td>\n",
       "      <td>0.251895</td>\n",
       "      <td>4.440570</td>\n",
       "      <td>1.90309</td>\n",
       "      <td>0.248534</td>\n",
       "      <td>0.863881</td>\n",
       "      <td>11.79390</td>\n",
       "    </tr>\n",
       "    <tr>\n",
       "      <th>2</th>\n",
       "      <td>0.919671</td>\n",
       "      <td>19</td>\n",
       "      <td>-0.057382</td>\n",
       "      <td>0.901419</td>\n",
       "      <td>11961.2000</td>\n",
       "      <td>16.39650</td>\n",
       "      <td>273.24000</td>\n",
       "      <td>-0.003300</td>\n",
       "      <td>37.940000</td>\n",
       "      <td>1.15222</td>\n",
       "      <td>...</td>\n",
       "      <td>0.990140</td>\n",
       "      <td>3224.020</td>\n",
       "      <td>-2.25287</td>\n",
       "      <td>1.55100</td>\n",
       "      <td>-0.559157</td>\n",
       "      <td>17.838600</td>\n",
       "      <td>1.83385</td>\n",
       "      <td>0.931796</td>\n",
       "      <td>2.336870</td>\n",
       "      <td>9.05400</td>\n",
       "    </tr>\n",
       "    <tr>\n",
       "      <th>3</th>\n",
       "      <td>0.860985</td>\n",
       "      <td>19</td>\n",
       "      <td>-0.549509</td>\n",
       "      <td>0.471799</td>\n",
       "      <td>7501.6000</td>\n",
       "      <td>2.80698</td>\n",
       "      <td>71.08170</td>\n",
       "      <td>0.792136</td>\n",
       "      <td>0.395235</td>\n",
       "      <td>1.20157</td>\n",
       "      <td>...</td>\n",
       "      <td>1.396880</td>\n",
       "      <td>9689.760</td>\n",
       "      <td>14.77150</td>\n",
       "      <td>1.41390</td>\n",
       "      <td>0.329272</td>\n",
       "      <td>0.802437</td>\n",
       "      <td>2.23251</td>\n",
       "      <td>0.893348</td>\n",
       "      <td>1.359470</td>\n",
       "      <td>4.84833</td>\n",
       "    </tr>\n",
       "    <tr>\n",
       "      <th>4</th>\n",
       "      <td>0.313229</td>\n",
       "      <td>89</td>\n",
       "      <td>0.588509</td>\n",
       "      <td>0.167705</td>\n",
       "      <td>2931.2600</td>\n",
       "      <td>4.34986</td>\n",
       "      <td>1.57187</td>\n",
       "      <td>1.118300</td>\n",
       "      <td>7.754630</td>\n",
       "      <td>1.16807</td>\n",
       "      <td>...</td>\n",
       "      <td>0.862502</td>\n",
       "      <td>2693.350</td>\n",
       "      <td>44.18050</td>\n",
       "      <td>1.58020</td>\n",
       "      <td>-0.191021</td>\n",
       "      <td>26.253000</td>\n",
       "      <td>2.68238</td>\n",
       "      <td>0.361923</td>\n",
       "      <td>1.532800</td>\n",
       "      <td>3.70660</td>\n",
       "    </tr>\n",
       "  </tbody>\n",
       "</table>\n",
       "<p>5 rows × 100 columns</p>\n",
       "</div>"
      ],
      "text/plain": [
       "         f0   f1        f2        f3          f4        f5         f6  \\\n",
       "0  0.812665   15 -1.239120 -0.893251    295.5770  15.87120   23.04360   \n",
       "1  0.190344  131 -0.501361  0.801921     64.8866   3.09703  344.80500   \n",
       "2  0.919671   19 -0.057382  0.901419  11961.2000  16.39650  273.24000   \n",
       "3  0.860985   19 -0.549509  0.471799   7501.6000   2.80698   71.08170   \n",
       "4  0.313229   89  0.588509  0.167705   2931.2600   4.34986    1.57187   \n",
       "\n",
       "         f7         f8       f9  ...       f90        f91       f92      f93  \\\n",
       "0  0.942256  29.898000  1.11394  ...  0.446389   -422.332  -1.44630  1.69075   \n",
       "1  0.807194  38.421900  1.09695  ...  0.377179  10352.200  21.06270  1.84351   \n",
       "2 -0.003300  37.940000  1.15222  ...  0.990140   3224.020  -2.25287  1.55100   \n",
       "3  0.792136   0.395235  1.20157  ...  1.396880   9689.760  14.77150  1.41390   \n",
       "4  1.118300   7.754630  1.16807  ...  0.862502   2693.350  44.18050  1.58020   \n",
       "\n",
       "        f94        f95      f96       f97       f98       f99  \n",
       "0  1.059300  -3.010570  1.94664  0.529470  1.386950   8.78767  \n",
       "1  0.251895   4.440570  1.90309  0.248534  0.863881  11.79390  \n",
       "2 -0.559157  17.838600  1.83385  0.931796  2.336870   9.05400  \n",
       "3  0.329272   0.802437  2.23251  0.893348  1.359470   4.84833  \n",
       "4 -0.191021  26.253000  2.68238  0.361923  1.532800   3.70660  \n",
       "\n",
       "[5 rows x 100 columns]"
      ]
     },
     "execution_count": 26,
     "metadata": {},
     "output_type": "execute_result"
    }
   ],
   "source": [
    "test_data = test_data.drop('id', axis=1)\n",
    "test_data.head()"
   ]
  },
  {
   "cell_type": "code",
   "execution_count": 27,
   "id": "f822ab9a",
   "metadata": {
    "execution": {
     "iopub.execute_input": "2021-08-25T22:14:07.526412Z",
     "iopub.status.busy": "2021-08-25T22:14:07.524931Z",
     "iopub.status.idle": "2021-08-25T22:14:08.168899Z",
     "shell.execute_reply": "2021-08-25T22:14:08.168307Z",
     "shell.execute_reply.started": "2021-08-25T22:07:44.065824Z"
    },
    "papermill": {
     "duration": 0.708889,
     "end_time": "2021-08-25T22:14:08.169059",
     "exception": false,
     "start_time": "2021-08-25T22:14:07.460170",
     "status": "completed"
    },
    "tags": []
   },
   "outputs": [],
   "source": [
    "test_scaled = StandardScaler().fit_transform(test_data)"
   ]
  },
  {
   "cell_type": "code",
   "execution_count": 28,
   "id": "9f91bd47",
   "metadata": {
    "execution": {
     "iopub.execute_input": "2021-08-25T22:14:08.288570Z",
     "iopub.status.busy": "2021-08-25T22:14:08.287430Z",
     "iopub.status.idle": "2021-08-25T22:14:08.353047Z",
     "shell.execute_reply": "2021-08-25T22:14:08.352506Z",
     "shell.execute_reply.started": "2021-08-25T22:08:26.492903Z"
    },
    "papermill": {
     "duration": 0.12795,
     "end_time": "2021-08-25T22:14:08.353198",
     "exception": false,
     "start_time": "2021-08-25T22:14:08.225248",
     "status": "completed"
    },
    "tags": []
   },
   "outputs": [],
   "source": [
    "test_pred = CatBoost.predict(test_scaled)"
   ]
  },
  {
   "cell_type": "code",
   "execution_count": 29,
   "id": "ff54aca4",
   "metadata": {
    "execution": {
     "iopub.execute_input": "2021-08-25T22:14:08.477149Z",
     "iopub.status.busy": "2021-08-25T22:14:08.476268Z",
     "iopub.status.idle": "2021-08-25T22:14:08.531125Z",
     "shell.execute_reply": "2021-08-25T22:14:08.530574Z",
     "shell.execute_reply.started": "2021-08-25T22:09:04.349215Z"
    },
    "papermill": {
     "duration": 0.121569,
     "end_time": "2021-08-25T22:14:08.531262",
     "exception": false,
     "start_time": "2021-08-25T22:14:08.409693",
     "status": "completed"
    },
    "tags": []
   },
   "outputs": [
    {
     "data": {
      "text/html": [
       "<div>\n",
       "<style scoped>\n",
       "    .dataframe tbody tr th:only-of-type {\n",
       "        vertical-align: middle;\n",
       "    }\n",
       "\n",
       "    .dataframe tbody tr th {\n",
       "        vertical-align: top;\n",
       "    }\n",
       "\n",
       "    .dataframe thead th {\n",
       "        text-align: right;\n",
       "    }\n",
       "</style>\n",
       "<table border=\"1\" class=\"dataframe\">\n",
       "  <thead>\n",
       "    <tr style=\"text-align: right;\">\n",
       "      <th></th>\n",
       "      <th>id</th>\n",
       "      <th>loss</th>\n",
       "    </tr>\n",
       "  </thead>\n",
       "  <tbody>\n",
       "    <tr>\n",
       "      <th>0</th>\n",
       "      <td>250000</td>\n",
       "      <td>0</td>\n",
       "    </tr>\n",
       "    <tr>\n",
       "      <th>1</th>\n",
       "      <td>250001</td>\n",
       "      <td>0</td>\n",
       "    </tr>\n",
       "    <tr>\n",
       "      <th>2</th>\n",
       "      <td>250002</td>\n",
       "      <td>0</td>\n",
       "    </tr>\n",
       "    <tr>\n",
       "      <th>3</th>\n",
       "      <td>250003</td>\n",
       "      <td>0</td>\n",
       "    </tr>\n",
       "    <tr>\n",
       "      <th>4</th>\n",
       "      <td>250004</td>\n",
       "      <td>0</td>\n",
       "    </tr>\n",
       "    <tr>\n",
       "      <th>...</th>\n",
       "      <td>...</td>\n",
       "      <td>...</td>\n",
       "    </tr>\n",
       "    <tr>\n",
       "      <th>149995</th>\n",
       "      <td>399995</td>\n",
       "      <td>0</td>\n",
       "    </tr>\n",
       "    <tr>\n",
       "      <th>149996</th>\n",
       "      <td>399996</td>\n",
       "      <td>0</td>\n",
       "    </tr>\n",
       "    <tr>\n",
       "      <th>149997</th>\n",
       "      <td>399997</td>\n",
       "      <td>0</td>\n",
       "    </tr>\n",
       "    <tr>\n",
       "      <th>149998</th>\n",
       "      <td>399998</td>\n",
       "      <td>0</td>\n",
       "    </tr>\n",
       "    <tr>\n",
       "      <th>149999</th>\n",
       "      <td>399999</td>\n",
       "      <td>0</td>\n",
       "    </tr>\n",
       "  </tbody>\n",
       "</table>\n",
       "<p>150000 rows × 2 columns</p>\n",
       "</div>"
      ],
      "text/plain": [
       "            id  loss\n",
       "0       250000     0\n",
       "1       250001     0\n",
       "2       250002     0\n",
       "3       250003     0\n",
       "4       250004     0\n",
       "...        ...   ...\n",
       "149995  399995     0\n",
       "149996  399996     0\n",
       "149997  399997     0\n",
       "149998  399998     0\n",
       "149999  399999     0\n",
       "\n",
       "[150000 rows x 2 columns]"
      ]
     },
     "execution_count": 29,
     "metadata": {},
     "output_type": "execute_result"
    }
   ],
   "source": [
    "sample_sub = pd.read_csv('../input/tabular-playground-series-aug-2021/sample_submission.csv')\n",
    "sample_sub"
   ]
  },
  {
   "cell_type": "code",
   "execution_count": 30,
   "id": "65d81728",
   "metadata": {
    "execution": {
     "iopub.execute_input": "2021-08-25T22:14:08.675190Z",
     "iopub.status.busy": "2021-08-25T22:14:08.674498Z",
     "iopub.status.idle": "2021-08-25T22:14:08.703256Z",
     "shell.execute_reply": "2021-08-25T22:14:08.702352Z",
     "shell.execute_reply.started": "2021-08-25T22:09:20.440107Z"
    },
    "papermill": {
     "duration": 0.092449,
     "end_time": "2021-08-25T22:14:08.703485",
     "exception": false,
     "start_time": "2021-08-25T22:14:08.611036",
     "status": "completed"
    },
    "tags": []
   },
   "outputs": [
    {
     "data": {
      "text/html": [
       "<div>\n",
       "<style scoped>\n",
       "    .dataframe tbody tr th:only-of-type {\n",
       "        vertical-align: middle;\n",
       "    }\n",
       "\n",
       "    .dataframe tbody tr th {\n",
       "        vertical-align: top;\n",
       "    }\n",
       "\n",
       "    .dataframe thead th {\n",
       "        text-align: right;\n",
       "    }\n",
       "</style>\n",
       "<table border=\"1\" class=\"dataframe\">\n",
       "  <thead>\n",
       "    <tr style=\"text-align: right;\">\n",
       "      <th></th>\n",
       "      <th>id</th>\n",
       "      <th>loss</th>\n",
       "    </tr>\n",
       "  </thead>\n",
       "  <tbody>\n",
       "    <tr>\n",
       "      <th>0</th>\n",
       "      <td>250000</td>\n",
       "      <td>6.996065</td>\n",
       "    </tr>\n",
       "    <tr>\n",
       "      <th>1</th>\n",
       "      <td>250001</td>\n",
       "      <td>6.875560</td>\n",
       "    </tr>\n",
       "    <tr>\n",
       "      <th>2</th>\n",
       "      <td>250002</td>\n",
       "      <td>7.137420</td>\n",
       "    </tr>\n",
       "    <tr>\n",
       "      <th>3</th>\n",
       "      <td>250003</td>\n",
       "      <td>6.981574</td>\n",
       "    </tr>\n",
       "    <tr>\n",
       "      <th>4</th>\n",
       "      <td>250004</td>\n",
       "      <td>6.962982</td>\n",
       "    </tr>\n",
       "    <tr>\n",
       "      <th>...</th>\n",
       "      <td>...</td>\n",
       "      <td>...</td>\n",
       "    </tr>\n",
       "    <tr>\n",
       "      <th>149995</th>\n",
       "      <td>399995</td>\n",
       "      <td>8.001895</td>\n",
       "    </tr>\n",
       "    <tr>\n",
       "      <th>149996</th>\n",
       "      <td>399996</td>\n",
       "      <td>7.899559</td>\n",
       "    </tr>\n",
       "    <tr>\n",
       "      <th>149997</th>\n",
       "      <td>399997</td>\n",
       "      <td>7.145663</td>\n",
       "    </tr>\n",
       "    <tr>\n",
       "      <th>149998</th>\n",
       "      <td>399998</td>\n",
       "      <td>6.998126</td>\n",
       "    </tr>\n",
       "    <tr>\n",
       "      <th>149999</th>\n",
       "      <td>399999</td>\n",
       "      <td>6.963844</td>\n",
       "    </tr>\n",
       "  </tbody>\n",
       "</table>\n",
       "<p>150000 rows × 2 columns</p>\n",
       "</div>"
      ],
      "text/plain": [
       "            id      loss\n",
       "0       250000  6.996065\n",
       "1       250001  6.875560\n",
       "2       250002  7.137420\n",
       "3       250003  6.981574\n",
       "4       250004  6.962982\n",
       "...        ...       ...\n",
       "149995  399995  8.001895\n",
       "149996  399996  7.899559\n",
       "149997  399997  7.145663\n",
       "149998  399998  6.998126\n",
       "149999  399999  6.963844\n",
       "\n",
       "[150000 rows x 2 columns]"
      ]
     },
     "execution_count": 30,
     "metadata": {},
     "output_type": "execute_result"
    }
   ],
   "source": [
    "sample_sub['loss'] = test_pred\n",
    "sample_sub"
   ]
  },
  {
   "cell_type": "code",
   "execution_count": 31,
   "id": "4a3dc930",
   "metadata": {
    "execution": {
     "iopub.execute_input": "2021-08-25T22:14:08.839928Z",
     "iopub.status.busy": "2021-08-25T22:14:08.839124Z",
     "iopub.status.idle": "2021-08-25T22:14:09.392686Z",
     "shell.execute_reply": "2021-08-25T22:14:09.391971Z",
     "shell.execute_reply.started": "2021-08-25T22:09:30.986618Z"
    },
    "papermill": {
     "duration": 0.626076,
     "end_time": "2021-08-25T22:14:09.392839",
     "exception": false,
     "start_time": "2021-08-25T22:14:08.766763",
     "status": "completed"
    },
    "tags": []
   },
   "outputs": [],
   "source": [
    "sample_sub.to_csv(\"submission.csv\", index=False)"
   ]
  }
 ],
 "metadata": {
  "kernelspec": {
   "display_name": "Python 3",
   "language": "python",
   "name": "python3"
  },
  "language_info": {
   "codemirror_mode": {
    "name": "ipython",
    "version": 3
   },
   "file_extension": ".py",
   "mimetype": "text/x-python",
   "name": "python",
   "nbconvert_exporter": "python",
   "pygments_lexer": "ipython3",
   "version": "3.7.10"
  },
  "papermill": {
   "default_parameters": {},
   "duration": 179.929845,
   "end_time": "2021-08-25T22:14:10.963533",
   "environment_variables": {},
   "exception": null,
   "input_path": "__notebook__.ipynb",
   "output_path": "__notebook__.ipynb",
   "parameters": {},
   "start_time": "2021-08-25T22:11:11.033688",
   "version": "2.3.3"
  }
 },
 "nbformat": 4,
 "nbformat_minor": 5
}
